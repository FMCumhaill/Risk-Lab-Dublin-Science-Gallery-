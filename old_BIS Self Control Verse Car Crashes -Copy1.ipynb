{
 "cells": [
  {
   "cell_type": "markdown",
   "metadata": {},
   "source": [
    "## Barratt Impulsiveness Scale (Self Control Measure) as a predictor of the number of car crashes\n",
    "**This is private data. Please do not share**\n",
    "\n",
    "* Date: 2017 - 12 - 06 \n",
    "* Version: 1 - Draft \n",
    "* Editors: Fionn Delahunty \n",
    "\n",
    "------- \n",
    "This notebook (R code) investigates if Barratt Impulsiveness Scale (BIS) self control measure is a predictor of the number of car crashes in the sample data. \n",
    "\n",
    "Summary of steps\n",
    "1. Dataset import \n",
    "2. Testing distribution of self control measure \n",
    "3. Testing distribution of car crash measure \n",
    "4. Investigating predictor \n",
    "5. Summary\n",
    "------\n"
   ]
  },
  {
   "cell_type": "markdown",
   "metadata": {},
   "source": [
    "### 1. Dataset Import"
   ]
  },
  {
   "cell_type": "code",
   "execution_count": 4,
   "metadata": {},
   "outputs": [
    {
     "data": {
      "text/html": [
       "<ol class=list-inline>\n",
       "\t<li>'ID'</li>\n",
       "\t<li>'X'</li>\n",
       "\t<li>'Timestamp'</li>\n",
       "\t<li>'GENDER'</li>\n",
       "\t<li>'AGE'</li>\n",
       "\t<li>'DATE_OF_BIRTH'</li>\n",
       "\t<li>'NATIONALITY'</li>\n",
       "\t<li>'COUNTRY_OF_RESIDENCE'</li>\n",
       "\t<li>'ENGLISH_FIRST_LENGUAGE'</li>\n",
       "\t<li>'IF_NOT_ENGLISH_SPECIFY'</li>\n",
       "\t<li>'HIGHEST_LEVEL_EDUCATION'</li>\n",
       "\t<li>'OCCUPATION'</li>\n",
       "\t<li>'DOMINANT_HAND'</li>\n",
       "\t<li>'DO_YOU_DRIVE'</li>\n",
       "\t<li>'CURRENTLY_LEARNING_DRIVE'</li>\n",
       "\t<li>'CURRENTLY_HOLD_LEARNING_DRIVER_PERMIT'</li>\n",
       "\t<li>'CURRENTLY_HOLD_FULL_DRIVING_LICENSE'</li>\n",
       "\t<li>'RECEIVE_FULL_DRIVING_LICENSE'</li>\n",
       "\t<li>'AGE_STARTED_DRIVING'</li>\n",
       "\t<li>'AVERAGE_KM_MILEAGE_PER_YEAR'</li>\n",
       "\t<li>'HAVE_PENALTY_POINTS'</li>\n",
       "\t<li>'PENALTY_POINTS_FOR_WHAT'</li>\n",
       "\t<li>'COLLISIONS_LAST_TWO_YEARS'</li>\n",
       "\t<li>'HOW_MANY_COLLISIONS_LAST_TWO_YEARS'</li>\n",
       "\t<li>'HOW_SERIOUS_COLLISIONS'</li>\n",
       "\t<li>'FOR_HOW_MANY_WERE_CULPABLE'</li>\n",
       "\t<li>'EVER_SMOKED'</li>\n",
       "\t<li>'SMOKE_CURRENTLY'</li>\n",
       "\t<li>'HOW_MANY_YEARS_SMOKING'</li>\n",
       "\t<li>'HOW_MANY_CIGARETTES_PER_WEEK'</li>\n",
       "\t<li>'EVER_DRANK_ALCOHOL'</li>\n",
       "\t<li>'DRINK_CURRENTLY'</li>\n",
       "\t<li>'HOW_MANY_YEARS_DRINKING'</li>\n",
       "\t<li>'HOW_MUCH_UNITS_OF_ALCOHOL_PER_WEEK'</li>\n",
       "\t<li>'PREVIOUSLY_DIAGNOSED_HEALTH_CONDITION_REQUIRING_SIGNIFICANT_LIFESTYLE_CHANGES.'</li>\n",
       "\t<li>'CONSIDER_YOURSELF_RISKTAKER'</li>\n",
       "\t<li>'DEAL_WITH_RISK_AND_UNCERTANTLY_DAILY_BASIS'</li>\n",
       "\t<li>'Admitting.that.your.tastes.are.different.from.those.of.a.friend'</li>\n",
       "\t<li>'BIS_Cog_Instability'</li>\n",
       "\t<li>'BIS_Perseverance'</li>\n",
       "\t<li>'BIS_self_control'</li>\n",
       "\t<li>'BIS_Cog_Complexity'</li>\n",
       "\t<li>'DOS_Ethical'</li>\n",
       "\t<li>'DOS_Fin_Investment'</li>\n",
       "\t<li>'DOS_Fin_Gambling'</li>\n",
       "\t<li>'DOS_HealthSafety'</li>\n",
       "\t<li>'DOS_Recreational'</li>\n",
       "\t<li>'DOS_Social'</li>\n",
       "\t<li>'Number_of_Crashes'</li>\n",
       "\t<li>'BIS_Crashes'</li>\n",
       "</ol>\n"
      ],
      "text/latex": [
       "\\begin{enumerate*}\n",
       "\\item 'ID'\n",
       "\\item 'X'\n",
       "\\item 'Timestamp'\n",
       "\\item 'GENDER'\n",
       "\\item 'AGE'\n",
       "\\item 'DATE\\_OF\\_BIRTH'\n",
       "\\item 'NATIONALITY'\n",
       "\\item 'COUNTRY\\_OF\\_RESIDENCE'\n",
       "\\item 'ENGLISH\\_FIRST\\_LENGUAGE'\n",
       "\\item 'IF\\_NOT\\_ENGLISH\\_SPECIFY'\n",
       "\\item 'HIGHEST\\_LEVEL\\_EDUCATION'\n",
       "\\item 'OCCUPATION'\n",
       "\\item 'DOMINANT\\_HAND'\n",
       "\\item 'DO\\_YOU\\_DRIVE'\n",
       "\\item 'CURRENTLY\\_LEARNING\\_DRIVE'\n",
       "\\item 'CURRENTLY\\_HOLD\\_LEARNING\\_DRIVER\\_PERMIT'\n",
       "\\item 'CURRENTLY\\_HOLD\\_FULL\\_DRIVING\\_LICENSE'\n",
       "\\item 'RECEIVE\\_FULL\\_DRIVING\\_LICENSE'\n",
       "\\item 'AGE\\_STARTED\\_DRIVING'\n",
       "\\item 'AVERAGE\\_KM\\_MILEAGE\\_PER\\_YEAR'\n",
       "\\item 'HAVE\\_PENALTY\\_POINTS'\n",
       "\\item 'PENALTY\\_POINTS\\_FOR\\_WHAT'\n",
       "\\item 'COLLISIONS\\_LAST\\_TWO\\_YEARS'\n",
       "\\item 'HOW\\_MANY\\_COLLISIONS\\_LAST\\_TWO\\_YEARS'\n",
       "\\item 'HOW\\_SERIOUS\\_COLLISIONS'\n",
       "\\item 'FOR\\_HOW\\_MANY\\_WERE\\_CULPABLE'\n",
       "\\item 'EVER\\_SMOKED'\n",
       "\\item 'SMOKE\\_CURRENTLY'\n",
       "\\item 'HOW\\_MANY\\_YEARS\\_SMOKING'\n",
       "\\item 'HOW\\_MANY\\_CIGARETTES\\_PER\\_WEEK'\n",
       "\\item 'EVER\\_DRANK\\_ALCOHOL'\n",
       "\\item 'DRINK\\_CURRENTLY'\n",
       "\\item 'HOW\\_MANY\\_YEARS\\_DRINKING'\n",
       "\\item 'HOW\\_MUCH\\_UNITS\\_OF\\_ALCOHOL\\_PER\\_WEEK'\n",
       "\\item 'PREVIOUSLY\\_DIAGNOSED\\_HEALTH\\_CONDITION\\_REQUIRING\\_SIGNIFICANT\\_LIFESTYLE\\_CHANGES.'\n",
       "\\item 'CONSIDER\\_YOURSELF\\_RISKTAKER'\n",
       "\\item 'DEAL\\_WITH\\_RISK\\_AND\\_UNCERTANTLY\\_DAILY\\_BASIS'\n",
       "\\item 'Admitting.that.your.tastes.are.different.from.those.of.a.friend'\n",
       "\\item 'BIS\\_Cog\\_Instability'\n",
       "\\item 'BIS\\_Perseverance'\n",
       "\\item 'BIS\\_self\\_control'\n",
       "\\item 'BIS\\_Cog\\_Complexity'\n",
       "\\item 'DOS\\_Ethical'\n",
       "\\item 'DOS\\_Fin\\_Investment'\n",
       "\\item 'DOS\\_Fin\\_Gambling'\n",
       "\\item 'DOS\\_HealthSafety'\n",
       "\\item 'DOS\\_Recreational'\n",
       "\\item 'DOS\\_Social'\n",
       "\\item 'Number\\_of\\_Crashes'\n",
       "\\item 'BIS\\_Crashes'\n",
       "\\end{enumerate*}\n"
      ],
      "text/markdown": [
       "1. 'ID'\n",
       "2. 'X'\n",
       "3. 'Timestamp'\n",
       "4. 'GENDER'\n",
       "5. 'AGE'\n",
       "6. 'DATE_OF_BIRTH'\n",
       "7. 'NATIONALITY'\n",
       "8. 'COUNTRY_OF_RESIDENCE'\n",
       "9. 'ENGLISH_FIRST_LENGUAGE'\n",
       "10. 'IF_NOT_ENGLISH_SPECIFY'\n",
       "11. 'HIGHEST_LEVEL_EDUCATION'\n",
       "12. 'OCCUPATION'\n",
       "13. 'DOMINANT_HAND'\n",
       "14. 'DO_YOU_DRIVE'\n",
       "15. 'CURRENTLY_LEARNING_DRIVE'\n",
       "16. 'CURRENTLY_HOLD_LEARNING_DRIVER_PERMIT'\n",
       "17. 'CURRENTLY_HOLD_FULL_DRIVING_LICENSE'\n",
       "18. 'RECEIVE_FULL_DRIVING_LICENSE'\n",
       "19. 'AGE_STARTED_DRIVING'\n",
       "20. 'AVERAGE_KM_MILEAGE_PER_YEAR'\n",
       "21. 'HAVE_PENALTY_POINTS'\n",
       "22. 'PENALTY_POINTS_FOR_WHAT'\n",
       "23. 'COLLISIONS_LAST_TWO_YEARS'\n",
       "24. 'HOW_MANY_COLLISIONS_LAST_TWO_YEARS'\n",
       "25. 'HOW_SERIOUS_COLLISIONS'\n",
       "26. 'FOR_HOW_MANY_WERE_CULPABLE'\n",
       "27. 'EVER_SMOKED'\n",
       "28. 'SMOKE_CURRENTLY'\n",
       "29. 'HOW_MANY_YEARS_SMOKING'\n",
       "30. 'HOW_MANY_CIGARETTES_PER_WEEK'\n",
       "31. 'EVER_DRANK_ALCOHOL'\n",
       "32. 'DRINK_CURRENTLY'\n",
       "33. 'HOW_MANY_YEARS_DRINKING'\n",
       "34. 'HOW_MUCH_UNITS_OF_ALCOHOL_PER_WEEK'\n",
       "35. 'PREVIOUSLY_DIAGNOSED_HEALTH_CONDITION_REQUIRING_SIGNIFICANT_LIFESTYLE_CHANGES.'\n",
       "36. 'CONSIDER_YOURSELF_RISKTAKER'\n",
       "37. 'DEAL_WITH_RISK_AND_UNCERTANTLY_DAILY_BASIS'\n",
       "38. 'Admitting.that.your.tastes.are.different.from.those.of.a.friend'\n",
       "39. 'BIS_Cog_Instability'\n",
       "40. 'BIS_Perseverance'\n",
       "41. 'BIS_self_control'\n",
       "42. 'BIS_Cog_Complexity'\n",
       "43. 'DOS_Ethical'\n",
       "44. 'DOS_Fin_Investment'\n",
       "45. 'DOS_Fin_Gambling'\n",
       "46. 'DOS_HealthSafety'\n",
       "47. 'DOS_Recreational'\n",
       "48. 'DOS_Social'\n",
       "49. 'Number_of_Crashes'\n",
       "50. 'BIS_Crashes'\n",
       "\n",
       "\n"
      ],
      "text/plain": [
       " [1] \"ID\"                                                                            \n",
       " [2] \"X\"                                                                             \n",
       " [3] \"Timestamp\"                                                                     \n",
       " [4] \"GENDER\"                                                                        \n",
       " [5] \"AGE\"                                                                           \n",
       " [6] \"DATE_OF_BIRTH\"                                                                 \n",
       " [7] \"NATIONALITY\"                                                                   \n",
       " [8] \"COUNTRY_OF_RESIDENCE\"                                                          \n",
       " [9] \"ENGLISH_FIRST_LENGUAGE\"                                                        \n",
       "[10] \"IF_NOT_ENGLISH_SPECIFY\"                                                        \n",
       "[11] \"HIGHEST_LEVEL_EDUCATION\"                                                       \n",
       "[12] \"OCCUPATION\"                                                                    \n",
       "[13] \"DOMINANT_HAND\"                                                                 \n",
       "[14] \"DO_YOU_DRIVE\"                                                                  \n",
       "[15] \"CURRENTLY_LEARNING_DRIVE\"                                                      \n",
       "[16] \"CURRENTLY_HOLD_LEARNING_DRIVER_PERMIT\"                                         \n",
       "[17] \"CURRENTLY_HOLD_FULL_DRIVING_LICENSE\"                                           \n",
       "[18] \"RECEIVE_FULL_DRIVING_LICENSE\"                                                  \n",
       "[19] \"AGE_STARTED_DRIVING\"                                                           \n",
       "[20] \"AVERAGE_KM_MILEAGE_PER_YEAR\"                                                   \n",
       "[21] \"HAVE_PENALTY_POINTS\"                                                           \n",
       "[22] \"PENALTY_POINTS_FOR_WHAT\"                                                       \n",
       "[23] \"COLLISIONS_LAST_TWO_YEARS\"                                                     \n",
       "[24] \"HOW_MANY_COLLISIONS_LAST_TWO_YEARS\"                                            \n",
       "[25] \"HOW_SERIOUS_COLLISIONS\"                                                        \n",
       "[26] \"FOR_HOW_MANY_WERE_CULPABLE\"                                                    \n",
       "[27] \"EVER_SMOKED\"                                                                   \n",
       "[28] \"SMOKE_CURRENTLY\"                                                               \n",
       "[29] \"HOW_MANY_YEARS_SMOKING\"                                                        \n",
       "[30] \"HOW_MANY_CIGARETTES_PER_WEEK\"                                                  \n",
       "[31] \"EVER_DRANK_ALCOHOL\"                                                            \n",
       "[32] \"DRINK_CURRENTLY\"                                                               \n",
       "[33] \"HOW_MANY_YEARS_DRINKING\"                                                       \n",
       "[34] \"HOW_MUCH_UNITS_OF_ALCOHOL_PER_WEEK\"                                            \n",
       "[35] \"PREVIOUSLY_DIAGNOSED_HEALTH_CONDITION_REQUIRING_SIGNIFICANT_LIFESTYLE_CHANGES.\"\n",
       "[36] \"CONSIDER_YOURSELF_RISKTAKER\"                                                   \n",
       "[37] \"DEAL_WITH_RISK_AND_UNCERTANTLY_DAILY_BASIS\"                                    \n",
       "[38] \"Admitting.that.your.tastes.are.different.from.those.of.a.friend\"               \n",
       "[39] \"BIS_Cog_Instability\"                                                           \n",
       "[40] \"BIS_Perseverance\"                                                              \n",
       "[41] \"BIS_self_control\"                                                              \n",
       "[42] \"BIS_Cog_Complexity\"                                                            \n",
       "[43] \"DOS_Ethical\"                                                                   \n",
       "[44] \"DOS_Fin_Investment\"                                                            \n",
       "[45] \"DOS_Fin_Gambling\"                                                              \n",
       "[46] \"DOS_HealthSafety\"                                                              \n",
       "[47] \"DOS_Recreational\"                                                              \n",
       "[48] \"DOS_Social\"                                                                    \n",
       "[49] \"Number_of_Crashes\"                                                             \n",
       "[50] \"BIS_Crashes\"                                                                   "
      ]
     },
     "metadata": {},
     "output_type": "display_data"
    }
   ],
   "source": [
    "# Dataset Import \n",
    "data <- read.csv(file=\"Risklab_2.5.csv\", header=TRUE, sep=\",\")\n",
    "names(data)"
   ]
  },
  {
   "cell_type": "markdown",
   "metadata": {},
   "source": [
    "### 2. Testing distribution of self control measure "
   ]
  },
  {
   "cell_type": "code",
   "execution_count": 8,
   "metadata": {},
   "outputs": [
    {
     "data": {
      "text/html": [
       "<table>\n",
       "<thead><tr><th></th><th scope=col>vars</th><th scope=col>n</th><th scope=col>mean</th><th scope=col>sd</th><th scope=col>median</th><th scope=col>trimmed</th><th scope=col>mad</th><th scope=col>min</th><th scope=col>max</th><th scope=col>range</th><th scope=col>skew</th><th scope=col>kurtosis</th><th scope=col>se</th></tr></thead>\n",
       "<tbody>\n",
       "\t<tr><th scope=row>X1</th><td>1           </td><td>141         </td><td>16.37589    </td><td>2.892204    </td><td>16          </td><td>16.38053    </td><td>2.9652      </td><td>9           </td><td>22          </td><td>13          </td><td>-0.009693318</td><td>-0.8015967  </td><td>0.2435675   </td></tr>\n",
       "</tbody>\n",
       "</table>\n"
      ],
      "text/latex": [
       "\\begin{tabular}{r|lllllllllllll}\n",
       "  & vars & n & mean & sd & median & trimmed & mad & min & max & range & skew & kurtosis & se\\\\\n",
       "\\hline\n",
       "\tX1 & 1            & 141          & 16.37589     & 2.892204     & 16           & 16.38053     & 2.9652       & 9            & 22           & 13           & -0.009693318 & -0.8015967   & 0.2435675   \\\\\n",
       "\\end{tabular}\n"
      ],
      "text/markdown": [
       "\n",
       "| <!--/--> | vars | n | mean | sd | median | trimmed | mad | min | max | range | skew | kurtosis | se | \n",
       "|---|\n",
       "| X1 | 1            | 141          | 16.37589     | 2.892204     | 16           | 16.38053     | 2.9652       | 9            | 22           | 13           | -0.009693318 | -0.8015967   | 0.2435675    | \n",
       "\n",
       "\n"
      ],
      "text/plain": [
       "   vars n   mean     sd       median trimmed  mad    min max range skew        \n",
       "X1 1    141 16.37589 2.892204 16     16.38053 2.9652 9   22  13    -0.009693318\n",
       "   kurtosis   se       \n",
       "X1 -0.8015967 0.2435675"
      ]
     },
     "metadata": {},
     "output_type": "display_data"
    },
    {
     "data": {
      "text/html": [
       "<strong>png:</strong> 2"
      ],
      "text/latex": [
       "\\textbf{png:} 2"
      ],
      "text/markdown": [
       "**png:** 2"
      ],
      "text/plain": [
       "png \n",
       "  2 "
      ]
     },
     "metadata": {},
     "output_type": "display_data"
    },
    {
     "data": {
      "image/png": "[encoded data removed]",
      "text/plain": [
       "Plot with title \"Normal Q-Q Plot\""
      ]
     },
     "metadata": {},
     "output_type": "display_data",
     "source": "R display func"
    },
    {
     "data": {
      "image/png": "[encoded data removed]",
      "text/plain": [
       "plot without title"
      ]
     },
     "metadata": {},
     "output_type": "display_data",
     "source": "R display func"
    }
   ],
   "source": [
    "library(psych)\n",
    "describe(data$BIS_Crashes)\n",
    "\n",
    "qqnorm(data$BIS_Crashes)\n",
    "qqline(data$BIS_Crashes)\n",
    "\n",
    "\n",
    "png('BIS_Dist.jpg')\n",
    "hist(data$BIS_Crashes)\n",
    "dev.off()\n",
    "boxplot(data$BIS_Crashes)\n",
    "\n",
    "\n"
   ]
  },
  {
   "cell_type": "markdown",
   "metadata": {},
   "source": [
    "#### Comments\n",
    "Not a prefert fit,but should still work without transmations. There is a few outliners, but I don't see them being an issue. "
   ]
  },
  {
   "cell_type": "markdown",
   "metadata": {},
   "source": [
    "---\n"
   ]
  },
  {
   "cell_type": "markdown",
   "metadata": {},
   "source": [
    "### 3. Checking distribution of car accidents"
   ]
  },
  {
   "cell_type": "code",
   "execution_count": 7,
   "metadata": {},
   "outputs": [
    {
     "data": {
      "text/html": [
       "<table>\n",
       "<thead><tr><th></th><th scope=col>vars</th><th scope=col>n</th><th scope=col>mean</th><th scope=col>sd</th><th scope=col>median</th><th scope=col>trimmed</th><th scope=col>mad</th><th scope=col>min</th><th scope=col>max</th><th scope=col>range</th><th scope=col>skew</th><th scope=col>kurtosis</th><th scope=col>se</th></tr></thead>\n",
       "<tbody>\n",
       "\t<tr><th scope=row>X1</th><td>1         </td><td>141       </td><td>1.156028  </td><td>0.4356225 </td><td>1         </td><td>1.044248  </td><td>0         </td><td>1         </td><td>4         </td><td>3         </td><td>3.348368  </td><td>13.87354  </td><td>0.03668603</td></tr>\n",
       "</tbody>\n",
       "</table>\n"
      ],
      "text/latex": [
       "\\begin{tabular}{r|lllllllllllll}\n",
       "  & vars & n & mean & sd & median & trimmed & mad & min & max & range & skew & kurtosis & se\\\\\n",
       "\\hline\n",
       "\tX1 & 1          & 141        & 1.156028   & 0.4356225  & 1          & 1.044248   & 0          & 1          & 4          & 3          & 3.348368   & 13.87354   & 0.03668603\\\\\n",
       "\\end{tabular}\n"
      ],
      "text/markdown": [
       "\n",
       "| <!--/--> | vars | n | mean | sd | median | trimmed | mad | min | max | range | skew | kurtosis | se | \n",
       "|---|\n",
       "| X1 | 1          | 141        | 1.156028   | 0.4356225  | 1          | 1.044248   | 0          | 1          | 4          | 3          | 3.348368   | 13.87354   | 0.03668603 | \n",
       "\n",
       "\n"
      ],
      "text/plain": [
       "   vars n   mean     sd        median trimmed  mad min max range skew    \n",
       "X1 1    141 1.156028 0.4356225 1      1.044248 0   1   4   3     3.348368\n",
       "   kurtosis se        \n",
       "X1 13.87354 0.03668603"
      ]
     },
     "metadata": {},
     "output_type": "display_data"
    },
    {
     "data": {
      "image/png": "[encoded data removed]",
      "text/plain": [
       "Plot with title \"Normal Q-Q Plot\""
      ]
     },
     "metadata": {},
     "output_type": "display_data",
     "source": "R display func"
    },
    {
     "data": {
      "image/png": "[encoded data removed]",
      "text/plain": [
       "Plot with title \"Histogram of data$Number_of_Crashes\""
      ]
     },
     "metadata": {},
     "output_type": "display_data",
     "source": "R display func"
    },
    {
     "data": {
      "image/png": "[encoded data removed]",
      "text/plain": [
       "plot without title"
      ]
     },
     "metadata": {},
     "output_type": "display_data",
     "source": "R display func"
    }
   ],
   "source": [
    "library(psych)\n",
    "describe(data$Number_of_Crashes)\n",
    "\n",
    "qqnorm(data$Number_of_Crashes)\n",
    "qqline(data$Number_of_Crashes)\n",
    "\n",
    "#png('Crashes_Dist.jpg')\n",
    "hist(data$Number_of_Crashes)\n",
    "#dev.off()\n",
    "boxplot(data$Number_of_Crashes)\n",
    "\n",
    "\n",
    "\n",
    "\n",
    "\n",
    "\n",
    "\n"
   ]
  },
  {
   "cell_type": "markdown",
   "metadata": {},
   "source": [
    "#### Comments \n",
    "This is not good, lots of 0 values. But let's see going forward \n",
    "\n",
    "------"
   ]
  },
  {
   "cell_type": "markdown",
   "metadata": {},
   "source": [
    "### 4. Comparing Self control to car crashes "
   ]
  },
  {
   "cell_type": "code",
   "execution_count": 20,
   "metadata": {},
   "outputs": [
    {
     "data": {
      "image/png": "[encoded data removed]",
      "text/plain": [
       "plot without title"
      ]
     },
     "metadata": {},
     "output_type": "display_data",
     "source": "R display func"
    },
    {
     "data": {
      "image/png": "[encoded data removed]",
      "text/plain": [
       "plot without title"
      ]
     },
     "metadata": {},
     "output_type": "display_data",
     "source": "R display func"
    }
   ],
   "source": [
    "plot(data$BIS_Crashes,data$Number_of_Crashes,)\n",
    "boxplot(data$BIS_Crashes~data$Number_of_Crashes)\n"
   ]
  },
  {
   "cell_type": "markdown",
   "metadata": {},
   "source": [
    "#### Comment\n",
    "It would appear that there might be a difference in the groups. It looks like there is very little difference between 1 crash, and 2 crash. But there might be a difference between zero crashes and any number of crashes. If we recode the varibles into two dummy categories. 0 for no crashes, and 1 for any number of crashes (1,2,3,4). We might see something interesting \n",
    "\n",
    "It's important to note here that we have shockly uneven sample size. "
   ]
  },
  {
   "cell_type": "code",
   "execution_count": 86,
   "metadata": {},
   "outputs": [],
   "source": [
    "#Create new varible in the dataframe called crash, and recode varibles \n",
    "data[\"Crash\"] <- 0\n",
    "data$Crash[data$HOW_MANY_COLLISIONS_LAST_TWO_YEARS == \"0\"] <- \"0\"\n",
    "data$Crash[data$HOW_MANY_COLLISIONS_LAST_TWO_YEARS == \"1\"] <- \"1\"\n",
    "data$Crash[data$HOW_MANY_COLLISIONS_LAST_TWO_YEARS == \"2\"] <- \"1\"\n",
    "data$Crash[data$HOW_MANY_COLLISIONS_LAST_TWO_YEARS == \"3\"] <- \"1\"\n",
    "data$Crash[data$HOW_MANY_COLLISIONS_LAST_TWO_YEARS == \"4\"] <- \"1\"\n",
    "\n",
    "\n"
   ]
  },
  {
   "cell_type": "markdown",
   "metadata": {},
   "source": [
    "Our first test is a standard ANOVA. "
   ]
  },
  {
   "cell_type": "code",
   "execution_count": 87,
   "metadata": {},
   "outputs": [
    {
     "name": "stdout",
     "output_type": "stream",
     "text": [
      "                   Df Sum Sq Mean Sq F value Pr(>F)\n",
      "as.factor(Crash)    1      4   3.536    0.44  0.507\n",
      "Residuals        1326  10654   8.034               \n"
     ]
    },
    {
     "data": {
      "image/png": "[encoded data removed]",
      "text/plain": [
       "plot without title"
      ]
     },
     "metadata": {},
     "output_type": "display_data",
     "source": "R display func"
    }
   ],
   "source": [
    "fit <- aov(BIS_self_control ~ as.factor(Crash), data=data)\n",
    "print(summary(fit))\n",
    "\n",
    "boxplot(data$BIS_self_control~data$Crash)\n",
    "\n"
   ]
  },
  {
   "cell_type": "markdown",
   "metadata": {},
   "source": [
    "#### Comments \n",
    "Firstly, we note that the ANOVA did not reject the hypothesis. \n",
    "We also have two voliations of the assumptions for ANOVA. \n",
    "* Very unequal sample size, which we can't really fix. \n",
    "* Outliners in both of the dummy groups. Which we could fix, but is not really worth it considering the volation of the group size. \n",
    "\n",
    "------\n",
    "\n",
    "We attempt a Wilcoxon rank test in order to move around these volations "
   ]
  },
  {
   "cell_type": "code",
   "execution_count": 88,
   "metadata": {},
   "outputs": [
    {
     "data": {
      "text/html": [
       "1328"
      ],
      "text/latex": [
       "1328"
      ],
      "text/markdown": [
       "1328"
      ],
      "text/plain": [
       "[1] 1328"
      ]
     },
     "metadata": {},
     "output_type": "display_data"
    }
   ],
   "source": [
    "nrow(data)"
   ]
  },
  {
   "cell_type": "code",
   "execution_count": 91,
   "metadata": {},
   "outputs": [
    {
     "data": {
      "text/plain": [
       "\n",
       "\tWilcoxon rank sum test with continuity correction\n",
       "\n",
       "data:  data$BIS_self_control by as.factor(data$Crash)\n",
       "W = 86966, p-value = 0.4433\n",
       "alternative hypothesis: true location shift is not equal to 0\n"
      ]
     },
     "metadata": {},
     "output_type": "display_data"
    }
   ],
   "source": [
    "wilcox.test(data$BIS_self_control~as.factor(data$Crash)) "
   ]
  },
  {
   "cell_type": "markdown",
   "metadata": {},
   "source": [
    "#### Comments \n",
    "P value is still very high. Even if there is a difference, it would appear to be only by one point or so\n",
    "\n",
    "------\n",
    "Finally, we try a linear regression model \n"
   ]
  },
  {
   "cell_type": "code",
   "execution_count": 92,
   "metadata": {},
   "outputs": [
    {
     "data": {
      "text/plain": [
       "\n",
       "Call:\n",
       "lm(formula = BIS_self_control ~ as.factor(Crash), data = data, \n",
       "    na.action = na.omit)\n",
       "\n",
       "Residuals:\n",
       "    Min      1Q  Median      3Q     Max \n",
       "-9.5434 -1.5434  0.4566  2.4566  7.4566 \n",
       "\n",
       "Coefficients:\n",
       "                  Estimate Std. Error t value Pr(>|t|)    \n",
       "(Intercept)       16.54339    0.08227 201.082   <2e-16 ***\n",
       "as.factor(Crash)1 -0.16750    0.25249  -0.663    0.507    \n",
       "---\n",
       "Signif. codes:  0 '***' 0.001 '**' 0.01 '*' 0.05 '.' 0.1 ' ' 1\n",
       "\n",
       "Residual standard error: 2.834 on 1326 degrees of freedom\n",
       "Multiple R-squared:  0.0003318,\tAdjusted R-squared:  -0.0004221 \n",
       "F-statistic: 0.4401 on 1 and 1326 DF,  p-value: 0.5072\n"
      ]
     },
     "metadata": {},
     "output_type": "display_data"
    }
   ],
   "source": [
    "mm<-lm(BIS_self_control~as.factor(Crash),data=data,na.action=na.omit)\n",
    "\n",
    "summary(mm)"
   ]
  },
  {
   "cell_type": "markdown",
   "metadata": {},
   "source": [
    "## 5. Summary \n",
    "In summary, we can say that there is no signficant interaction of BIS Self Control and the number of car crash an individual has. "
   ]
  }
 ],
 "metadata": {
  "kernelspec": {
   "display_name": "R",
   "language": "R",
   "name": "ir"
  },
  "language_info": {
   "codemirror_mode": "r",
   "file_extension": ".r",
   "mimetype": "text/x-r-source",
   "name": "R",
   "pygments_lexer": "r",
   "version": "3.4.2"
  }
 },
 "nbformat": 4,
 "nbformat_minor": 2
}
