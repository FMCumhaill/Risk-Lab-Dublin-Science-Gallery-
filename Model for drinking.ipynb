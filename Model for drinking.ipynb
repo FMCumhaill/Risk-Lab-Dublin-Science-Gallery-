{
 "cells": [
  {
   "cell_type": "markdown",
   "metadata": {},
   "source": [
    "## Building a prediction model to predict the age that a participant started drinking alcohol\n",
    "**This is private data. Please do not share**\n",
    "\n",
    "* Date: 2018 - 01 - 04\n",
    "\n",
    "* Version: 1\n",
    "* Editors: Fionn Delahunty \n",
    "\n",
    "------- \n",
    "\n",
    "This notebook (R code) trys to build a prediction  model to predict the age that a participant started drinking alcohol. \n",
    "\n",
    "__Summary of steps__\n",
    "\n",
    "_ Exploratory data analysis _ \n",
    "1. Dataset import - Data splitting (test,train) - Create new varible \n",
    "2. Begin Multinomial logistic regression \n",
    "\n",
    "\n",
    "------\n",
    "__ Conclusion __\n",
    "\n",
    "We didn't perform the Multinomial logistic regression. \n"
   ]
  },
  {
   "cell_type": "markdown",
   "metadata": {},
   "source": [
    "### 1. Dataset import - Data splitting (test,train) - Create new varible "
   ]
  },
  {
   "cell_type": "code",
   "execution_count": 1,
   "metadata": {},
   "outputs": [],
   "source": [
    "original_data <- read.csv(file=\"RISKLAB_10_11_17.csv\", header=TRUE, sep=\",\")"
   ]
  },
  {
   "cell_type": "code",
   "execution_count": 2,
   "metadata": {},
   "outputs": [],
   "source": [
    "test_data <- original_data[1:200,]\n",
    "data <- original_data[201:1569,]"
   ]
  },
  {
   "cell_type": "markdown",
   "metadata": {},
   "source": [
    "Data is our training set, unless otherwise noted all following analysis is on this subsection of the dataset"
   ]
  },
  {
   "cell_type": "code",
   "execution_count": 3,
   "metadata": {},
   "outputs": [
    {
     "data": {
      "text/html": [
       "<ol class=list-inline>\n",
       "\t<li>'X'</li>\n",
       "\t<li>'Timestamp'</li>\n",
       "\t<li>'ID'</li>\n",
       "\t<li>'GENDER'</li>\n",
       "\t<li>'AGE'</li>\n",
       "\t<li>'DATE_OF_BIRTH'</li>\n",
       "\t<li>'NATIONALITY'</li>\n",
       "\t<li>'COUNTRY_OF_RESIDENCE'</li>\n",
       "\t<li>'ENGLISH_FIRST_LENGUAGE'</li>\n",
       "\t<li>'IF_NOT_ENGLISH_SPECIFY'</li>\n",
       "\t<li>'HIGHEST_LEVEL_EDUCATION'</li>\n",
       "\t<li>'OCCUPATION'</li>\n",
       "\t<li>'DOMINANT_HAND'</li>\n",
       "\t<li>'DO_YOU_DRIVE'</li>\n",
       "\t<li>'CURRENTLY_LEARNING_DRIVE'</li>\n",
       "\t<li>'CURRENTLY_HOLD_LEARNING_DRIVER_PERMIT'</li>\n",
       "\t<li>'CURRENTLY_HOLD_FULL_DRIVING_LICENSE'</li>\n",
       "\t<li>'RECEIVE_FULL_DRIVING_LICENSE'</li>\n",
       "\t<li>'AGE_STARTED_DRIVING'</li>\n",
       "\t<li>'AVERAGE_KM_MILEAGE_PER_YEAR'</li>\n",
       "\t<li>'HAVE_PENALTY_POINTS'</li>\n",
       "\t<li>'PENALTY_POINTS_FOR_WHAT'</li>\n",
       "\t<li>'COLLISIONS_LAST_TWO_YEARS'</li>\n",
       "\t<li>'HOW_MANY_COLLISIONS_LAST_TWO_YEARS'</li>\n",
       "\t<li>'HOW_SERIOUS_COLLISIONS'</li>\n",
       "\t<li>'FOR_HOW_MANY_WERE_CULPABLE'</li>\n",
       "\t<li>'EVER_SMOKED'</li>\n",
       "\t<li>'SMOKE_CURRENTLY'</li>\n",
       "\t<li>'HOW_MANY_YEARS_SMOKING'</li>\n",
       "\t<li>'HOW_MANY_CIGARETTES_PER_WEEK'</li>\n",
       "\t<li>'EVER_DRANK_ALCOHOL'</li>\n",
       "\t<li>'DRINK_CURRENTLY'</li>\n",
       "\t<li>'HOW_MANY_YEARS_DRINKING'</li>\n",
       "\t<li>'HOW_MUCH_UNITS_OF_ALCOHOL_PER_WEEK'</li>\n",
       "\t<li>'PREVIOUSLY_DIAGNOSED_HEALTH_CONDITION_REQUIRING_SIGNIFICANT_LIFESTYLE_CHANGES.'</li>\n",
       "\t<li>'CONSIDER_YOURSELF_RISKTAKER'</li>\n",
       "\t<li>'DEAL_WITH_RISK_AND_UNCERTANTLY_DAILY_BASIS'</li>\n",
       "\t<li>'Admitting.that.your.tastes.are.different.from.those.of.a.friend'</li>\n",
       "\t<li>'Going.camping.in.the.wilderness'</li>\n",
       "\t<li>'Betting.a.day.s.income.at.the.horse.races'</li>\n",
       "\t<li>'Investing.10..of.your.annual.income.in.a.moderate.growth.mutual.fund'</li>\n",
       "\t<li>'Drinking.heavily.at.a.social.function'</li>\n",
       "\t<li>'Taking.some.questionable.deductions.on.your.income.tax.return'</li>\n",
       "\t<li>'Disagreeing.with.an.authority.figure.on.a.major.issue'</li>\n",
       "\t<li>'Betting.a.day.s.income.at.a.high.stake.poker.game'</li>\n",
       "\t<li>'Having.an.affair.with.a.married.man.woman'</li>\n",
       "\t<li>'Passing.off.someone.else.s.work.as.your.own'</li>\n",
       "\t<li>'Going.down.a.ski.run.that.is.beyond.your.ability'</li>\n",
       "\t<li>'Investing.5..of.your.annual.income.in.a.very.speculative.stock'</li>\n",
       "\t<li>'Going.whitewater.rafting.at.hight.water.in.the.spring'</li>\n",
       "\t<li>'Betting.a.day.s.income.on.the.outcome.of.a.sporting.event'</li>\n",
       "\t<li>'Engaging.in.unprotected.sex'</li>\n",
       "\t<li>'Revealing.a.friend.s.secret.to.someone.else'</li>\n",
       "\t<li>'Driving.a.car.without.wearing.a.seat.belt'</li>\n",
       "\t<li>'Investing.10..of.your.annual.income.in.a.new.business.venture'</li>\n",
       "\t<li>'Taking.a.skydiving.class'</li>\n",
       "\t<li>'Riding.a.motorcycle.without.a.helmet'</li>\n",
       "\t<li>'Choosing.a.career.that.you.truly.enjoy.over.a.more.secure.one'</li>\n",
       "\t<li>'Speaking.your.mind.about.an.unpopular.issue.in.a.meeting.at.work'</li>\n",
       "\t<li>'Sunbathing.without.sunscreen'</li>\n",
       "\t<li>'Bungee.jumping.off.a.tall.bridge'</li>\n",
       "\t<li>'Piloting.a.small.plane'</li>\n",
       "\t<li>'Walking.home.alone.at.night.in.an.unsafe.area.of.town'</li>\n",
       "\t<li>'Moving.to.a.city.far.away.from.your.extended.family'</li>\n",
       "\t<li>'Starting.a.new.career.in.your.mid.thirties'</li>\n",
       "\t<li>'Leaving.your.young.children.alone.at.home.while.running.an.errand'</li>\n",
       "\t<li>'Not.returning.a.wallet.you.found.that.contains....200'</li>\n",
       "\t<li>'I.plan.tasks.carefully'</li>\n",
       "\t<li>'I.do.things.without.thinking'</li>\n",
       "\t<li>'I.make.up.my.mind.quickly'</li>\n",
       "\t<li>'I.am.happy.go.lucky'</li>\n",
       "\t<li>'I.don.t..pay.attention.'</li>\n",
       "\t<li>'I.have..racing..thoughts'</li>\n",
       "\t<li>'I.plan.trips.well.ahead.of.time'</li>\n",
       "\t<li>'I.am.self.controlled'</li>\n",
       "\t<li>'I.concentrate.easily'</li>\n",
       "\t<li>'I.save.regularly'</li>\n",
       "\t<li>'I..squirm..at.plays.or.lectures'</li>\n",
       "\t<li>'I.am.a.careful.thinker'</li>\n",
       "\t<li>'I.plan.for.job.security'</li>\n",
       "\t<li>'I.say.things.without.thinking'</li>\n",
       "\t<li>'I.like.to.think.about.complex.problems'</li>\n",
       "\t<li>'I.change.jobs'</li>\n",
       "\t<li>'I.act..on.impulse.'</li>\n",
       "\t<li>'I.get.easily.bored.when.solving.thought.problems'</li>\n",
       "\t<li>'I.act.on.the.spur.of.the.moment'</li>\n",
       "\t<li>'I.am.a.steady.thinker'</li>\n",
       "\t<li>'I.change.residences'</li>\n",
       "\t<li>'I.buy.things.on.impulse'</li>\n",
       "\t<li>'I.can.only.think.about.one.thing.at.a.time'</li>\n",
       "\t<li>'I.change.hobbies'</li>\n",
       "\t<li>'I.spend.or.charge.more.than.I.earn'</li>\n",
       "\t<li>'I.often.have.extraneous.thoughts.when.thinking'</li>\n",
       "\t<li>'I.am.more.interested.in.the.present.than.the.future'</li>\n",
       "\t<li>'I.am.restless.at.the.theater.or.lectures'</li>\n",
       "\t<li>'I.like.puzzles'</li>\n",
       "\t<li>'I.am.future.oriented'</li>\n",
       "\t<li>'BIS_Sum'</li>\n",
       "\t<li>'BIS_Attention'</li>\n",
       "\t<li>'BIS_Cog_Instability'</li>\n",
       "\t<li>'BIS_Motor'</li>\n",
       "\t<li>'BIS_Perseverance'</li>\n",
       "\t<li>'BIS_self_control'</li>\n",
       "\t<li>'BIS_Cog_Complexity'</li>\n",
       "\t<li>'DOS_Ethical'</li>\n",
       "\t<li>'DOS_Fin_Investment'</li>\n",
       "\t<li>'DOS_Fin_Gambling'</li>\n",
       "\t<li>'DOS_HealthSafety'</li>\n",
       "\t<li>'DOS_Recreational'</li>\n",
       "\t<li>'DOS_Social'</li>\n",
       "\t<li>'AGE_Started'</li>\n",
       "</ol>\n"
      ],
      "text/latex": [
       "\\begin{enumerate*}\n",
       "\\item 'X'\n",
       "\\item 'Timestamp'\n",
       "\\item 'ID'\n",
       "\\item 'GENDER'\n",
       "\\item 'AGE'\n",
       "\\item 'DATE\\_OF\\_BIRTH'\n",
       "\\item 'NATIONALITY'\n",
       "\\item 'COUNTRY\\_OF\\_RESIDENCE'\n",
       "\\item 'ENGLISH\\_FIRST\\_LENGUAGE'\n",
       "\\item 'IF\\_NOT\\_ENGLISH\\_SPECIFY'\n",
       "\\item 'HIGHEST\\_LEVEL\\_EDUCATION'\n",
       "\\item 'OCCUPATION'\n",
       "\\item 'DOMINANT\\_HAND'\n",
       "\\item 'DO\\_YOU\\_DRIVE'\n",
       "\\item 'CURRENTLY\\_LEARNING\\_DRIVE'\n",
       "\\item 'CURRENTLY\\_HOLD\\_LEARNING\\_DRIVER\\_PERMIT'\n",
       "\\item 'CURRENTLY\\_HOLD\\_FULL\\_DRIVING\\_LICENSE'\n",
       "\\item 'RECEIVE\\_FULL\\_DRIVING\\_LICENSE'\n",
       "\\item 'AGE\\_STARTED\\_DRIVING'\n",
       "\\item 'AVERAGE\\_KM\\_MILEAGE\\_PER\\_YEAR'\n",
       "\\item 'HAVE\\_PENALTY\\_POINTS'\n",
       "\\item 'PENALTY\\_POINTS\\_FOR\\_WHAT'\n",
       "\\item 'COLLISIONS\\_LAST\\_TWO\\_YEARS'\n",
       "\\item 'HOW\\_MANY\\_COLLISIONS\\_LAST\\_TWO\\_YEARS'\n",
       "\\item 'HOW\\_SERIOUS\\_COLLISIONS'\n",
       "\\item 'FOR\\_HOW\\_MANY\\_WERE\\_CULPABLE'\n",
       "\\item 'EVER\\_SMOKED'\n",
       "\\item 'SMOKE\\_CURRENTLY'\n",
       "\\item 'HOW\\_MANY\\_YEARS\\_SMOKING'\n",
       "\\item 'HOW\\_MANY\\_CIGARETTES\\_PER\\_WEEK'\n",
       "\\item 'EVER\\_DRANK\\_ALCOHOL'\n",
       "\\item 'DRINK\\_CURRENTLY'\n",
       "\\item 'HOW\\_MANY\\_YEARS\\_DRINKING'\n",
       "\\item 'HOW\\_MUCH\\_UNITS\\_OF\\_ALCOHOL\\_PER\\_WEEK'\n",
       "\\item 'PREVIOUSLY\\_DIAGNOSED\\_HEALTH\\_CONDITION\\_REQUIRING\\_SIGNIFICANT\\_LIFESTYLE\\_CHANGES.'\n",
       "\\item 'CONSIDER\\_YOURSELF\\_RISKTAKER'\n",
       "\\item 'DEAL\\_WITH\\_RISK\\_AND\\_UNCERTANTLY\\_DAILY\\_BASIS'\n",
       "\\item 'Admitting.that.your.tastes.are.different.from.those.of.a.friend'\n",
       "\\item 'Going.camping.in.the.wilderness'\n",
       "\\item 'Betting.a.day.s.income.at.the.horse.races'\n",
       "\\item 'Investing.10..of.your.annual.income.in.a.moderate.growth.mutual.fund'\n",
       "\\item 'Drinking.heavily.at.a.social.function'\n",
       "\\item 'Taking.some.questionable.deductions.on.your.income.tax.return'\n",
       "\\item 'Disagreeing.with.an.authority.figure.on.a.major.issue'\n",
       "\\item 'Betting.a.day.s.income.at.a.high.stake.poker.game'\n",
       "\\item 'Having.an.affair.with.a.married.man.woman'\n",
       "\\item 'Passing.off.someone.else.s.work.as.your.own'\n",
       "\\item 'Going.down.a.ski.run.that.is.beyond.your.ability'\n",
       "\\item 'Investing.5..of.your.annual.income.in.a.very.speculative.stock'\n",
       "\\item 'Going.whitewater.rafting.at.hight.water.in.the.spring'\n",
       "\\item 'Betting.a.day.s.income.on.the.outcome.of.a.sporting.event'\n",
       "\\item 'Engaging.in.unprotected.sex'\n",
       "\\item 'Revealing.a.friend.s.secret.to.someone.else'\n",
       "\\item 'Driving.a.car.without.wearing.a.seat.belt'\n",
       "\\item 'Investing.10..of.your.annual.income.in.a.new.business.venture'\n",
       "\\item 'Taking.a.skydiving.class'\n",
       "\\item 'Riding.a.motorcycle.without.a.helmet'\n",
       "\\item 'Choosing.a.career.that.you.truly.enjoy.over.a.more.secure.one'\n",
       "\\item 'Speaking.your.mind.about.an.unpopular.issue.in.a.meeting.at.work'\n",
       "\\item 'Sunbathing.without.sunscreen'\n",
       "\\item 'Bungee.jumping.off.a.tall.bridge'\n",
       "\\item 'Piloting.a.small.plane'\n",
       "\\item 'Walking.home.alone.at.night.in.an.unsafe.area.of.town'\n",
       "\\item 'Moving.to.a.city.far.away.from.your.extended.family'\n",
       "\\item 'Starting.a.new.career.in.your.mid.thirties'\n",
       "\\item 'Leaving.your.young.children.alone.at.home.while.running.an.errand'\n",
       "\\item 'Not.returning.a.wallet.you.found.that.contains....200'\n",
       "\\item 'I.plan.tasks.carefully'\n",
       "\\item 'I.do.things.without.thinking'\n",
       "\\item 'I.make.up.my.mind.quickly'\n",
       "\\item 'I.am.happy.go.lucky'\n",
       "\\item 'I.don.t..pay.attention.'\n",
       "\\item 'I.have..racing..thoughts'\n",
       "\\item 'I.plan.trips.well.ahead.of.time'\n",
       "\\item 'I.am.self.controlled'\n",
       "\\item 'I.concentrate.easily'\n",
       "\\item 'I.save.regularly'\n",
       "\\item 'I..squirm..at.plays.or.lectures'\n",
       "\\item 'I.am.a.careful.thinker'\n",
       "\\item 'I.plan.for.job.security'\n",
       "\\item 'I.say.things.without.thinking'\n",
       "\\item 'I.like.to.think.about.complex.problems'\n",
       "\\item 'I.change.jobs'\n",
       "\\item 'I.act..on.impulse.'\n",
       "\\item 'I.get.easily.bored.when.solving.thought.problems'\n",
       "\\item 'I.act.on.the.spur.of.the.moment'\n",
       "\\item 'I.am.a.steady.thinker'\n",
       "\\item 'I.change.residences'\n",
       "\\item 'I.buy.things.on.impulse'\n",
       "\\item 'I.can.only.think.about.one.thing.at.a.time'\n",
       "\\item 'I.change.hobbies'\n",
       "\\item 'I.spend.or.charge.more.than.I.earn'\n",
       "\\item 'I.often.have.extraneous.thoughts.when.thinking'\n",
       "\\item 'I.am.more.interested.in.the.present.than.the.future'\n",
       "\\item 'I.am.restless.at.the.theater.or.lectures'\n",
       "\\item 'I.like.puzzles'\n",
       "\\item 'I.am.future.oriented'\n",
       "\\item 'BIS\\_Sum'\n",
       "\\item 'BIS\\_Attention'\n",
       "\\item 'BIS\\_Cog\\_Instability'\n",
       "\\item 'BIS\\_Motor'\n",
       "\\item 'BIS\\_Perseverance'\n",
       "\\item 'BIS\\_self\\_control'\n",
       "\\item 'BIS\\_Cog\\_Complexity'\n",
       "\\item 'DOS\\_Ethical'\n",
       "\\item 'DOS\\_Fin\\_Investment'\n",
       "\\item 'DOS\\_Fin\\_Gambling'\n",
       "\\item 'DOS\\_HealthSafety'\n",
       "\\item 'DOS\\_Recreational'\n",
       "\\item 'DOS\\_Social'\n",
       "\\item 'AGE\\_Started'\n",
       "\\end{enumerate*}\n"
      ],
      "text/markdown": [
       "1. 'X'\n",
       "2. 'Timestamp'\n",
       "3. 'ID'\n",
       "4. 'GENDER'\n",
       "5. 'AGE'\n",
       "6. 'DATE_OF_BIRTH'\n",
       "7. 'NATIONALITY'\n",
       "8. 'COUNTRY_OF_RESIDENCE'\n",
       "9. 'ENGLISH_FIRST_LENGUAGE'\n",
       "10. 'IF_NOT_ENGLISH_SPECIFY'\n",
       "11. 'HIGHEST_LEVEL_EDUCATION'\n",
       "12. 'OCCUPATION'\n",
       "13. 'DOMINANT_HAND'\n",
       "14. 'DO_YOU_DRIVE'\n",
       "15. 'CURRENTLY_LEARNING_DRIVE'\n",
       "16. 'CURRENTLY_HOLD_LEARNING_DRIVER_PERMIT'\n",
       "17. 'CURRENTLY_HOLD_FULL_DRIVING_LICENSE'\n",
       "18. 'RECEIVE_FULL_DRIVING_LICENSE'\n",
       "19. 'AGE_STARTED_DRIVING'\n",
       "20. 'AVERAGE_KM_MILEAGE_PER_YEAR'\n",
       "21. 'HAVE_PENALTY_POINTS'\n",
       "22. 'PENALTY_POINTS_FOR_WHAT'\n",
       "23. 'COLLISIONS_LAST_TWO_YEARS'\n",
       "24. 'HOW_MANY_COLLISIONS_LAST_TWO_YEARS'\n",
       "25. 'HOW_SERIOUS_COLLISIONS'\n",
       "26. 'FOR_HOW_MANY_WERE_CULPABLE'\n",
       "27. 'EVER_SMOKED'\n",
       "28. 'SMOKE_CURRENTLY'\n",
       "29. 'HOW_MANY_YEARS_SMOKING'\n",
       "30. 'HOW_MANY_CIGARETTES_PER_WEEK'\n",
       "31. 'EVER_DRANK_ALCOHOL'\n",
       "32. 'DRINK_CURRENTLY'\n",
       "33. 'HOW_MANY_YEARS_DRINKING'\n",
       "34. 'HOW_MUCH_UNITS_OF_ALCOHOL_PER_WEEK'\n",
       "35. 'PREVIOUSLY_DIAGNOSED_HEALTH_CONDITION_REQUIRING_SIGNIFICANT_LIFESTYLE_CHANGES.'\n",
       "36. 'CONSIDER_YOURSELF_RISKTAKER'\n",
       "37. 'DEAL_WITH_RISK_AND_UNCERTANTLY_DAILY_BASIS'\n",
       "38. 'Admitting.that.your.tastes.are.different.from.those.of.a.friend'\n",
       "39. 'Going.camping.in.the.wilderness'\n",
       "40. 'Betting.a.day.s.income.at.the.horse.races'\n",
       "41. 'Investing.10..of.your.annual.income.in.a.moderate.growth.mutual.fund'\n",
       "42. 'Drinking.heavily.at.a.social.function'\n",
       "43. 'Taking.some.questionable.deductions.on.your.income.tax.return'\n",
       "44. 'Disagreeing.with.an.authority.figure.on.a.major.issue'\n",
       "45. 'Betting.a.day.s.income.at.a.high.stake.poker.game'\n",
       "46. 'Having.an.affair.with.a.married.man.woman'\n",
       "47. 'Passing.off.someone.else.s.work.as.your.own'\n",
       "48. 'Going.down.a.ski.run.that.is.beyond.your.ability'\n",
       "49. 'Investing.5..of.your.annual.income.in.a.very.speculative.stock'\n",
       "50. 'Going.whitewater.rafting.at.hight.water.in.the.spring'\n",
       "51. 'Betting.a.day.s.income.on.the.outcome.of.a.sporting.event'\n",
       "52. 'Engaging.in.unprotected.sex'\n",
       "53. 'Revealing.a.friend.s.secret.to.someone.else'\n",
       "54. 'Driving.a.car.without.wearing.a.seat.belt'\n",
       "55. 'Investing.10..of.your.annual.income.in.a.new.business.venture'\n",
       "56. 'Taking.a.skydiving.class'\n",
       "57. 'Riding.a.motorcycle.without.a.helmet'\n",
       "58. 'Choosing.a.career.that.you.truly.enjoy.over.a.more.secure.one'\n",
       "59. 'Speaking.your.mind.about.an.unpopular.issue.in.a.meeting.at.work'\n",
       "60. 'Sunbathing.without.sunscreen'\n",
       "61. 'Bungee.jumping.off.a.tall.bridge'\n",
       "62. 'Piloting.a.small.plane'\n",
       "63. 'Walking.home.alone.at.night.in.an.unsafe.area.of.town'\n",
       "64. 'Moving.to.a.city.far.away.from.your.extended.family'\n",
       "65. 'Starting.a.new.career.in.your.mid.thirties'\n",
       "66. 'Leaving.your.young.children.alone.at.home.while.running.an.errand'\n",
       "67. 'Not.returning.a.wallet.you.found.that.contains....200'\n",
       "68. 'I.plan.tasks.carefully'\n",
       "69. 'I.do.things.without.thinking'\n",
       "70. 'I.make.up.my.mind.quickly'\n",
       "71. 'I.am.happy.go.lucky'\n",
       "72. 'I.don.t..pay.attention.'\n",
       "73. 'I.have..racing..thoughts'\n",
       "74. 'I.plan.trips.well.ahead.of.time'\n",
       "75. 'I.am.self.controlled'\n",
       "76. 'I.concentrate.easily'\n",
       "77. 'I.save.regularly'\n",
       "78. 'I..squirm..at.plays.or.lectures'\n",
       "79. 'I.am.a.careful.thinker'\n",
       "80. 'I.plan.for.job.security'\n",
       "81. 'I.say.things.without.thinking'\n",
       "82. 'I.like.to.think.about.complex.problems'\n",
       "83. 'I.change.jobs'\n",
       "84. 'I.act..on.impulse.'\n",
       "85. 'I.get.easily.bored.when.solving.thought.problems'\n",
       "86. 'I.act.on.the.spur.of.the.moment'\n",
       "87. 'I.am.a.steady.thinker'\n",
       "88. 'I.change.residences'\n",
       "89. 'I.buy.things.on.impulse'\n",
       "90. 'I.can.only.think.about.one.thing.at.a.time'\n",
       "91. 'I.change.hobbies'\n",
       "92. 'I.spend.or.charge.more.than.I.earn'\n",
       "93. 'I.often.have.extraneous.thoughts.when.thinking'\n",
       "94. 'I.am.more.interested.in.the.present.than.the.future'\n",
       "95. 'I.am.restless.at.the.theater.or.lectures'\n",
       "96. 'I.like.puzzles'\n",
       "97. 'I.am.future.oriented'\n",
       "98. 'BIS_Sum'\n",
       "99. 'BIS_Attention'\n",
       "100. 'BIS_Cog_Instability'\n",
       "101. 'BIS_Motor'\n",
       "102. 'BIS_Perseverance'\n",
       "103. 'BIS_self_control'\n",
       "104. 'BIS_Cog_Complexity'\n",
       "105. 'DOS_Ethical'\n",
       "106. 'DOS_Fin_Investment'\n",
       "107. 'DOS_Fin_Gambling'\n",
       "108. 'DOS_HealthSafety'\n",
       "109. 'DOS_Recreational'\n",
       "110. 'DOS_Social'\n",
       "111. 'AGE_Started'\n",
       "\n",
       "\n"
      ],
      "text/plain": [
       "  [1] \"X\"                                                                             \n",
       "  [2] \"Timestamp\"                                                                     \n",
       "  [3] \"ID\"                                                                            \n",
       "  [4] \"GENDER\"                                                                        \n",
       "  [5] \"AGE\"                                                                           \n",
       "  [6] \"DATE_OF_BIRTH\"                                                                 \n",
       "  [7] \"NATIONALITY\"                                                                   \n",
       "  [8] \"COUNTRY_OF_RESIDENCE\"                                                          \n",
       "  [9] \"ENGLISH_FIRST_LENGUAGE\"                                                        \n",
       " [10] \"IF_NOT_ENGLISH_SPECIFY\"                                                        \n",
       " [11] \"HIGHEST_LEVEL_EDUCATION\"                                                       \n",
       " [12] \"OCCUPATION\"                                                                    \n",
       " [13] \"DOMINANT_HAND\"                                                                 \n",
       " [14] \"DO_YOU_DRIVE\"                                                                  \n",
       " [15] \"CURRENTLY_LEARNING_DRIVE\"                                                      \n",
       " [16] \"CURRENTLY_HOLD_LEARNING_DRIVER_PERMIT\"                                         \n",
       " [17] \"CURRENTLY_HOLD_FULL_DRIVING_LICENSE\"                                           \n",
       " [18] \"RECEIVE_FULL_DRIVING_LICENSE\"                                                  \n",
       " [19] \"AGE_STARTED_DRIVING\"                                                           \n",
       " [20] \"AVERAGE_KM_MILEAGE_PER_YEAR\"                                                   \n",
       " [21] \"HAVE_PENALTY_POINTS\"                                                           \n",
       " [22] \"PENALTY_POINTS_FOR_WHAT\"                                                       \n",
       " [23] \"COLLISIONS_LAST_TWO_YEARS\"                                                     \n",
       " [24] \"HOW_MANY_COLLISIONS_LAST_TWO_YEARS\"                                            \n",
       " [25] \"HOW_SERIOUS_COLLISIONS\"                                                        \n",
       " [26] \"FOR_HOW_MANY_WERE_CULPABLE\"                                                    \n",
       " [27] \"EVER_SMOKED\"                                                                   \n",
       " [28] \"SMOKE_CURRENTLY\"                                                               \n",
       " [29] \"HOW_MANY_YEARS_SMOKING\"                                                        \n",
       " [30] \"HOW_MANY_CIGARETTES_PER_WEEK\"                                                  \n",
       " [31] \"EVER_DRANK_ALCOHOL\"                                                            \n",
       " [32] \"DRINK_CURRENTLY\"                                                               \n",
       " [33] \"HOW_MANY_YEARS_DRINKING\"                                                       \n",
       " [34] \"HOW_MUCH_UNITS_OF_ALCOHOL_PER_WEEK\"                                            \n",
       " [35] \"PREVIOUSLY_DIAGNOSED_HEALTH_CONDITION_REQUIRING_SIGNIFICANT_LIFESTYLE_CHANGES.\"\n",
       " [36] \"CONSIDER_YOURSELF_RISKTAKER\"                                                   \n",
       " [37] \"DEAL_WITH_RISK_AND_UNCERTANTLY_DAILY_BASIS\"                                    \n",
       " [38] \"Admitting.that.your.tastes.are.different.from.those.of.a.friend\"               \n",
       " [39] \"Going.camping.in.the.wilderness\"                                               \n",
       " [40] \"Betting.a.day.s.income.at.the.horse.races\"                                     \n",
       " [41] \"Investing.10..of.your.annual.income.in.a.moderate.growth.mutual.fund\"          \n",
       " [42] \"Drinking.heavily.at.a.social.function\"                                         \n",
       " [43] \"Taking.some.questionable.deductions.on.your.income.tax.return\"                 \n",
       " [44] \"Disagreeing.with.an.authority.figure.on.a.major.issue\"                         \n",
       " [45] \"Betting.a.day.s.income.at.a.high.stake.poker.game\"                             \n",
       " [46] \"Having.an.affair.with.a.married.man.woman\"                                     \n",
       " [47] \"Passing.off.someone.else.s.work.as.your.own\"                                   \n",
       " [48] \"Going.down.a.ski.run.that.is.beyond.your.ability\"                              \n",
       " [49] \"Investing.5..of.your.annual.income.in.a.very.speculative.stock\"                \n",
       " [50] \"Going.whitewater.rafting.at.hight.water.in.the.spring\"                         \n",
       " [51] \"Betting.a.day.s.income.on.the.outcome.of.a.sporting.event\"                     \n",
       " [52] \"Engaging.in.unprotected.sex\"                                                   \n",
       " [53] \"Revealing.a.friend.s.secret.to.someone.else\"                                   \n",
       " [54] \"Driving.a.car.without.wearing.a.seat.belt\"                                     \n",
       " [55] \"Investing.10..of.your.annual.income.in.a.new.business.venture\"                 \n",
       " [56] \"Taking.a.skydiving.class\"                                                      \n",
       " [57] \"Riding.a.motorcycle.without.a.helmet\"                                          \n",
       " [58] \"Choosing.a.career.that.you.truly.enjoy.over.a.more.secure.one\"                 \n",
       " [59] \"Speaking.your.mind.about.an.unpopular.issue.in.a.meeting.at.work\"              \n",
       " [60] \"Sunbathing.without.sunscreen\"                                                  \n",
       " [61] \"Bungee.jumping.off.a.tall.bridge\"                                              \n",
       " [62] \"Piloting.a.small.plane\"                                                        \n",
       " [63] \"Walking.home.alone.at.night.in.an.unsafe.area.of.town\"                         \n",
       " [64] \"Moving.to.a.city.far.away.from.your.extended.family\"                           \n",
       " [65] \"Starting.a.new.career.in.your.mid.thirties\"                                    \n",
       " [66] \"Leaving.your.young.children.alone.at.home.while.running.an.errand\"             \n",
       " [67] \"Not.returning.a.wallet.you.found.that.contains....200\"                         \n",
       " [68] \"I.plan.tasks.carefully\"                                                        \n",
       " [69] \"I.do.things.without.thinking\"                                                  \n",
       " [70] \"I.make.up.my.mind.quickly\"                                                     \n",
       " [71] \"I.am.happy.go.lucky\"                                                           \n",
       " [72] \"I.don.t..pay.attention.\"                                                       \n",
       " [73] \"I.have..racing..thoughts\"                                                      \n",
       " [74] \"I.plan.trips.well.ahead.of.time\"                                               \n",
       " [75] \"I.am.self.controlled\"                                                          \n",
       " [76] \"I.concentrate.easily\"                                                          \n",
       " [77] \"I.save.regularly\"                                                              \n",
       " [78] \"I..squirm..at.plays.or.lectures\"                                               \n",
       " [79] \"I.am.a.careful.thinker\"                                                        \n",
       " [80] \"I.plan.for.job.security\"                                                       \n",
       " [81] \"I.say.things.without.thinking\"                                                 \n",
       " [82] \"I.like.to.think.about.complex.problems\"                                        \n",
       " [83] \"I.change.jobs\"                                                                 \n",
       " [84] \"I.act..on.impulse.\"                                                            \n",
       " [85] \"I.get.easily.bored.when.solving.thought.problems\"                              \n",
       " [86] \"I.act.on.the.spur.of.the.moment\"                                               \n",
       " [87] \"I.am.a.steady.thinker\"                                                         \n",
       " [88] \"I.change.residences\"                                                           \n",
       " [89] \"I.buy.things.on.impulse\"                                                       \n",
       " [90] \"I.can.only.think.about.one.thing.at.a.time\"                                    \n",
       " [91] \"I.change.hobbies\"                                                              \n",
       " [92] \"I.spend.or.charge.more.than.I.earn\"                                            \n",
       " [93] \"I.often.have.extraneous.thoughts.when.thinking\"                                \n",
       " [94] \"I.am.more.interested.in.the.present.than.the.future\"                           \n",
       " [95] \"I.am.restless.at.the.theater.or.lectures\"                                      \n",
       " [96] \"I.like.puzzles\"                                                                \n",
       " [97] \"I.am.future.oriented\"                                                          \n",
       " [98] \"BIS_Sum\"                                                                       \n",
       " [99] \"BIS_Attention\"                                                                 \n",
       "[100] \"BIS_Cog_Instability\"                                                           \n",
       "[101] \"BIS_Motor\"                                                                     \n",
       "[102] \"BIS_Perseverance\"                                                              \n",
       "[103] \"BIS_self_control\"                                                              \n",
       "[104] \"BIS_Cog_Complexity\"                                                            \n",
       "[105] \"DOS_Ethical\"                                                                   \n",
       "[106] \"DOS_Fin_Investment\"                                                            \n",
       "[107] \"DOS_Fin_Gambling\"                                                              \n",
       "[108] \"DOS_HealthSafety\"                                                              \n",
       "[109] \"DOS_Recreational\"                                                              \n",
       "[110] \"DOS_Social\"                                                                    \n",
       "[111] \"AGE_Started\"                                                                   "
      ]
     },
     "metadata": {},
     "output_type": "display_data"
    }
   ],
   "source": [
    "names(data)"
   ]
  },
  {
   "cell_type": "code",
   "execution_count": 4,
   "metadata": {},
   "outputs": [
    {
     "data": {
      "text/plain": [
       "\n",
       "   -2     0     2     5     6     9    10    11  11.5    12  12.5    13  13.5 \n",
       "    2   202     2     2     1     3     5     5     1    10     1    29     4 \n",
       "   14  14.5    15  15.5    16  16.5    17  17.5 17.75  17.8    18  18.5    19 \n",
       "   62     2   133    15   214    19   187    28     1     2   186     8    61 \n",
       " 19.5    20  20.5    21    22  22.5 22.75    23  23.9    24  24.5    25    26 \n",
       "    3    53     4    33    17     1     1     8     1     7     1     5     5 \n",
       "   27    28  28.8    29    30    31  31.5  31.8  31.9    33    34    35    37 \n",
       "    8     2     1     4     5     1     1     1     1     2     1     1     2 \n",
       "   38    39    43  43.5    45    52    58    70 \n",
       "    1     2     1     1     1     1     1     1 "
      ]
     },
     "metadata": {},
     "output_type": "display_data"
    }
   ],
   "source": [
    "table(data$AGE_Started)"
   ]
  },
  {
   "cell_type": "code",
   "execution_count": 5,
   "metadata": {},
   "outputs": [],
   "source": [
    "data$AGE_Started[data$AGE_Started == \"-2\"] <- 2"
   ]
  },
  {
   "cell_type": "code",
   "execution_count": 6,
   "metadata": {},
   "outputs": [
    {
     "data": {
      "text/html": [
       "TRUE"
      ],
      "text/latex": [
       "TRUE"
      ],
      "text/markdown": [
       "TRUE"
      ],
      "text/plain": [
       "[1] TRUE"
      ]
     },
     "metadata": {},
     "output_type": "display_data"
    }
   ],
   "source": [
    "is.numeric(data$AGE_Started)"
   ]
  },
  {
   "cell_type": "code",
   "execution_count": 7,
   "metadata": {},
   "outputs": [
    {
     "data": {
      "text/plain": [
       "\n",
       "    0     2     5     6     9    10    11  11.5    12  12.5    13  13.5    14 \n",
       "  202     4     2     1     3     5     5     1    10     1    29     4    62 \n",
       " 14.5    15  15.5    16  16.5    17  17.5 17.75  17.8    18  18.5    19  19.5 \n",
       "    2   133    15   214    19   187    28     1     2   186     8    61     3 \n",
       "   20  20.5    21    22  22.5 22.75    23  23.9    24  24.5    25    26    27 \n",
       "   53     4    33    17     1     1     8     1     7     1     5     5     8 \n",
       "   28  28.8    29    30    31  31.5  31.8  31.9    33    34    35    37    38 \n",
       "    2     1     4     5     1     1     1     1     2     1     1     2     1 \n",
       "   39    43  43.5    45    52    58    70 \n",
       "    2     1     1     1     1     1     1 "
      ]
     },
     "metadata": {},
     "output_type": "display_data"
    },
    {
     "data": {
      "text/html": [
       "<table>\n",
       "<thead><tr><th></th><th scope=col>vars</th><th scope=col>n</th><th scope=col>mean</th><th scope=col>sd</th><th scope=col>median</th><th scope=col>trimmed</th><th scope=col>mad</th><th scope=col>min</th><th scope=col>max</th><th scope=col>range</th><th scope=col>skew</th><th scope=col>kurtosis</th><th scope=col>se</th></tr></thead>\n",
       "<tbody>\n",
       "\t<tr><th scope=row>X1</th><td>1         </td><td>1363      </td><td>14.87014  </td><td>7.392304  </td><td>16        </td><td>15.40683  </td><td>2.9652    </td><td>0         </td><td>70        </td><td>70        </td><td>-0.1598258</td><td>4.398155  </td><td>0.2002313 </td></tr>\n",
       "</tbody>\n",
       "</table>\n"
      ],
      "text/latex": [
       "\\begin{tabular}{r|lllllllllllll}\n",
       "  & vars & n & mean & sd & median & trimmed & mad & min & max & range & skew & kurtosis & se\\\\\n",
       "\\hline\n",
       "\tX1 & 1          & 1363       & 14.87014   & 7.392304   & 16         & 15.40683   & 2.9652     & 0          & 70         & 70         & -0.1598258 & 4.398155   & 0.2002313 \\\\\n",
       "\\end{tabular}\n"
      ],
      "text/markdown": [
       "\n",
       "| <!--/--> | vars | n | mean | sd | median | trimmed | mad | min | max | range | skew | kurtosis | se | \n",
       "|---|\n",
       "| X1 | 1          | 1363       | 14.87014   | 7.392304   | 16         | 15.40683   | 2.9652     | 0          | 70         | 70         | -0.1598258 | 4.398155   | 0.2002313  | \n",
       "\n",
       "\n"
      ],
      "text/plain": [
       "   vars n    mean     sd       median trimmed  mad    min max range skew      \n",
       "X1 1    1363 14.87014 7.392304 16     15.40683 2.9652 0   70  70    -0.1598258\n",
       "   kurtosis se       \n",
       "X1 4.398155 0.2002313"
      ]
     },
     "metadata": {},
     "output_type": "display_data"
    },
    {
     "data": {
      "image/png": "[encoded data removed]",
      "text/plain": [
       "Plot with title \"Histogram of data$AGE_Started\""
      ]
     },
     "metadata": {},
     "output_type": "display_data",
     "source": "R display func"
    }
   ],
   "source": [
    "library(psych)\n",
    "table(data$AGE_Started)\n",
    "describe(data$AGE_Started)\n",
    "par(mfrow = c(2,2))\n",
    "\n",
    "qqnorm(data$AGE_Started)\n",
    "qqline(data$AGE_Started)\n",
    "\n",
    "hist(data$AGE_Started)\n",
    "boxplot(data$AGE_Started)\n",
    "\n",
    "\n"
   ]
  },
  {
   "cell_type": "code",
   "execution_count": 8,
   "metadata": {},
   "outputs": [
    {
     "data": {
      "text/plain": [
       "\n",
       "12 14 15 16 17 18 19 20 21 22 23 24 25 26 27 28 29 30 31 32 33 34 35 36 37 38 \n",
       " 1  1  2  2  1 46 42 69 82 75 77 84 73 63 46 48 49 55 53 35 43 39 27 25 18 16 \n",
       "39 40 41 42 43 44 45 46 47 48 49 50 51 52 53 54 55 56 57 58 59 60 61 62 63 64 \n",
       "13 17  6 15 13 15 15 14 19 15  4 10 10 17  9 11  4  4 11  8  4  1  6  4  2  1 \n",
       "65 67 68 69 70 71 72 74 75 76 78 80 \n",
       " 2  9  5  5  6  2  1  1  1  1  2  2 "
      ]
     },
     "metadata": {},
     "output_type": "display_data"
    },
    {
     "data": {
      "image/png": "[encoded data removed]",
      "text/plain": [
       "Plot with title \"Histogram of data$AGE_Started\""
      ]
     },
     "metadata": {},
     "output_type": "display_data",
     "source": "R display func"
    }
   ],
   "source": [
    "par(mfrow = c(2,2))\n",
    "hist(data$AGE)\n",
    "hist(data$AGE_Started)\n",
    "table(data$AGE)"
   ]
  },
  {
   "cell_type": "code",
   "execution_count": 9,
   "metadata": {},
   "outputs": [
    {
     "data": {
      "text/plain": [
       "\n",
       "    0     2     5     6     9    10    11  11.5    12  12.5    13  13.5    14 \n",
       "  202     4     2     1     3     5     5     1    10     1    29     4    62 \n",
       " 14.5    15  15.5    16  16.5    17  17.5 17.75  17.8    18  18.5    19  19.5 \n",
       "    2   133    15   214    19   187    28     1     2   186     8    61     3 \n",
       "   20  20.5    21    22  22.5 22.75    23  23.9    24  24.5    25    26    27 \n",
       "   53     4    33    17     1     1     8     1     7     1     5     5     8 \n",
       "   28  28.8    29    30    31  31.5  31.8  31.9    33    34    35    37    38 \n",
       "    2     1     4     5     1     1     1     1     2     1     1     2     1 \n",
       "   39    43  43.5    45    52    58    70 \n",
       "    2     1     1     1     1     1     1 "
      ]
     },
     "metadata": {},
     "output_type": "display_data"
    }
   ],
   "source": [
    "table(data$AGE_Started)"
   ]
  },
  {
   "cell_type": "markdown",
   "metadata": {},
   "source": [
    "Create new varible \n",
    "\n",
    "__Coding:__\n",
    "* 1 : Started drinking beloew the age of 17 \n",
    "* 2 : Started drinking at the age of 18 (Between 17 and 19 incluves) \n",
    "* 3 : Started drinking after the age of 19. "
   ]
  },
  {
   "cell_type": "code",
   "execution_count": 16,
   "metadata": {},
   "outputs": [
    {
     "data": {
      "text/plain": [
       "\n",
       "  0   1   2   3 \n",
       "202 510 473 178 "
      ]
     },
     "metadata": {},
     "output_type": "display_data"
    }
   ],
   "source": [
    "data$AGE_Started_group[data$AGE_Started == 0] <- 0\n",
    "data$AGE_Started_group[findInterval(data$AGE_Started, c(1,17)) == 1L] <- 1\n",
    "data$AGE_Started_group[findInterval(data$AGE_Started, c(17,20)) == 1L] <- 2\n",
    "data$AGE_Started_group[data$AGE_Started > 19] <- 3\n",
    "table(data$AGE_Started_group)"
   ]
  },
  {
   "cell_type": "code",
   "execution_count": 17,
   "metadata": {},
   "outputs": [
    {
     "data": {
      "image/png": "[encoded data removed]",
      "text/plain": [
       "Plot with title \"Histogram of data$AGE_Started_group\""
      ]
     },
     "metadata": {},
     "output_type": "display_data",
     "source": "R display func"
    }
   ],
   "source": [
    "hist(data$AGE_Started_group)"
   ]
  },
  {
   "cell_type": "markdown",
   "metadata": {},
   "source": [
    "### 2. Multinomial logistic regression \n",
    "* Used because we have a number of levels in the DV \n",
    "* We start by choosing the IV and testing collinetary "
   ]
  },
  {
   "cell_type": "markdown",
   "metadata": {},
   "source": [
    "#### Test Collintary "
   ]
  }
 ],
 "metadata": {
  "kernelspec": {
   "display_name": "R",
   "language": "R",
   "name": "ir"
  },
  "language_info": {
   "codemirror_mode": "r",
   "file_extension": ".r",
   "mimetype": "text/x-r-source",
   "name": "R",
   "pygments_lexer": "r",
   "version": "3.4.2"
  }
 },
 "nbformat": 4,
 "nbformat_minor": 2
}
