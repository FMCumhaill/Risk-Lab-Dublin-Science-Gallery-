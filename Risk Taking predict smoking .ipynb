{
 "cells": [
  {
   "cell_type": "markdown",
   "metadata": {},
   "source": [
    "## Predicting the number of cigarettes smoked per week from a measure of risk taking in a social context (Domain-Specific Risk-Taking (DOSPERT) Scale )\n",
    "**This is private data. Please do not share**\n",
    "\n",
    "* Date: 2017 - 12 - 22\n",
    "\n",
    "* Version: 1\n",
    "* Editors: Fionn Delahunty \n",
    "\n",
    "------- \n",
    "\n",
    "This notebook (R code) investigates if the Domain-Specific Risk-Taking (DOSPERT) Scale social context  measure is a predictor of the number of cigarettes smoked in a week in the sample data. \n",
    "\n",
    "\n",
    "\n",
    "__Summary of steps__\n",
    "\n",
    "_ Exploratory data analysis _ \n",
    "1. Dataset import \n",
    "2. Testing distribution of risk taking measure\n",
    "3. Testing distribution of number of cigarettes smoked measure \n",
    "\n",
    "_ Model building _ \n",
    "\n",
    "4. Investigating the two variables together \n",
    "5. Investigating modeling using logistic regression\n",
    "5. Investigating modeling using additive regression \n",
    "6. Investigating modeling using regression trees \n",
    "\n",
    "\n",
    "------\n",
    "__ Conclusion __\n",
    "Overall, there is very little difference in social risk taking between groups of smokers. This difference does not lend itself to an easy prediction, and realistically is probably not worth predicting. Fundamentally there is no statically significant difference between smoking groups based on social risk taking \n"
   ]
  },
  {
   "cell_type": "markdown",
   "metadata": {},
   "source": [
    "### 1. Dataset Import"
   ]
  },
  {
   "cell_type": "code",
   "execution_count": 7,
   "metadata": {},
   "outputs": [],
   "source": [
    "data <- read.csv(file=\"Risklab_2.4.csv\", header=TRUE, sep=\",\")\n",
    "#names(data)"
   ]
  },
  {
   "cell_type": "markdown",
   "metadata": {},
   "source": [
    "### 2. Testing distribution of risk taking measure"
   ]
  },
  {
   "cell_type": "code",
   "execution_count": 8,
   "metadata": {},
   "outputs": [
    {
     "data": {
      "image/png": "[encoded data removed]",
      "text/plain": [
       "Plot with title \"Histogram of data$DOS_Social\""
      ]
     },
     "metadata": {},
     "output_type": "display_data",
     "source": "R display func"
    }
   ],
   "source": [
    "#library(psych)\n",
    "#describe(data$DOS_Social)\n",
    "par(mfrow = c(2,2))\n",
    "\n",
    "qqnorm((data$DOS_Social))\n",
    "qqline((data$DOS_Social))\n",
    "\n",
    "\n",
    "hist(data$DOS_Social)\n",
    "boxplot(data$DOS_Social)"
   ]
  },
  {
   "cell_type": "markdown",
   "metadata": {},
   "source": [
    "__ Notes __\n",
    "* Not so sure about the distribution, there seem to be a tail at the upper limit and some small outiers to the lower right handside. \n",
    "* Some outlining  values to lower ends of the boxplot as well. However, given the size of the dataset we might be ok"
   ]
  },
  {
   "cell_type": "markdown",
   "metadata": {},
   "source": [
    "### 3. Testing the distribution of Cigarettes smoked per week "
   ]
  },
  {
   "cell_type": "code",
   "execution_count": 14,
   "metadata": {},
   "outputs": [
    {
     "ename": "ERROR",
     "evalue": "Error: package or namespace load failed for 'psych' in loadNamespace(j <- i[[1L]], c(lib.loc, .libPaths()), versionCheck = vI[[j]]):\n there is no package called 'foreign'\n",
     "execution_count": 14,
     "output_type": "error",
     "traceback": [
      "Error: package or namespace load failed for 'psych' in loadNamespace(j <- i[[1L]], c(lib.loc, .libPaths()), versionCheck = vI[[j]]):\n there is no package called 'foreign'\nTraceback:\n",
      "1. library(psych)",
      "2. tryCatch({\n .     attr(package, \"LibPath\") <- which.lib.loc\n .     ns <- loadNamespace(package, lib.loc)\n .     env <- attachNamespace(ns, pos = pos, deps)\n . }, error = function(e) {\n .     P <- if (!is.null(cc <- conditionCall(e))) \n .         paste(\" in\", deparse(cc)[1L])\n .     else \"\"\n .     msg <- gettextf(\"package or namespace load failed for %s%s:\\n %s\", \n .         sQuote(package), P, conditionMessage(e))\n .     if (logical.return) \n .         message(paste(\"Error:\", msg), domain = NA)\n .     else stop(msg, call. = FALSE, domain = NA)\n . })",
      "3. tryCatchList(expr, classes, parentenv, handlers)",
      "4. tryCatchOne(expr, names, parentenv, handlers[[1L]])",
      "5. value[[3L]](cond)",
      "6. stop(msg, call. = FALSE, domain = NA)"
     ]
    }
   ],
   "source": [
    "library(psych)\n",
    "\n",
    "#Changing all null values to 0\n",
    "data$HOW_MANY_CIGARETTES_PER_WEEK[is.na(data$HOW_MANY_CIGARETTES_PER_WEEK)] <- 0\n",
    "\n",
    "\n",
    "table(data$HOW_MANY_CIGARETTES_PER_WEEK)\n",
    "par(mfrow = c(2,2))\n",
    "\n",
    "qqnorm(data$HOW_MANY_CIGARETTES_PER_WEEK)\n",
    "qqline(data$HOW_MANY_CIGARETTES_PER_WEEK)\n",
    "\n",
    "hist(data$HOW_MANY_CIGARETTES_PER_WEEK)\n",
    "boxplot(data$HOW_MANY_CIGARETTES_PER_WEEK)"
   ]
  },
  {
   "cell_type": "markdown",
   "metadata": {},
   "source": [
    "__ Notes: __ \n",
    "* Our distribution of CSPW is unuseable in it's current state. The spread of the data is a problem, below we slipt the varible into 7 levels by breaks of 25. We do this twice, one to inc the 1024 zero values and one which one inc + 1 values "
   ]
  },
  {
   "cell_type": "code",
   "execution_count": 15,
   "metadata": {},
   "outputs": [
    {
     "data": {
      "text/plain": [
       "cigarette\n",
       "   (0,25]   (25,50]   (50,75]  (75,100] (100,125] (125,150] (150,175] \n",
       "      113        47        44         8        19        24         6 "
      ]
     },
     "metadata": {},
     "output_type": "display_data"
    },
    {
     "data": {
      "text/plain": [
       "cigarette_zero_inc\n",
       "  (-1,24]   (24,49]   (49,74]   (74,99]  (99,124] (124,149] (149,174] \n",
       "      110        45        49         5        22        24         0 "
      ]
     },
     "metadata": {},
     "output_type": "display_data"
    },
    {
     "data": {
      "image/png": "[encoded data removed]",
      "text/plain": [
       "Plot with title \"Levels\""
      ]
     },
     "metadata": {},
     "output_type": "display_data",
     "source": "R display func"
    }
   ],
   "source": [
    "cigarette <- cut(data$HOW_MANY_CIGARETTES_PER_WEEK, breaks = seq(0, 175, by = 25))\n",
    "cigarette_zero_inc <- cut(data$HOW_MANY_CIGARETTES_PER_WEEK, breaks = seq(-1, 175, by = 25))\n",
    "\n",
    "\n",
    "table(cigarette)\n",
    "table(cigarette_zero_inc)\n",
    "\n",
    "par(mfrow = c(2,2))\n",
    "\n",
    "hist(data$HOW_MANY_CIGARETTES_PER_WEEK)\n",
    "title(\"Raw Data\")\n",
    "plot(cigarette)\n",
    "title(main=\"Levels\", xlab=\"Number of levels (Grouped in 25)\", ylab=\"Frequency\")"
   ]
  },
  {
   "cell_type": "markdown",
   "metadata": {},
   "source": [
    "## 4. Investigating the two variables together \n",
    "1. We start with a simple anova comparing the seven levels. \n",
    "2. We recode the levels as dummy varibles and perform a linear regression"
   ]
  },
  {
   "cell_type": "code",
   "execution_count": 16,
   "metadata": {},
   "outputs": [
    {
     "name": "stdout",
     "output_type": "stream",
     "text": [
      "[1] \"Anova\"\n"
     ]
    },
    {
     "data": {
      "text/plain": [
       "                      Df Sum Sq Mean Sq F value Pr(>F)\n",
       "as.factor(cigarette)   6    141   23.57   0.793  0.576\n",
       "Residuals            254   7549   29.72               \n",
       "1067 observations deleted due to missingness"
      ]
     },
     "metadata": {},
     "output_type": "display_data"
    },
    {
     "name": "stdout",
     "output_type": "stream",
     "text": [
      "[1] \" ----------------------------------------------------------------------------------------------------- \"\n"
     ]
    },
    {
     "data": {
      "text/plain": [
       "\n",
       "\tKruskal-Wallis rank sum test\n",
       "\n",
       "data:  data$DOS_Social and as.factor(cigarette)\n",
       "Kruskal-Wallis chi-squared = 5.4839, df = 6, p-value = 0.4834\n"
      ]
     },
     "metadata": {},
     "output_type": "display_data"
    },
    {
     "name": "stdout",
     "output_type": "stream",
     "text": [
      "[1] \" ----------------------------------------------------------------------------------------------------- \"\n"
     ]
    },
    {
     "data": {
      "text/plain": [
       "  Tukey multiple comparisons of means\n",
       "    95% family-wise confidence level\n",
       "\n",
       "Fit: aov(formula = data$DOS_Social ~ as.factor(cigarette))\n",
       "\n",
       "$`as.factor(cigarette)`\n",
       "                           diff        lwr       upr     p adj\n",
       "(25,50]-(0,25]      -0.15044248  -2.962728  2.661843 0.9999986\n",
       "(50,75]-(0,25]      -0.01407884  -2.893279  2.865121 1.0000000\n",
       "(75,100]-(0,25]      1.84955752  -4.078276  7.777391 0.9678825\n",
       "(100,125]-(0,25]    -2.25570564  -6.273229  1.761818 0.6375184\n",
       "(125,150]-(0,25]     0.39122419  -3.250466  4.032914 0.9999134\n",
       "(150,175]-(0,25]     1.51622419  -5.271843  8.304292 0.9943778\n",
       "(50,75]-(25,50]      0.13636364  -3.262494  3.535221 0.9999998\n",
       "(75,100]-(25,50]     2.00000000  -4.196906  8.196906 0.9620889\n",
       "(100,125]-(25,50]   -2.10526316  -6.510140  2.299614 0.7903776\n",
       "(125,150]-(25,50]    0.54166667  -3.523348  4.606682 0.9996958\n",
       "(150,175]-(25,50]    1.66666667  -5.357599  8.690932 0.9922075\n",
       "(75,100]-(50,75]     1.86363636  -4.363923  8.091195 0.9739105\n",
       "(100,125]-(50,75]   -2.24162679  -6.689523  2.206270 0.7459465\n",
       "(125,150]-(50,75]    0.40530303  -3.706289  4.516895 0.9999478\n",
       "(150,175]-(50,75]    1.53030303  -5.521019  8.581625 0.9951953\n",
       "(100,125]-(75,100]  -4.10526316 -10.934114  2.723587 0.5582538\n",
       "(125,150]-(75,100]  -1.45833333  -8.073060  5.156393 0.9947638\n",
       "(150,175]-(75,100]  -0.33333333  -9.083794  8.417127 0.9999998\n",
       "(125,150]-(100,125]  2.64692982  -2.328600  7.622460 0.6945374\n",
       "(150,175]-(100,125]  3.77192982  -3.815682 11.359542 0.7579953\n",
       "(150,175]-(125,150]  1.12500000  -6.270489  8.520489 0.9993471\n"
      ]
     },
     "metadata": {},
     "output_type": "display_data"
    },
    {
     "data": {
      "image/png": "[encoded data removed]",
      "text/plain": [
       "Plot with title \"Box Plot\""
      ]
     },
     "metadata": {},
     "output_type": "display_data",
     "source": "R display func"
    }
   ],
   "source": [
    "boxplot(data$DOS_Social~cigarette)\n",
    "title(main=\"Box Plot\",  \n",
    "  \txlab=\"Cigarette levels\", ylab=\"DOS Social\")\n",
    "anovatest<-aov(data$DOS_Social~as.factor(cigarette),)\n",
    "library(xtable)\n",
    "print (\"Anova\")\n",
    "summary(anovatest)\n",
    "print(\" ----------------------------------------------------------------------------------------------------- \")\n",
    "kruskal.test(data$DOS_Social,as.factor(cigarette))\n",
    "print(\" ----------------------------------------------------------------------------------------------------- \")\n",
    "TukeyHSD(anovatest)"
   ]
  },
  {
   "cell_type": "markdown",
   "metadata": {},
   "source": [
    "__ Notes: __\n",
    "* ANOVA: Did not reject the null hypothesis, sample size might have been an issue\n",
    "* KW: Same as above, but sample size can't really be an issue here\n",
    "* Boxplot: Yes there is a difference in means, but __ A: __ it's not very big and __ B: __ it's not in one direction (Increasing or decreasing) \n",
    "* We also see quite a large spread in the box plot for each grouping "
   ]
  },
  {
   "cell_type": "markdown",
   "metadata": {},
   "source": [
    "## 5. Model building (Regression) "
   ]
  },
  {
   "cell_type": "code",
   "execution_count": 17,
   "metadata": {},
   "outputs": [
    {
     "data": {
      "text/plain": [
       "\n",
       "Call:\n",
       "lm(formula = data$DOS_Social ~ second + third + forth + fifth + \n",
       "    seven, data = data2)\n",
       "\n",
       "Residuals:\n",
       "     Min       1Q   Median       3Q      Max \n",
       "-23.6271  -3.6271   0.3729   4.3729  10.3729 \n",
       "\n",
       "Coefficients:\n",
       "            Estimate Std. Error t value Pr(>|t|)    \n",
       "(Intercept)  31.6271     0.1664 190.024   <2e-16 ***\n",
       "second        1.3729     0.8587   1.599   0.1101    \n",
       "third         1.5093     0.8864   1.703   0.0889 .  \n",
       "forth         3.3729     2.0486   1.646   0.0999 .  \n",
       "fifth        -0.7323     1.3353  -0.548   0.5835    \n",
       "seven         3.0396     2.3636   1.286   0.1987    \n",
       "---\n",
       "Signif. codes:  0 '***' 0.001 '**' 0.01 '*' 0.05 '.' 0.1 ' ' 1\n",
       "\n",
       "Residual standard error: 5.775 on 1322 degrees of freedom\n",
       "Multiple R-squared:  0.007331,\tAdjusted R-squared:  0.003577 \n",
       "F-statistic: 1.953 on 5 and 1322 DF,  p-value: 0.08299\n"
      ]
     },
     "metadata": {},
     "output_type": "display_data"
    },
    {
     "ename": "ERROR",
     "evalue": "Error in eval(expr, envir, enclos): object 'id' not found\n",
     "execution_count": 17,
     "output_type": "error",
     "traceback": [
      "Error in eval(expr, envir, enclos): object 'id' not found\nTraceback:\n"
     ]
    },
    {
     "data": {
      "image/png": "[encoded data removed]",
      "text/plain": [
       "Plot with title \"\""
      ]
     },
     "metadata": {},
     "output_type": "display_data",
     "source": "R display func"
    }
   ],
   "source": [
    "#Create N \n",
    "n<-dim(data)[1]\n",
    "#Create new var\n",
    "first<-rep(0,n);\n",
    "second<-rep(0,n);\n",
    "third<-rep(0,n)\n",
    "forth<-rep(0,n)\n",
    "fifth<-rep(0,n)\n",
    "sixth<-rep(0,n)\n",
    "seven<-rep(0,n)\n",
    "#Assign var 1/0 based on grouping \n",
    "first[cigarette=='(0,25]']<-1;\n",
    "second[cigarette=='(25,50]']<-1;\n",
    "third[cigarette=='(50,75]']<-1;\n",
    "forth[cigarette=='(75,100]']<-1;\n",
    "fifth[cigarette=='(100,125]']<-1;\n",
    "sixth[cigarette=='(125,150]']<-1;\n",
    "seven[cigarette=='(150,175]']<-1;\n",
    "\n",
    "#Create new dataframe with names\n",
    "data2<-cbind(first,second,third,forth,fifth,sixth,seven)\n",
    "names(data2)<-c(\"first\",\"second\",\"third\",\"forth\",\"fifth\",\"sixth\",\"seven\",names(data))\n",
    "data2 <-data.frame(data2)\n",
    "\n",
    "#Perform LM\n",
    "#First dropped to act as baseline \n",
    "regmod<-lm(data$DOS_Social~second+third+forth+fifth+seven,data=data2)\n",
    "summary(regmod)\n",
    "mm <- regmod\n",
    "par(mfrow=c(2,2))\n",
    "plot(mm)\n",
    "p<-locator()\n",
    "\n",
    "cooksd<-cooks.distance(mm)\n",
    "\n",
    "\n",
    "plot(cooksd,main=\"Cooks Distance\",type=\"h\")\n",
    "abline(h=qf(.95,1,mm$df),lty=2)\n",
    "if (max(id$ind)!=-Inf) {text(id$ind,cooksd[id$ind],id$ind,pos=id$pos) }\n",
    "plot(mm$hat,main=\"Leverage\")\n",
    "abline(h=3*length(mm$coef)/dim(SA)[1])\n",
    "if (max(idlev$ind)!=-Inf) {text(idlev$ind,lm1$hat[idlev$ind],idlev$ind,pos=idlev$pos)}"
   ]
  },
  {
   "cell_type": "code",
   "execution_count": 21,
   "metadata": {},
   "outputs": [
    {
     "name": "stdout",
     "output_type": "stream",
     "text": [
      "Start:  AIC=6433.11\n",
      "data$DOS_Social ~ data$DOS_Recreational + second + third + forth + \n",
      "    fifth + sixth + seven - 1\n",
      "\n",
      "                        Df Sum of Sq     RSS    AIC\n",
      "- fifth                  1        74  166965 6431.7\n",
      "- seven                  1       161  167052 6432.4\n",
      "<none>                                166890 6433.1\n",
      "- second                 1       261  167152 6433.2\n",
      "- sixth                  1       328  167218 6433.7\n",
      "- forth                  1       637  167528 6436.2\n",
      "- third                  1       792  167683 6437.4\n",
      "- data$DOS_Recreational  1   1054528 1221418 9074.4\n",
      "\n",
      "Step:  AIC=6431.7\n",
      "data$DOS_Social ~ data$DOS_Recreational + second + third + forth + \n",
      "    sixth + seven - 1\n",
      "\n",
      "                        Df Sum of Sq     RSS    AIC\n",
      "- seven                  1       159  167124 6431.0\n",
      "<none>                                166965 6431.7\n",
      "- second                 1       255  167219 6431.7\n",
      "- sixth                  1       322  167287 6432.3\n",
      "- forth                  1       633  167598 6434.7\n",
      "- third                  1       782  167746 6435.9\n",
      "- data$DOS_Recreational  1   1072589 1239553 9092.0\n",
      "\n",
      "Step:  AIC=6430.96\n",
      "data$DOS_Social ~ data$DOS_Recreational + second + third + forth + \n",
      "    sixth - 1\n",
      "\n",
      "                        Df Sum of Sq     RSS    AIC\n",
      "- second                 1       249  167373 6430.9\n",
      "<none>                                167124 6431.0\n",
      "- sixth                  1       318  167442 6431.5\n",
      "- forth                  1       630  167754 6434.0\n",
      "- third                  1       773  167897 6435.1\n",
      "- data$DOS_Recreational  1   1079640 1246764 9097.7\n",
      "\n",
      "Step:  AIC=6430.94\n",
      "data$DOS_Social ~ data$DOS_Recreational + third + forth + sixth - \n",
      "    1\n",
      "\n",
      "                        Df Sum of Sq     RSS    AIC\n",
      "<none>                                167373 6430.9\n",
      "- sixth                  1       303  167676 6431.3\n",
      "- forth                  1       619  167993 6433.8\n",
      "- third                  1       743  168116 6434.8\n",
      "- data$DOS_Recreational  1   1130574 1297947 9149.1\n"
     ]
    },
    {
     "data": {
      "text/plain": [
       "\n",
       "Call:\n",
       "lm(formula = data$DOS_Social ~ data$DOS_Recreational + third + \n",
       "    forth + sixth - 1, data = data2)\n",
       "\n",
       "Coefficients:\n",
       "data$DOS_Recreational                  third                  forth  \n",
       "                1.177                  4.175                  8.820  \n",
       "                sixth  \n",
       "                3.586  \n"
      ]
     },
     "metadata": {},
     "output_type": "display_data"
    },
    {
     "name": "stdout",
     "output_type": "stream",
     "text": [
      "      Step Df  Deviance Resid. Df Resid. Dev      AIC\n",
      "1          NA        NA      1321   166890.4 9919.105\n",
      "2  - fifth  1  74.23419      1322   166964.7 9419.696\n",
      "3  - seven  1 159.49489      1323   167124.2 8920.964\n",
      "4 - second  1 249.21020      1324   167373.4 8422.943\n",
      "5  - sixth  1 302.89338      1325   167676.3 7925.344\n",
      "6  - forth  1 611.13752      1326   168287.4 7430.175\n",
      "7  - third  1 704.29196      1327   168991.7 6935.721\n",
      "     variable drop F       p-value  \n",
      "[1,] \"- fifth\"     \"0.588\" \"0.44342\"\n",
      "[2,] \"- seven\"     \"1.263\" \"0.26136\"\n",
      "[3,] \"- second\"    \"1.971\" \"0.16054\"\n",
      "[4,] \"- sixth\"     \"2.394\" \"0.12208\"\n",
      "[5,] \"- forth\"     \"4.815\" \"0.02838\"\n",
      "[6,] \"- third\"     \"5.53\"  \"0.01883\"\n"
     ]
    }
   ],
   "source": [
    "# BIC Regression\n",
    "step(mm,directions=\"backward\")\n",
    "ss<-step(mm,trace=0,k=500)\n",
    "print(ss$anova)\n",
    "\n",
    "RSSvec<-ss$anova[,5]\n",
    "deltaRSSvec<-diff(RSSvec)\n",
    "MSEvec<-RSSvec[2:length(RSSvec)]/ss$anova[2:length(RSSvec),4]\n",
    "Fvec<-deltaRSSvec/MSEvec\n",
    "pvals<-1-pf(Fvec,1,ss$anova[2:length(RSSvec),4])\n",
    "out<-cbind(ss$anova[2:length(RSSvec),1],round(Fvec,3),round(pvals,5))\n",
    "colnames(out)<-c(\"variable drop\",\"F\",\"p-value\")\n",
    "print(out)"
   ]
  },
  {
   "cell_type": "markdown",
   "metadata": {},
   "source": [
    "__ Notes: __ \n",
    "* Regression model suggests that none of the 6 levels have an interaction effect with DOS_Social when the first level is taken as a baseline. "
   ]
  },
  {
   "cell_type": "markdown",
   "metadata": {},
   "source": [
    "## 4. Additive model  \n",
    "* Here we try an additive model to investigate the interaction of DOS Social & DOS Recreational while holding for smoking \n"
   ]
  },
  {
   "cell_type": "code",
   "execution_count": 22,
   "metadata": {},
   "outputs": [
    {
     "data": {
      "text/html": [
       "0.34751468094576"
      ],
      "text/latex": [
       "0.34751468094576"
      ],
      "text/markdown": [
       "0.34751468094576"
      ],
      "text/plain": [
       "[1] 0.3475147"
      ]
     },
     "metadata": {},
     "output_type": "display_data"
    },
    {
     "data": {
      "image/png": "[encoded data removed]",
      "text/plain": [
       "plot without title"
      ]
     },
     "metadata": {},
     "output_type": "display_data",
     "source": "R display func"
    }
   ],
   "source": [
    "cor(data$DOS_Social,data$DOS_Recreational)\n",
    "plot(data$DOS_Social,data$DOS_Recreational,col=cigarette)\n"
   ]
  },
  {
   "cell_type": "code",
   "execution_count": 25,
   "metadata": {},
   "outputs": [
    {
     "data": {
      "text/plain": [
       "\n",
       "Call:\n",
       "lm(formula = data$DOS_Social ~ data$DOS_Recreational + third + \n",
       "    forth - 1, data = data2)\n",
       "\n",
       "Residuals:\n",
       "    Min      1Q  Median      3Q     Max \n",
       "-23.992  -4.916   3.594  11.697  34.924 \n",
       "\n",
       "Coefficients:\n",
       "                      Estimate Std. Error t value Pr(>|t|)    \n",
       "data$DOS_Recreational  1.17928    0.01233  95.629   <2e-16 ***\n",
       "third                  4.11001    1.72285   2.386   0.0172 *  \n",
       "forth                  8.76104    3.98670   2.198   0.0282 *  \n",
       "---\n",
       "Signif. codes:  0 '***' 0.001 '**' 0.01 '*' 0.05 '.' 0.1 ' ' 1\n",
       "\n",
       "Residual standard error: 11.25 on 1325 degrees of freedom\n",
       "Multiple R-squared:  0.8788,\tAdjusted R-squared:  0.8785 \n",
       "F-statistic:  3201 on 3 and 1325 DF,  p-value: < 2.2e-16\n"
      ]
     },
     "metadata": {},
     "output_type": "display_data"
    },
    {
     "ename": "ERROR",
     "evalue": "Error in eval(expr, envir, enclos): object 'id' not found\n",
     "execution_count": 25,
     "output_type": "error",
     "traceback": [
      "Error in eval(expr, envir, enclos): object 'id' not found\nTraceback:\n"
     ]
    },
    {
     "data": {
      "image/png": "[encoded data removed]",
      "text/plain": [
       "Plot with title \"\""
      ]
     },
     "metadata": {},
     "output_type": "display_data",
     "source": "R display func"
    }
   ],
   "source": [
    "regmod<-lm(data$DOS_Social~data$DOS_Recreational+third+forth-1,data=data2)\n",
    "summary(regmod)\n",
    "mm <- regmod\n",
    "par(mfrow=c(2,2))\n",
    "plot(mm)\n",
    "p<-locator()\n",
    "\n",
    "cooksd<-cooks.distance(mm)\n",
    "\n",
    "\n",
    "plot(cooksd,main=\"Cooks Distance\",type=\"h\")\n",
    "abline(h=qf(.95,1,mm$df),lty=2)\n",
    "if (max(id$ind)!=-Inf) {text(id$ind,cooksd[id$ind],id$ind,pos=id$pos) }\n",
    "plot(mm$hat,main=\"Leverage\")\n",
    "abline(h=3*length(mm$coef)/dim(SA)[1])\n",
    "if (max(idlev$ind)!=-Inf) {text(idlev$ind,lm1$hat[idlev$ind],idlev$ind,pos=idlev$pos)}"
   ]
  },
  {
   "cell_type": "code",
   "execution_count": 24,
   "metadata": {},
   "outputs": [
    {
     "name": "stdout",
     "output_type": "stream",
     "text": [
      "Start:  AIC=6433.11\n",
      "data$DOS_Social ~ data$DOS_Recreational + second + third + forth + \n",
      "    fifth + sixth + seven - 1\n",
      "\n",
      "                        Df Sum of Sq     RSS    AIC\n",
      "- fifth                  1        74  166965 6431.7\n",
      "- seven                  1       161  167052 6432.4\n",
      "<none>                                166890 6433.1\n",
      "- second                 1       261  167152 6433.2\n",
      "- sixth                  1       328  167218 6433.7\n",
      "- forth                  1       637  167528 6436.2\n",
      "- third                  1       792  167683 6437.4\n",
      "- data$DOS_Recreational  1   1054528 1221418 9074.4\n",
      "\n",
      "Step:  AIC=6431.7\n",
      "data$DOS_Social ~ data$DOS_Recreational + second + third + forth + \n",
      "    sixth + seven - 1\n",
      "\n",
      "                        Df Sum of Sq     RSS    AIC\n",
      "- seven                  1       159  167124 6431.0\n",
      "<none>                                166965 6431.7\n",
      "- second                 1       255  167219 6431.7\n",
      "- sixth                  1       322  167287 6432.3\n",
      "- forth                  1       633  167598 6434.7\n",
      "- third                  1       782  167746 6435.9\n",
      "- data$DOS_Recreational  1   1072589 1239553 9092.0\n",
      "\n",
      "Step:  AIC=6430.96\n",
      "data$DOS_Social ~ data$DOS_Recreational + second + third + forth + \n",
      "    sixth - 1\n",
      "\n",
      "                        Df Sum of Sq     RSS    AIC\n",
      "- second                 1       249  167373 6430.9\n",
      "<none>                                167124 6431.0\n",
      "- sixth                  1       318  167442 6431.5\n",
      "- forth                  1       630  167754 6434.0\n",
      "- third                  1       773  167897 6435.1\n",
      "- data$DOS_Recreational  1   1079640 1246764 9097.7\n",
      "\n",
      "Step:  AIC=6430.94\n",
      "data$DOS_Social ~ data$DOS_Recreational + third + forth + sixth - \n",
      "    1\n",
      "\n",
      "                        Df Sum of Sq     RSS    AIC\n",
      "<none>                                167373 6430.9\n",
      "- sixth                  1       303  167676 6431.3\n",
      "- forth                  1       619  167993 6433.8\n",
      "- third                  1       743  168116 6434.8\n",
      "- data$DOS_Recreational  1   1130574 1297947 9149.1\n"
     ]
    },
    {
     "data": {
      "text/plain": [
       "\n",
       "Call:\n",
       "lm(formula = data$DOS_Social ~ data$DOS_Recreational + third + \n",
       "    forth + sixth - 1, data = data2)\n",
       "\n",
       "Coefficients:\n",
       "data$DOS_Recreational                  third                  forth  \n",
       "                1.177                  4.175                  8.820  \n",
       "                sixth  \n",
       "                3.586  \n"
      ]
     },
     "metadata": {},
     "output_type": "display_data"
    },
    {
     "name": "stdout",
     "output_type": "stream",
     "text": [
      "      Step Df  Deviance Resid. Df Resid. Dev      AIC\n",
      "1          NA        NA      1321   166890.4 9919.105\n",
      "2  - fifth  1  74.23419      1322   166964.7 9419.696\n",
      "3  - seven  1 159.49489      1323   167124.2 8920.964\n",
      "4 - second  1 249.21020      1324   167373.4 8422.943\n",
      "5  - sixth  1 302.89338      1325   167676.3 7925.344\n",
      "6  - forth  1 611.13752      1326   168287.4 7430.175\n",
      "7  - third  1 704.29196      1327   168991.7 6935.721\n",
      "     variable drop F       p-value  \n",
      "[1,] \"- fifth\"     \"0.588\" \"0.44342\"\n",
      "[2,] \"- seven\"     \"1.263\" \"0.26136\"\n",
      "[3,] \"- second\"    \"1.971\" \"0.16054\"\n",
      "[4,] \"- sixth\"     \"2.394\" \"0.12208\"\n",
      "[5,] \"- forth\"     \"4.815\" \"0.02838\"\n",
      "[6,] \"- third\"     \"5.53\"  \"0.01883\"\n"
     ]
    }
   ],
   "source": [
    "step(mm,directions=\"backward\")\n",
    "ss<-step(mm,trace=0,k=500)\n",
    "print(ss$anova)\n",
    "\n",
    "RSSvec<-ss$anova[,5]\n",
    "deltaRSSvec<-diff(RSSvec)\n",
    "MSEvec<-RSSvec[2:length(RSSvec)]/ss$anova[2:length(RSSvec),4]\n",
    "Fvec<-deltaRSSvec/MSEvec\n",
    "pvals<-1-pf(Fvec,1,ss$anova[2:length(RSSvec),4])\n",
    "out<-cbind(ss$anova[2:length(RSSvec),1],round(Fvec,3),round(pvals,5))\n",
    "colnames(out)<-c(\"variable drop\",\"F\",\"p-value\")\n",
    "print(out)"
   ]
  },
  {
   "cell_type": "markdown",
   "metadata": {},
   "source": [
    "__ Notes: __\n",
    "* DOS_Re improves our model fit, "
   ]
  }
 ],
 "metadata": {
  "kernelspec": {
   "display_name": "R",
   "language": "R",
   "name": "ir"
  },
  "language_info": {
   "codemirror_mode": "r",
   "file_extension": ".r",
   "mimetype": "text/x-r-source",
   "name": "R",
   "pygments_lexer": "r",
   "version": "3.4.2"
  }
 },
 "nbformat": 4,
 "nbformat_minor": 2
}
