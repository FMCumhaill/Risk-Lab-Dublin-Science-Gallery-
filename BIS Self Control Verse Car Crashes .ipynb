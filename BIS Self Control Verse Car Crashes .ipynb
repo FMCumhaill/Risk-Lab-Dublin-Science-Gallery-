{
 "cells": [
  {
   "cell_type": "markdown",
   "metadata": {},
   "source": [
    "## Predicting the number of car crashes from a measure of self control (Barratt Impulsiveness Scale Self Control Measure)\n",
    "**This is private data. Please do not share**\n",
    "\n",
    "* Date: 2017 - 12 - 22\n",
    "\n",
    "* Version: 2 \n",
    "* Editors: Fionn Delahunty \n",
    "\n",
    "------- \n",
    "\n",
    "This notebook (R code) investigates if Barratt Impulsiveness Scale (BIS) self control measure is a predictor of the number of car crashes in the sample data. \n",
    "\n",
    "\n",
    "\n",
    "__Summary of steps__\n",
    "1. Dataset import \n",
    "2. Testing distribution of self control measure \n",
    "3. Testing distribution of car crash measure \n",
    "4. Investigating the two varibles together \n",
    "5. Investigating model using logistic regression\n",
    "5. Summary\n",
    "------\n",
    "* DV <-> Crashes\n",
    "* IV <-> BIS \n"
   ]
  },
  {
   "cell_type": "markdown",
   "metadata": {},
   "source": [
    "### 1. Dataset Import"
   ]
  },
  {
   "cell_type": "code",
   "execution_count": null,
   "metadata": {},
   "outputs": [],
   "source": [
    "# Dataset Import \n",
    "data <- read.csv(file=\"Risklab_2.4.csv\", header=TRUE, sep=\",\")"
   ]
  },
  {
   "cell_type": "markdown",
   "metadata": {},
   "source": [
    "### 2. Testing distribution of self control measure "
   ]
  },
  {
   "cell_type": "code",
   "execution_count": null,
   "metadata": {},
   "outputs": [],
   "source": [
    "library(psych)\n",
    "describe(data$BIS_self_control)\n",
    "par(mfrow = c(2,2))\n",
    "\n",
    "qqnorm(data$BIS_self_control)\n",
    "qqline(data$BIS_self_control)\n",
    "\n",
    "hist(data$BIS_self_control)\n",
    "boxplot(data$BIS_self_control)\n",
    "\n",
    "\n"
   ]
  },
  {
   "cell_type": "markdown",
   "metadata": {},
   "source": [
    "#### Comments\n",
    "Not a prefert fit,but should still work without transformations. There is a few outliners, but I don't see them being an issue. "
   ]
  },
  {
   "cell_type": "markdown",
   "metadata": {},
   "source": [
    "---\n"
   ]
  },
  {
   "cell_type": "markdown",
   "metadata": {},
   "source": [
    "### 3. Checking distribution of car accidents"
   ]
  },
  {
   "cell_type": "code",
   "execution_count": 3,
   "metadata": {},
   "outputs": [
    {
     "data": {
      "text/html": [
       "<table>\n",
       "<thead><tr><th></th><th scope=col>vars</th><th scope=col>n</th><th scope=col>mean</th><th scope=col>sd</th><th scope=col>median</th><th scope=col>trimmed</th><th scope=col>mad</th><th scope=col>min</th><th scope=col>max</th><th scope=col>range</th><th scope=col>skew</th><th scope=col>kurtosis</th><th scope=col>se</th></tr></thead>\n",
       "<tbody>\n",
       "\t<tr><th scope=row>X1</th><td>1          </td><td>1328       </td><td>0.122741   </td><td>0.3833313  </td><td>0          </td><td>0.008458647</td><td>0          </td><td>0          </td><td>4          </td><td>4          </td><td>3.672876   </td><td>17.16372   </td><td>0.01051902 </td></tr>\n",
       "</tbody>\n",
       "</table>\n"
      ],
      "text/latex": [
       "\\begin{tabular}{r|lllllllllllll}\n",
       "  & vars & n & mean & sd & median & trimmed & mad & min & max & range & skew & kurtosis & se\\\\\n",
       "\\hline\n",
       "\tX1 & 1           & 1328        & 0.122741    & 0.3833313   & 0           & 0.008458647 & 0           & 0           & 4           & 4           & 3.672876    & 17.16372    & 0.01051902 \\\\\n",
       "\\end{tabular}\n"
      ],
      "text/markdown": [
       "\n",
       "| <!--/--> | vars | n | mean | sd | median | trimmed | mad | min | max | range | skew | kurtosis | se | \n",
       "|---|\n",
       "| X1 | 1           | 1328        | 0.122741    | 0.3833313   | 0           | 0.008458647 | 0           | 0           | 4           | 4           | 3.672876    | 17.16372    | 0.01051902  | \n",
       "\n",
       "\n"
      ],
      "text/plain": [
       "   vars n    mean     sd        median trimmed     mad min max range skew    \n",
       "X1 1    1328 0.122741 0.3833313 0      0.008458647 0   0   4   4     3.672876\n",
       "   kurtosis se        \n",
       "X1 17.16372 0.01051902"
      ]
     },
     "metadata": {},
     "output_type": "display_data"
    },
    {
     "data": {
      "image/png": "[encoded data removed]",
      "text/plain": [
       "Plot with title \"Histogram of data$HOW_MANY_COLLISIONS_LAST_TWO_YEARS\""
      ]
     },
     "metadata": {},
     "output_type": "display_data",
     "source": "R display func"
    }
   ],
   "source": [
    "library(psych)\n",
    "describe(data$HOW_MANY_COLLISIONS_LAST_TWO_YEARS)\n",
    "par(mfrow = c(2,2))\n",
    "\n",
    "qqnorm(data$HOW_MANY_COLLISIONS_LAST_TWO_YEARS)\n",
    "qqline(data$HOW_MANY_COLLISIONS_LAST_TWO_YEARS)\n",
    "\n",
    "hist(data$HOW_MANY_COLLISIONS_LAST_TWO_YEARS)\n",
    "boxplot(data$HOW_MANY_COLLISIONS_LAST_TWO_YEARS)\n",
    "\n"
   ]
  },
  {
   "cell_type": "markdown",
   "metadata": {},
   "source": [
    "#### Comments \n",
    "This is not good, lots of 0 values. But let's see going forward \n",
    "\n",
    "------"
   ]
  },
  {
   "cell_type": "markdown",
   "metadata": {},
   "source": [
    "### 4. Comparing Self control to car crashes "
   ]
  },
  {
   "cell_type": "code",
   "execution_count": 4,
   "metadata": {},
   "outputs": [
    {
     "data": {
      "image/png": "[encoded data removed]",
      "text/plain": [
       "plot without title"
      ]
     },
     "metadata": {},
     "output_type": "display_data",
     "source": "R display func"
    }
   ],
   "source": [
    "par(mfrow = c(2,2))\n",
    "\n",
    "plot(data$HOW_MANY_COLLISIONS_LAST_TWO_YEARS,data$BIS_self_control)\n",
    "boxplot(data$BIS_self_control~data$HOW_MANY_COLLISIONS_LAST_TWO_YEARS)\n"
   ]
  },
  {
   "cell_type": "markdown",
   "metadata": {},
   "source": [
    "#### Comment\n",
    "We can see a mean difference in BIS between 0 and 1 crashes, while there dose not seem to be a significant mean difference between 1,2,3,4 crashes.\n",
    "\n",
    "This suggests that we can dichtomise crashes by grouping all crashes above 1 (1,2,3,4) into one group \n",
    "In the cell beleow we create a column in the dataframe called \"crash\" and code it as \n",
    "* 0 <- zero crashes\n",
    "* 1 <- At least 1 crash (Range 1 to 4 crashes in the last two years)"
   ]
  },
  {
   "cell_type": "code",
   "execution_count": 5,
   "metadata": {},
   "outputs": [
    {
     "data": {
      "text/plain": [
       "\n",
       "   0    1 \n",
       "1187  141 "
      ]
     },
     "metadata": {},
     "output_type": "display_data"
    }
   ],
   "source": [
    "data[\"Crash\"] <- 0\n",
    "data$Crash[data$HOW_MANY_COLLISIONS_LAST_TWO_YEARS == \"0\"] <- 0\n",
    "data$Crash[data$HOW_MANY_COLLISIONS_LAST_TWO_YEARS == \"1\"] <- 1\n",
    "data$Crash[data$HOW_MANY_COLLISIONS_LAST_TWO_YEARS == \"2\"] <- 1\n",
    "data$Crash[data$HOW_MANY_COLLISIONS_LAST_TWO_YEARS == \"3\"] <- 1\n",
    "data$Crash[data$HOW_MANY_COLLISIONS_LAST_TWO_YEARS == \"4\"] <- 1\n",
    "data$Crash <- factor(data$Crash)\n",
    "table(data$Crash)"
   ]
  },
  {
   "cell_type": "code",
   "execution_count": 6,
   "metadata": {},
   "outputs": [
    {
     "data": {
      "image/png": "[encoded data removed]",
      "text/plain": [
       "plot without title"
      ]
     },
     "metadata": {},
     "output_type": "display_data",
     "source": "R display func"
    }
   ],
   "source": [
    "plot(data$BIS_self_control,data$Crash)"
   ]
  },
  {
   "cell_type": "markdown",
   "metadata": {},
   "source": [
    "Our first test is a standard ANOVA. "
   ]
  },
  {
   "cell_type": "code",
   "execution_count": 10,
   "metadata": {},
   "outputs": [
    {
     "name": "stderr",
     "output_type": "stream",
     "text": [
      "Warning message in model.response(mf, \"numeric\"):\n",
      "\"using type = \"numeric\" with a factor response will be ignored\"Warning message in Ops.factor(y, z$residuals):\n",
      "\"'-' not meaningful for factors\""
     ]
    },
    {
     "ename": "ERROR",
     "evalue": "Error in levels(x)[x]: only 0's may be mixed with negative subscripts\n",
     "execution_count": 10,
     "output_type": "error",
     "traceback": [
      "Error in levels(x)[x]: only 0's may be mixed with negative subscripts\nTraceback:\n",
      "1. print(summary(fit))",
      "2. summary(fit)",
      "3. summary.aov(fit)",
      "4. as.matrix(effects)",
      "5. as.matrix.default(effects)",
      "6. array(x, c(length(x), 1L), if (!is.null(names(x))) list(names(x), \n .     NULL) else NULL)",
      "7. as.vector(data)",
      "8. as.vector(x, mode)",
      "9. as.vector.factor(x, mode)",
      "10. as.vector(levels(x)[x], mode)"
     ]
    }
   ],
   "source": [
    "fit <- aov(Crash~ BIS_self_control , data=data)\n",
    "print(summary(fit))\n",
    "\n",
    "boxplot(data$BIS_self_control~data$Crash)\n",
    "\n"
   ]
  },
  {
   "cell_type": "markdown",
   "metadata": {},
   "source": [
    "#### Comments \n",
    "Firstly, we note that the ANOVA did not reject the hypothesis. \n",
    "We also have two voliations of the assumptions for ANOVA. \n",
    "* Very unequal sample size, which we can't really fix. \n",
    "* Outliners in both of the dummy groups. Which we could fix, but is not really worth it considering the volation of the group size. \n",
    "\n",
    "------\n",
    "\n",
    "We attempt a Wilcoxon rank test in order to move around these volations "
   ]
  },
  {
   "cell_type": "code",
   "execution_count": null,
   "metadata": {},
   "outputs": [],
   "source": [
    "wilcox.test(data$BIS_self_control~as.factor(data$Crash)) "
   ]
  },
  {
   "cell_type": "markdown",
   "metadata": {},
   "source": [
    "#### Comments \n",
    "P value is still very high. Even if there is a difference, it would appear to be only by one point or so\n",
    "\n",
    "\n"
   ]
  },
  {
   "cell_type": "markdown",
   "metadata": {},
   "source": [
    "## Logistic Regression\n"
   ]
  },
  {
   "cell_type": "code",
   "execution_count": 13,
   "metadata": {},
   "outputs": [
    {
     "name": "stdout",
     "output_type": "stream",
     "text": [
      "\n",
      "Call:\n",
      "glm(formula = Crash ~ BIS_self_control, family = \"binomial\", \n",
      "    data = data)\n",
      "\n",
      "Deviance Residuals: \n",
      "    Min       1Q   Median       3Q      Max  \n",
      "-0.5198  -0.4807  -0.4713  -0.4621   2.1662  \n",
      "\n",
      "Coefficients:\n",
      "                 Estimate Std. Error z value Pr(>|z|)    \n",
      "(Intercept)      -1.78793    0.52164  -3.428 0.000609 ***\n",
      "BIS_self_control -0.02081    0.03135  -0.664 0.506890    \n",
      "---\n",
      "Signif. codes:  0 '***' 0.001 '**' 0.01 '*' 0.05 '.' 0.1 ' ' 1\n",
      "\n",
      "(Dispersion parameter for binomial family taken to be 1)\n",
      "\n",
      "    Null deviance: 898.90  on 1327  degrees of freedom\n",
      "Residual deviance: 898.46  on 1326  degrees of freedom\n",
      "AIC: 902.46\n",
      "\n",
      "Number of Fisher Scoring iterations: 4\n",
      "\n"
     ]
    }
   ],
   "source": [
    "gg<-glm(Crash~BIS_self_control,data=data,family=\"binomial\")\n",
    "print(summary(gg))"
   ]
  },
  {
   "cell_type": "markdown",
   "metadata": {},
   "source": [
    "## Notes \n",
    "* __ Chi-square goodness of fit test: __ = 1, meaning we reject the fit of the binoimal model with logit link. "
   ]
  },
  {
   "cell_type": "code",
   "execution_count": 9,
   "metadata": {},
   "outputs": [
    {
     "data": {
      "image/png": "[encoded data removed]",
      "text/plain": [
       "plot without title"
      ]
     },
     "metadata": {},
     "output_type": "display_data",
     "source": "R display func"
    },
    {
     "data": {
      "image/png": "[encoded data removed]",
      "text/plain": [
       "Plot with title \"\""
      ]
     },
     "metadata": {},
     "output_type": "display_data",
     "source": "R display func"
    }
   ],
   "source": [
    "#Code taken from \tRebecka Jörnsten assignments \n",
    "par(mfrow = c(2,2))\n",
    "res<-residuals(gg,\"pearson\")\n",
    "plot(logit(gg$fit),res,xlab=\"linear predictor\",ylab=\"pearson residual\")\n",
    "ll<-loess(res[sort.list(logit(gg$fit))]~sort(logit(gg$fit)))\n",
    "lines(ll$x,ll$fit,col=2)\n",
    "abline(h=0,lty=2)\n",
    "res<-residuals(gg,\"deviance\")\n",
    "plot(logit(gg$fit),res,xlab=\"linear predictor\",ylab=\"dev residual\")\n",
    "ll<-loess(res[sort.list(logit(gg$fit))]~sort(logit(gg$fit)))\n",
    "lines(ll$x,ll$fit,col=2)\n",
    "abline(h=0,lty=2)\n",
    "hh<-hatvalues(gg)\n",
    "plot(hh,type=\"h\",ylab=\"leverage\",xlab=\"index\")\n",
    "library(stats)\n",
    "dd<-cooks.distance(gg)\n",
    "plot(dd,type=\"h\",ylab=\"cooks distance\",xlab=\"index\")\n",
    "plot(gg)"
   ]
  },
  {
   "cell_type": "markdown",
   "metadata": {},
   "source": [
    "## Notes \n",
    "* __ Pearson Residuals plots: __ Firstly we have lots of values above the |ri| > 2 threshold. The actually fit of the model along the proposed model fit line is quite poor, with tails at either end deviating from the line. We attempted a number of transformations of the x variable (Log/Square root) which had no notificeable effect on either the summary stats or the plot. We suspect the issue here is due to uneven sample size, with the number of 0 values having almost ten times the number of 1 values, we note more about this later.  \n",
    "* __ Deviance Residuals: __ We have quite a large number of values above the |di| > 2 threshold, suggesting that almost all the 1 values have a significant influence on the log-likelihood. \n",
    "* __ Levergae & Cooks Distance: __ We have extreme value in cook distance. \n",
    "* __ Link test: __ This test should have been preformed but we couldn't get the R code to work correctly. However, given the other result we would expect the plot not to display a linear tread, but rather a screw. "
   ]
  },
  {
   "cell_type": "markdown",
   "metadata": {},
   "source": [
    "## 5. Summary \n",
    "In summary our above work shows that in our dataset BIS is not a predicter of the number of car crashes. \n",
    "* Mostly we attruite this to the uneven sample size between 1s and 0s. Is there is some suggested methods of fixing this issue ( Gary King and Langche Zeng. 2001.) but I(we) don't have the time for this. \n",
    "* I assume there is some problems with my own code and stats. \n"
   ]
  }
 ],
 "metadata": {
  "kernelspec": {
   "display_name": "R",
   "language": "R",
   "name": "ir"
  },
  "language_info": {
   "codemirror_mode": "r",
   "file_extension": ".r",
   "mimetype": "text/x-r-source",
   "name": "R",
   "pygments_lexer": "r",
   "version": "3.4.2"
  }
 },
 "nbformat": 4,
 "nbformat_minor": 2
}
