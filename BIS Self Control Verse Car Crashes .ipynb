{
 "cells": [
  {
   "cell_type": "markdown",
   "metadata": {},
   "source": [
    "## Barratt Impulsiveness Scale (Self Control Measure) as a predictor of the number of car crashes\n",
    "**This is private data. Please do not share**\n",
    "\n",
    "* Date: 2017 - 11 - 25\n",
    "* Version: 1 \n",
    "* Editors: Fionn Delahunty \n",
    "\n",
    "------- \n",
    "This notebook (R code) investigates if Barratt Impulsiveness Scale (BIS) self control measure is a predictor of the number of car crashes in the sample data. \n",
    "\n",
    "Summary of steps\n",
    "1. Dataset import \n",
    "2. Testing distribution of self control measure \n",
    "3. Testing distribution of car crash measure \n",
    "4. Investigating predictor \n",
    "5. Summary\n",
    "------\n"
   ]
  },
  {
   "cell_type": "markdown",
   "metadata": {},
   "source": [
    "### 1. Dataset Import"
   ]
  },
  {
   "cell_type": "code",
   "execution_count": 80,
   "metadata": {},
   "outputs": [],
   "source": [
    "# Dataset Import \n",
    "data <- read.csv(file=\"Risklab_2.4.csv\", header=TRUE, sep=\",\")"
   ]
  },
  {
   "cell_type": "markdown",
   "metadata": {},
   "source": [
    "### 2. Testing distribution of self control measure "
   ]
  },
  {
   "cell_type": "code",
   "execution_count": 81,
   "metadata": {},
   "outputs": [
    {
     "data": {
      "text/html": [
       "<table>\n",
       "<thead><tr><th></th><th scope=col>vars</th><th scope=col>n</th><th scope=col>mean</th><th scope=col>sd</th><th scope=col>median</th><th scope=col>trimmed</th><th scope=col>mad</th><th scope=col>min</th><th scope=col>max</th><th scope=col>range</th><th scope=col>skew</th><th scope=col>kurtosis</th><th scope=col>se</th></tr></thead>\n",
       "<tbody>\n",
       "\t<tr><th scope=row>X1</th><td>1         </td><td>1328      </td><td>16.5256   </td><td>2.833901  </td><td>17        </td><td>16.57331  </td><td>2.9652    </td><td>7         </td><td>24        </td><td>17        </td><td>-0.1501808</td><td>-0.1879539</td><td>0.07776526</td></tr>\n",
       "</tbody>\n",
       "</table>\n"
      ],
      "text/latex": [
       "\\begin{tabular}{r|lllllllllllll}\n",
       "  & vars & n & mean & sd & median & trimmed & mad & min & max & range & skew & kurtosis & se\\\\\n",
       "\\hline\n",
       "\tX1 & 1          & 1328       & 16.5256    & 2.833901   & 17         & 16.57331   & 2.9652     & 7          & 24         & 17         & -0.1501808 & -0.1879539 & 0.07776526\\\\\n",
       "\\end{tabular}\n"
      ],
      "text/markdown": [
       "\n",
       "| <!--/--> | vars | n | mean | sd | median | trimmed | mad | min | max | range | skew | kurtosis | se | \n",
       "|---|\n",
       "| X1 | 1          | 1328       | 16.5256    | 2.833901   | 17         | 16.57331   | 2.9652     | 7          | 24         | 17         | -0.1501808 | -0.1879539 | 0.07776526 | \n",
       "\n",
       "\n"
      ],
      "text/plain": [
       "   vars n    mean    sd       median trimmed  mad    min max range skew      \n",
       "X1 1    1328 16.5256 2.833901 17     16.57331 2.9652 7   24  17    -0.1501808\n",
       "   kurtosis   se        \n",
       "X1 -0.1879539 0.07776526"
      ]
     },
     "metadata": {},
     "output_type": "display_data"
    },
    {
     "data": {
      "image/png": "[encoded data removed]",
      "text/plain": [
       "Plot with title \"Normal Q-Q Plot\""
      ]
     },
     "metadata": {},
     "output_type": "display_data",
     "source": "R display func"
    },
    {
     "data": {
      "image/png": "[encoded data removed]",
      "text/plain": [
       "Plot with title \"Histogram of data$BIS_self_control\""
      ]
     },
     "metadata": {},
     "output_type": "display_data",
     "source": "R display func"
    },
    {
     "data": {
      "image/png": "[encoded data removed]",
      "text/plain": [
       "plot without title"
      ]
     },
     "metadata": {},
     "output_type": "display_data",
     "source": "R display func"
    }
   ],
   "source": [
    "library(psych)\n",
    "describe(data$BIS_self_control)\n",
    "\n",
    "qqnorm(data$BIS_self_control)\n",
    "qqline(data$BIS_self_control)\n",
    "\n",
    "hist(data$BIS_self_control)\n",
    "boxplot(data$BIS_self_control)\n",
    "\n",
    "\n"
   ]
  },
  {
   "cell_type": "markdown",
   "metadata": {},
   "source": [
    "#### Comments\n",
    "Not a prefert fit,but should still work without transmations. There is a few outliners, but I don't see them being an issue. "
   ]
  },
  {
   "cell_type": "markdown",
   "metadata": {},
   "source": [
    "---\n"
   ]
  },
  {
   "cell_type": "markdown",
   "metadata": {},
   "source": [
    "### 3. Checking distribution of car accidents"
   ]
  },
  {
   "cell_type": "code",
   "execution_count": 82,
   "metadata": {},
   "outputs": [
    {
     "data": {
      "text/html": [
       "<table>\n",
       "<thead><tr><th></th><th scope=col>vars</th><th scope=col>n</th><th scope=col>mean</th><th scope=col>sd</th><th scope=col>median</th><th scope=col>trimmed</th><th scope=col>mad</th><th scope=col>min</th><th scope=col>max</th><th scope=col>range</th><th scope=col>skew</th><th scope=col>kurtosis</th><th scope=col>se</th></tr></thead>\n",
       "<tbody>\n",
       "\t<tr><th scope=row>X1</th><td>1          </td><td>1328       </td><td>0.122741   </td><td>0.3833313  </td><td>0          </td><td>0.008458647</td><td>0          </td><td>0          </td><td>4          </td><td>4          </td><td>3.672876   </td><td>17.16372   </td><td>0.01051902 </td></tr>\n",
       "</tbody>\n",
       "</table>\n"
      ],
      "text/latex": [
       "\\begin{tabular}{r|lllllllllllll}\n",
       "  & vars & n & mean & sd & median & trimmed & mad & min & max & range & skew & kurtosis & se\\\\\n",
       "\\hline\n",
       "\tX1 & 1           & 1328        & 0.122741    & 0.3833313   & 0           & 0.008458647 & 0           & 0           & 4           & 4           & 3.672876    & 17.16372    & 0.01051902 \\\\\n",
       "\\end{tabular}\n"
      ],
      "text/markdown": [
       "\n",
       "| <!--/--> | vars | n | mean | sd | median | trimmed | mad | min | max | range | skew | kurtosis | se | \n",
       "|---|\n",
       "| X1 | 1           | 1328        | 0.122741    | 0.3833313   | 0           | 0.008458647 | 0           | 0           | 4           | 4           | 3.672876    | 17.16372    | 0.01051902  | \n",
       "\n",
       "\n"
      ],
      "text/plain": [
       "   vars n    mean     sd        median trimmed     mad min max range skew    \n",
       "X1 1    1328 0.122741 0.3833313 0      0.008458647 0   0   4   4     3.672876\n",
       "   kurtosis se        \n",
       "X1 17.16372 0.01051902"
      ]
     },
     "metadata": {},
     "output_type": "display_data"
    },
    {
     "data": {
      "image/png": "[encoded data removed]",
      "text/plain": [
       "Plot with title \"Normal Q-Q Plot\""
      ]
     },
     "metadata": {},
     "output_type": "display_data",
     "source": "R display func"
    },
    {
     "data": {
      "image/png": "[encoded data removed]",
      "text/plain": [
       "Plot with title \"Histogram of data$HOW_MANY_COLLISIONS_LAST_TWO_YEARS\""
      ]
     },
     "metadata": {},
     "output_type": "display_data",
     "source": "R display func"
    },
    {
     "data": {
      "image/png": "[encoded data removed]",
      "text/plain": [
       "plot without title"
      ]
     },
     "metadata": {},
     "output_type": "display_data",
     "source": "R display func"
    }
   ],
   "source": [
    "library(psych)\n",
    "describe(data$HOW_MANY_COLLISIONS_LAST_TWO_YEARS)\n",
    "\n",
    "qqnorm(data$HOW_MANY_COLLISIONS_LAST_TWO_YEARS)\n",
    "qqline(data$HOW_MANY_COLLISIONS_LAST_TWO_YEARS)\n",
    "\n",
    "hist(data$HOW_MANY_COLLISIONS_LAST_TWO_YEARS)\n",
    "boxplot(data$HOW_MANY_COLLISIONS_LAST_TWO_YEARS)\n",
    "\n",
    "\n",
    "\n",
    "\n",
    "\n",
    "\n"
   ]
  },
  {
   "cell_type": "markdown",
   "metadata": {},
   "source": [
    "#### Comments \n",
    "This is not good, lots of 0 values. But let's see going forward \n",
    "\n",
    "------"
   ]
  },
  {
   "cell_type": "markdown",
   "metadata": {},
   "source": [
    "### 4. Comparing Self control to car crashes "
   ]
  },
  {
   "cell_type": "code",
   "execution_count": 83,
   "metadata": {},
   "outputs": [
    {
     "data": {
      "image/png": "[encoded data removed]",
      "text/plain": [
       "plot without title"
      ]
     },
     "metadata": {},
     "output_type": "display_data",
     "source": "R display func"
    },
    {
     "data": {
      "image/png": "[encoded data removed]",
      "text/plain": [
       "plot without title"
      ]
     },
     "metadata": {},
     "output_type": "display_data",
     "source": "R display func"
    }
   ],
   "source": [
    "plot(data$HOW_MANY_COLLISIONS_LAST_TWO_YEARS,data$BIS_self_control,)\n",
    "boxplot(data$BIS_self_control~data$HOW_MANY_COLLISIONS_LAST_TWO_YEARS)\n"
   ]
  },
  {
   "cell_type": "markdown",
   "metadata": {},
   "source": [
    "#### Comment\n",
    "It would appear that there might be a difference in the groups. It looks like there is very little difference between 1 crash, and 2 crash. But there might be a difference between zero crashes and any number of crashes. If we recode the varibles into two dummy categories. 0 for no crashes, and 1 for any number of crashes (1,2,3,4). We might see something interesting \n",
    "\n",
    "It's important to note here that we have shockly uneven sample size. "
   ]
  },
  {
   "cell_type": "code",
   "execution_count": 86,
   "metadata": {},
   "outputs": [],
   "source": [
    "#Create new varible in the dataframe called crash, and recode varibles \n",
    "data[\"Crash\"] <- 0\n",
    "data$Crash[data$HOW_MANY_COLLISIONS_LAST_TWO_YEARS == \"0\"] <- \"0\"\n",
    "data$Crash[data$HOW_MANY_COLLISIONS_LAST_TWO_YEARS == \"1\"] <- \"1\"\n",
    "data$Crash[data$HOW_MANY_COLLISIONS_LAST_TWO_YEARS == \"2\"] <- \"1\"\n",
    "data$Crash[data$HOW_MANY_COLLISIONS_LAST_TWO_YEARS == \"3\"] <- \"1\"\n",
    "data$Crash[data$HOW_MANY_COLLISIONS_LAST_TWO_YEARS == \"4\"] <- \"1\"\n",
    "\n",
    "\n"
   ]
  },
  {
   "cell_type": "markdown",
   "metadata": {},
   "source": [
    "Our first test is a standard ANOVA. "
   ]
  },
  {
   "cell_type": "code",
   "execution_count": 87,
   "metadata": {},
   "outputs": [
    {
     "name": "stdout",
     "output_type": "stream",
     "text": [
      "                   Df Sum Sq Mean Sq F value Pr(>F)\n",
      "as.factor(Crash)    1      4   3.536    0.44  0.507\n",
      "Residuals        1326  10654   8.034               \n"
     ]
    },
    {
     "data": {
      "image/png": "[encoded data removed]",
      "text/plain": [
       "plot without title"
      ]
     },
     "metadata": {},
     "output_type": "display_data",
     "source": "R display func"
    }
   ],
   "source": [
    "fit <- aov(BIS_self_control ~ as.factor(Crash), data=data)\n",
    "print(summary(fit))\n",
    "\n",
    "boxplot(data$BIS_self_control~data$Crash)\n",
    "\n"
   ]
  },
  {
   "cell_type": "markdown",
   "metadata": {},
   "source": [
    "#### Comments \n",
    "Firstly, we note that the ANOVA did not reject the hypothesis. \n",
    "We also have two voliations of the assumptions for ANOVA. \n",
    "* Very unequal sample size, which we can't really fix. \n",
    "* Outliners in both of the dummy groups. Which we could fix, but is not really worth it considering the volation of the group size. \n",
    "\n",
    "------\n",
    "\n",
    "We attempt a Wilcoxon rank test in order to move around these volations "
   ]
  },
  {
   "cell_type": "code",
   "execution_count": 88,
   "metadata": {},
   "outputs": [
    {
     "data": {
      "text/html": [
       "1328"
      ],
      "text/latex": [
       "1328"
      ],
      "text/markdown": [
       "1328"
      ],
      "text/plain": [
       "[1] 1328"
      ]
     },
     "metadata": {},
     "output_type": "display_data"
    }
   ],
   "source": [
    "nrow(data)"
   ]
  },
  {
   "cell_type": "code",
   "execution_count": 91,
   "metadata": {},
   "outputs": [
    {
     "data": {
      "text/plain": [
       "\n",
       "\tWilcoxon rank sum test with continuity correction\n",
       "\n",
       "data:  data$BIS_self_control by as.factor(data$Crash)\n",
       "W = 86966, p-value = 0.4433\n",
       "alternative hypothesis: true location shift is not equal to 0\n"
      ]
     },
     "metadata": {},
     "output_type": "display_data"
    }
   ],
   "source": [
    "wilcox.test(data$BIS_self_control~as.factor(data$Crash)) "
   ]
  },
  {
   "cell_type": "markdown",
   "metadata": {},
   "source": [
    "#### Comments \n",
    "P value is still very high. Even if there is a difference, it would appear to be only by one point or so\n",
    "\n",
    "------\n",
    "Finally, we try a linear regression model \n"
   ]
  },
  {
   "cell_type": "code",
   "execution_count": 92,
   "metadata": {},
   "outputs": [
    {
     "data": {
      "text/plain": [
       "\n",
       "Call:\n",
       "lm(formula = BIS_self_control ~ as.factor(Crash), data = data, \n",
       "    na.action = na.omit)\n",
       "\n",
       "Residuals:\n",
       "    Min      1Q  Median      3Q     Max \n",
       "-9.5434 -1.5434  0.4566  2.4566  7.4566 \n",
       "\n",
       "Coefficients:\n",
       "                  Estimate Std. Error t value Pr(>|t|)    \n",
       "(Intercept)       16.54339    0.08227 201.082   <2e-16 ***\n",
       "as.factor(Crash)1 -0.16750    0.25249  -0.663    0.507    \n",
       "---\n",
       "Signif. codes:  0 '***' 0.001 '**' 0.01 '*' 0.05 '.' 0.1 ' ' 1\n",
       "\n",
       "Residual standard error: 2.834 on 1326 degrees of freedom\n",
       "Multiple R-squared:  0.0003318,\tAdjusted R-squared:  -0.0004221 \n",
       "F-statistic: 0.4401 on 1 and 1326 DF,  p-value: 0.5072\n"
      ]
     },
     "metadata": {},
     "output_type": "display_data"
    }
   ],
   "source": [
    "mm<-lm(BIS_self_control~as.factor(Crash),data=data,na.action=na.omit)\n",
    "\n",
    "summary(mm)"
   ]
  },
  {
   "cell_type": "markdown",
   "metadata": {},
   "source": [
    "## 5. Summary \n",
    "In summary, we can say that there is no signficant interaction of BIS Self Control and the number of car crash an individual has. "
   ]
  }
 ],
 "metadata": {
  "kernelspec": {
   "display_name": "R",
   "language": "R",
   "name": "ir"
  },
  "language_info": {
   "codemirror_mode": "r",
   "file_extension": ".r",
   "mimetype": "text/x-r-source",
   "name": "R",
   "pygments_lexer": "r",
   "version": "3.4.2"
  }
 },
 "nbformat": 4,
 "nbformat_minor": 2
}
