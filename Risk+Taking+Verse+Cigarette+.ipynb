{
 "cells": [
  {
   "cell_type": "markdown",
   "metadata": {},
   "source": [
    "## BIS Self Control  as a predictor of the number cigarette smoked\n",
    "**This is private data. Please do not share**\n",
    "\n",
    "* __Date:__ 2017 - 12 - 06\n",
    "* __Version:__ 1 \n",
    "* __Editors:__ Fionn Delahunty \n",
    "* __Code:__ R\n",
    "\n",
    "------- \n",
    "This notebook (R code) investigates if DOSPERT Scale (Risk Taking in a Recreational context) as a predictor of the number cigarette smoked in the sample data\n",
    "\n",
    "Summary of steps\n",
    "1. Dataset import \n",
    "2. Testing distribution of self control measure \n",
    "3. Testing distribution of car crash measure \n",
    "4. Analysis of Approach 1\n",
    "5. Analysis of Apporach 2 \n",
    "6. Summary\n",
    "------\n"
   ]
  },
  {
   "cell_type": "markdown",
   "metadata": {},
   "source": [
    "### 1. Dataset Import"
   ]
  },
  {
   "cell_type": "code",
   "execution_count": 54,
   "metadata": {},
   "outputs": [
    {
     "data": {
      "text/html": [
       "<ol class=list-inline>\n",
       "\t<li>'ID'</li>\n",
       "\t<li>'X'</li>\n",
       "\t<li>'Timestamp'</li>\n",
       "\t<li>'GENDER'</li>\n",
       "\t<li>'AGE'</li>\n",
       "\t<li>'DATE_OF_BIRTH'</li>\n",
       "\t<li>'NATIONALITY'</li>\n",
       "\t<li>'COUNTRY_OF_RESIDENCE'</li>\n",
       "\t<li>'ENGLISH_FIRST_LENGUAGE'</li>\n",
       "\t<li>'IF_NOT_ENGLISH_SPECIFY'</li>\n",
       "\t<li>'HIGHEST_LEVEL_EDUCATION'</li>\n",
       "\t<li>'OCCUPATION'</li>\n",
       "\t<li>'DOMINANT_HAND'</li>\n",
       "\t<li>'DO_YOU_DRIVE'</li>\n",
       "\t<li>'CURRENTLY_LEARNING_DRIVE'</li>\n",
       "\t<li>'CURRENTLY_HOLD_LEARNING_DRIVER_PERMIT'</li>\n",
       "\t<li>'CURRENTLY_HOLD_FULL_DRIVING_LICENSE'</li>\n",
       "\t<li>'RECEIVE_FULL_DRIVING_LICENSE'</li>\n",
       "\t<li>'AGE_STARTED_DRIVING'</li>\n",
       "\t<li>'AVERAGE_KM_MILEAGE_PER_YEAR'</li>\n",
       "\t<li>'HAVE_PENALTY_POINTS'</li>\n",
       "\t<li>'PENALTY_POINTS_FOR_WHAT'</li>\n",
       "\t<li>'COLLISIONS_LAST_TWO_YEARS'</li>\n",
       "\t<li>'HOW_MANY_COLLISIONS_LAST_TWO_YEARS'</li>\n",
       "\t<li>'HOW_SERIOUS_COLLISIONS'</li>\n",
       "\t<li>'FOR_HOW_MANY_WERE_CULPABLE'</li>\n",
       "\t<li>'EVER_SMOKED'</li>\n",
       "\t<li>'SMOKE_CURRENTLY'</li>\n",
       "\t<li>'HOW_MANY_YEARS_SMOKING'</li>\n",
       "\t<li>'HOW_MANY_CIGARETTES_PER_WEEK'</li>\n",
       "\t<li>'EVER_DRANK_ALCOHOL'</li>\n",
       "\t<li>'DRINK_CURRENTLY'</li>\n",
       "\t<li>'HOW_MANY_YEARS_DRINKING'</li>\n",
       "\t<li>'HOW_MUCH_UNITS_OF_ALCOHOL_PER_WEEK'</li>\n",
       "\t<li>'PREVIOUSLY_DIAGNOSED_HEALTH_CONDITION_REQUIRING_SIGNIFICANT_LIFESTYLE_CHANGES.'</li>\n",
       "\t<li>'CONSIDER_YOURSELF_RISKTAKER'</li>\n",
       "\t<li>'DEAL_WITH_RISK_AND_UNCERTANTLY_DAILY_BASIS'</li>\n",
       "\t<li>'Admitting.that.your.tastes.are.different.from.those.of.a.friend'</li>\n",
       "\t<li>'BIS_Cog_Instability'</li>\n",
       "\t<li>'BIS_Perseverance'</li>\n",
       "\t<li>'BIS_self_control'</li>\n",
       "\t<li>'BIS_Cog_Complexity'</li>\n",
       "\t<li>'DOS_Ethical'</li>\n",
       "\t<li>'DOS_Fin_Investment'</li>\n",
       "\t<li>'DOS_Fin_Gambling'</li>\n",
       "\t<li>'DOS_HealthSafety'</li>\n",
       "\t<li>'DOS_Recreational'</li>\n",
       "\t<li>'DOS_Social'</li>\n",
       "\t<li>'Number_of_Crashes'</li>\n",
       "\t<li>'BIS_Crashes'</li>\n",
       "\t<li>'Smoking'</li>\n",
       "\t<li>'BIS_self_control_2'</li>\n",
       "</ol>\n"
      ],
      "text/latex": [
       "\\begin{enumerate*}\n",
       "\\item 'ID'\n",
       "\\item 'X'\n",
       "\\item 'Timestamp'\n",
       "\\item 'GENDER'\n",
       "\\item 'AGE'\n",
       "\\item 'DATE\\_OF\\_BIRTH'\n",
       "\\item 'NATIONALITY'\n",
       "\\item 'COUNTRY\\_OF\\_RESIDENCE'\n",
       "\\item 'ENGLISH\\_FIRST\\_LENGUAGE'\n",
       "\\item 'IF\\_NOT\\_ENGLISH\\_SPECIFY'\n",
       "\\item 'HIGHEST\\_LEVEL\\_EDUCATION'\n",
       "\\item 'OCCUPATION'\n",
       "\\item 'DOMINANT\\_HAND'\n",
       "\\item 'DO\\_YOU\\_DRIVE'\n",
       "\\item 'CURRENTLY\\_LEARNING\\_DRIVE'\n",
       "\\item 'CURRENTLY\\_HOLD\\_LEARNING\\_DRIVER\\_PERMIT'\n",
       "\\item 'CURRENTLY\\_HOLD\\_FULL\\_DRIVING\\_LICENSE'\n",
       "\\item 'RECEIVE\\_FULL\\_DRIVING\\_LICENSE'\n",
       "\\item 'AGE\\_STARTED\\_DRIVING'\n",
       "\\item 'AVERAGE\\_KM\\_MILEAGE\\_PER\\_YEAR'\n",
       "\\item 'HAVE\\_PENALTY\\_POINTS'\n",
       "\\item 'PENALTY\\_POINTS\\_FOR\\_WHAT'\n",
       "\\item 'COLLISIONS\\_LAST\\_TWO\\_YEARS'\n",
       "\\item 'HOW\\_MANY\\_COLLISIONS\\_LAST\\_TWO\\_YEARS'\n",
       "\\item 'HOW\\_SERIOUS\\_COLLISIONS'\n",
       "\\item 'FOR\\_HOW\\_MANY\\_WERE\\_CULPABLE'\n",
       "\\item 'EVER\\_SMOKED'\n",
       "\\item 'SMOKE\\_CURRENTLY'\n",
       "\\item 'HOW\\_MANY\\_YEARS\\_SMOKING'\n",
       "\\item 'HOW\\_MANY\\_CIGARETTES\\_PER\\_WEEK'\n",
       "\\item 'EVER\\_DRANK\\_ALCOHOL'\n",
       "\\item 'DRINK\\_CURRENTLY'\n",
       "\\item 'HOW\\_MANY\\_YEARS\\_DRINKING'\n",
       "\\item 'HOW\\_MUCH\\_UNITS\\_OF\\_ALCOHOL\\_PER\\_WEEK'\n",
       "\\item 'PREVIOUSLY\\_DIAGNOSED\\_HEALTH\\_CONDITION\\_REQUIRING\\_SIGNIFICANT\\_LIFESTYLE\\_CHANGES.'\n",
       "\\item 'CONSIDER\\_YOURSELF\\_RISKTAKER'\n",
       "\\item 'DEAL\\_WITH\\_RISK\\_AND\\_UNCERTANTLY\\_DAILY\\_BASIS'\n",
       "\\item 'Admitting.that.your.tastes.are.different.from.those.of.a.friend'\n",
       "\\item 'BIS\\_Cog\\_Instability'\n",
       "\\item 'BIS\\_Perseverance'\n",
       "\\item 'BIS\\_self\\_control'\n",
       "\\item 'BIS\\_Cog\\_Complexity'\n",
       "\\item 'DOS\\_Ethical'\n",
       "\\item 'DOS\\_Fin\\_Investment'\n",
       "\\item 'DOS\\_Fin\\_Gambling'\n",
       "\\item 'DOS\\_HealthSafety'\n",
       "\\item 'DOS\\_Recreational'\n",
       "\\item 'DOS\\_Social'\n",
       "\\item 'Number\\_of\\_Crashes'\n",
       "\\item 'BIS\\_Crashes'\n",
       "\\item 'Smoking'\n",
       "\\item 'BIS\\_self\\_control\\_2'\n",
       "\\end{enumerate*}\n"
      ],
      "text/markdown": [
       "1. 'ID'\n",
       "2. 'X'\n",
       "3. 'Timestamp'\n",
       "4. 'GENDER'\n",
       "5. 'AGE'\n",
       "6. 'DATE_OF_BIRTH'\n",
       "7. 'NATIONALITY'\n",
       "8. 'COUNTRY_OF_RESIDENCE'\n",
       "9. 'ENGLISH_FIRST_LENGUAGE'\n",
       "10. 'IF_NOT_ENGLISH_SPECIFY'\n",
       "11. 'HIGHEST_LEVEL_EDUCATION'\n",
       "12. 'OCCUPATION'\n",
       "13. 'DOMINANT_HAND'\n",
       "14. 'DO_YOU_DRIVE'\n",
       "15. 'CURRENTLY_LEARNING_DRIVE'\n",
       "16. 'CURRENTLY_HOLD_LEARNING_DRIVER_PERMIT'\n",
       "17. 'CURRENTLY_HOLD_FULL_DRIVING_LICENSE'\n",
       "18. 'RECEIVE_FULL_DRIVING_LICENSE'\n",
       "19. 'AGE_STARTED_DRIVING'\n",
       "20. 'AVERAGE_KM_MILEAGE_PER_YEAR'\n",
       "21. 'HAVE_PENALTY_POINTS'\n",
       "22. 'PENALTY_POINTS_FOR_WHAT'\n",
       "23. 'COLLISIONS_LAST_TWO_YEARS'\n",
       "24. 'HOW_MANY_COLLISIONS_LAST_TWO_YEARS'\n",
       "25. 'HOW_SERIOUS_COLLISIONS'\n",
       "26. 'FOR_HOW_MANY_WERE_CULPABLE'\n",
       "27. 'EVER_SMOKED'\n",
       "28. 'SMOKE_CURRENTLY'\n",
       "29. 'HOW_MANY_YEARS_SMOKING'\n",
       "30. 'HOW_MANY_CIGARETTES_PER_WEEK'\n",
       "31. 'EVER_DRANK_ALCOHOL'\n",
       "32. 'DRINK_CURRENTLY'\n",
       "33. 'HOW_MANY_YEARS_DRINKING'\n",
       "34. 'HOW_MUCH_UNITS_OF_ALCOHOL_PER_WEEK'\n",
       "35. 'PREVIOUSLY_DIAGNOSED_HEALTH_CONDITION_REQUIRING_SIGNIFICANT_LIFESTYLE_CHANGES.'\n",
       "36. 'CONSIDER_YOURSELF_RISKTAKER'\n",
       "37. 'DEAL_WITH_RISK_AND_UNCERTANTLY_DAILY_BASIS'\n",
       "38. 'Admitting.that.your.tastes.are.different.from.those.of.a.friend'\n",
       "39. 'BIS_Cog_Instability'\n",
       "40. 'BIS_Perseverance'\n",
       "41. 'BIS_self_control'\n",
       "42. 'BIS_Cog_Complexity'\n",
       "43. 'DOS_Ethical'\n",
       "44. 'DOS_Fin_Investment'\n",
       "45. 'DOS_Fin_Gambling'\n",
       "46. 'DOS_HealthSafety'\n",
       "47. 'DOS_Recreational'\n",
       "48. 'DOS_Social'\n",
       "49. 'Number_of_Crashes'\n",
       "50. 'BIS_Crashes'\n",
       "51. 'Smoking'\n",
       "52. 'BIS_self_control_2'\n",
       "\n",
       "\n"
      ],
      "text/plain": [
       " [1] \"ID\"                                                                            \n",
       " [2] \"X\"                                                                             \n",
       " [3] \"Timestamp\"                                                                     \n",
       " [4] \"GENDER\"                                                                        \n",
       " [5] \"AGE\"                                                                           \n",
       " [6] \"DATE_OF_BIRTH\"                                                                 \n",
       " [7] \"NATIONALITY\"                                                                   \n",
       " [8] \"COUNTRY_OF_RESIDENCE\"                                                          \n",
       " [9] \"ENGLISH_FIRST_LENGUAGE\"                                                        \n",
       "[10] \"IF_NOT_ENGLISH_SPECIFY\"                                                        \n",
       "[11] \"HIGHEST_LEVEL_EDUCATION\"                                                       \n",
       "[12] \"OCCUPATION\"                                                                    \n",
       "[13] \"DOMINANT_HAND\"                                                                 \n",
       "[14] \"DO_YOU_DRIVE\"                                                                  \n",
       "[15] \"CURRENTLY_LEARNING_DRIVE\"                                                      \n",
       "[16] \"CURRENTLY_HOLD_LEARNING_DRIVER_PERMIT\"                                         \n",
       "[17] \"CURRENTLY_HOLD_FULL_DRIVING_LICENSE\"                                           \n",
       "[18] \"RECEIVE_FULL_DRIVING_LICENSE\"                                                  \n",
       "[19] \"AGE_STARTED_DRIVING\"                                                           \n",
       "[20] \"AVERAGE_KM_MILEAGE_PER_YEAR\"                                                   \n",
       "[21] \"HAVE_PENALTY_POINTS\"                                                           \n",
       "[22] \"PENALTY_POINTS_FOR_WHAT\"                                                       \n",
       "[23] \"COLLISIONS_LAST_TWO_YEARS\"                                                     \n",
       "[24] \"HOW_MANY_COLLISIONS_LAST_TWO_YEARS\"                                            \n",
       "[25] \"HOW_SERIOUS_COLLISIONS\"                                                        \n",
       "[26] \"FOR_HOW_MANY_WERE_CULPABLE\"                                                    \n",
       "[27] \"EVER_SMOKED\"                                                                   \n",
       "[28] \"SMOKE_CURRENTLY\"                                                               \n",
       "[29] \"HOW_MANY_YEARS_SMOKING\"                                                        \n",
       "[30] \"HOW_MANY_CIGARETTES_PER_WEEK\"                                                  \n",
       "[31] \"EVER_DRANK_ALCOHOL\"                                                            \n",
       "[32] \"DRINK_CURRENTLY\"                                                               \n",
       "[33] \"HOW_MANY_YEARS_DRINKING\"                                                       \n",
       "[34] \"HOW_MUCH_UNITS_OF_ALCOHOL_PER_WEEK\"                                            \n",
       "[35] \"PREVIOUSLY_DIAGNOSED_HEALTH_CONDITION_REQUIRING_SIGNIFICANT_LIFESTYLE_CHANGES.\"\n",
       "[36] \"CONSIDER_YOURSELF_RISKTAKER\"                                                   \n",
       "[37] \"DEAL_WITH_RISK_AND_UNCERTANTLY_DAILY_BASIS\"                                    \n",
       "[38] \"Admitting.that.your.tastes.are.different.from.those.of.a.friend\"               \n",
       "[39] \"BIS_Cog_Instability\"                                                           \n",
       "[40] \"BIS_Perseverance\"                                                              \n",
       "[41] \"BIS_self_control\"                                                              \n",
       "[42] \"BIS_Cog_Complexity\"                                                            \n",
       "[43] \"DOS_Ethical\"                                                                   \n",
       "[44] \"DOS_Fin_Investment\"                                                            \n",
       "[45] \"DOS_Fin_Gambling\"                                                              \n",
       "[46] \"DOS_HealthSafety\"                                                              \n",
       "[47] \"DOS_Recreational\"                                                              \n",
       "[48] \"DOS_Social\"                                                                    \n",
       "[49] \"Number_of_Crashes\"                                                             \n",
       "[50] \"BIS_Crashes\"                                                                   \n",
       "[51] \"Smoking\"                                                                       \n",
       "[52] \"BIS_self_control_2\"                                                            "
      ]
     },
     "metadata": {},
     "output_type": "display_data"
    },
    {
     "data": {
      "text/html": [
       "<table>\n",
       "<thead><tr><th scope=col>ID</th><th scope=col>X</th><th scope=col>Timestamp</th><th scope=col>GENDER</th><th scope=col>AGE</th><th scope=col>DATE_OF_BIRTH</th><th scope=col>NATIONALITY</th><th scope=col>COUNTRY_OF_RESIDENCE</th><th scope=col>ENGLISH_FIRST_LENGUAGE</th><th scope=col>IF_NOT_ENGLISH_SPECIFY</th><th scope=col>...</th><th scope=col>DOS_Ethical</th><th scope=col>DOS_Fin_Investment</th><th scope=col>DOS_Fin_Gambling</th><th scope=col>DOS_HealthSafety</th><th scope=col>DOS_Recreational</th><th scope=col>DOS_Social</th><th scope=col>Number_of_Crashes</th><th scope=col>BIS_Crashes</th><th scope=col>Smoking</th><th scope=col>BIS_self_control_2</th></tr></thead>\n",
       "<tbody>\n",
       "\t<tr><td>63371           </td><td> 431            </td><td>6/13/13 14:43   </td><td>Male            </td><td>25              </td><td>11/24/87        </td><td>British         </td><td>France          </td><td>Yes             </td><td>NA              </td><td>...             </td><td>14              </td><td>13              </td><td>11              </td><td>36              </td><td>32              </td><td>40              </td><td> 3              </td><td>14              </td><td>1               </td><td>14              </td></tr>\n",
       "\t<tr><td>64443           </td><td> 389            </td><td>06/12/2013 13:15</td><td>Female          </td><td>18              </td><td>12/13/94        </td><td>American/Irish  </td><td>USA             </td><td>Yes             </td><td>NA              </td><td>...             </td><td>24              </td><td> 8              </td><td> 8              </td><td>22              </td><td>38              </td><td>38              </td><td> 1              </td><td>15              </td><td>1               </td><td>15              </td></tr>\n",
       "\t<tr><td>62799           </td><td> 106            </td><td>5/22/13 13:50   </td><td>Male            </td><td>22              </td><td>11/26/90        </td><td>Dutch           </td><td>Netherlands     </td><td>No              </td><td>Dutch           </td><td>...             </td><td>24              </td><td>12              </td><td>13              </td><td>22              </td><td>36              </td><td>36              </td><td>NA              </td><td>NA              </td><td>1               </td><td>16              </td></tr>\n",
       "\t<tr><td>62885           </td><td>1497            </td><td>10/22/13 11:38  </td><td>Female          </td><td>26              </td><td>02/08/1986      </td><td>American        </td><td>USA             </td><td>Yes             </td><td>NA              </td><td>...             </td><td>12              </td><td>21              </td><td>17              </td><td>24              </td><td>17              </td><td>25              </td><td>NA              </td><td>NA              </td><td>1               </td><td>19              </td></tr>\n",
       "\t<tr><td>62889           </td><td>1476            </td><td>10/22/13 10:54  </td><td>Male            </td><td>20              </td><td>03/02/1993      </td><td>French          </td><td>France          </td><td>No              </td><td>French          </td><td>...             </td><td>22              </td><td>10              </td><td> 3              </td><td>32              </td><td>35              </td><td>27              </td><td>NA              </td><td>NA              </td><td>1               </td><td>15              </td></tr>\n",
       "\t<tr><td>62914           </td><td> 198            </td><td>5/28/13 14:03   </td><td>NA              </td><td>35              </td><td>8/18/77         </td><td>Irish           </td><td>Ireland         </td><td>Yes             </td><td>NA              </td><td>...             </td><td>16              </td><td>12              </td><td> 4              </td><td>18              </td><td>36              </td><td>35              </td><td>NA              </td><td>NA              </td><td>1               </td><td>17              </td></tr>\n",
       "</tbody>\n",
       "</table>\n"
      ],
      "text/latex": [
       "\\begin{tabular}{r|llllllllllllllllllllllllllllllllllllllllllllllllllll}\n",
       " ID & X & Timestamp & GENDER & AGE & DATE\\_OF\\_BIRTH & NATIONALITY & COUNTRY\\_OF\\_RESIDENCE & ENGLISH\\_FIRST\\_LENGUAGE & IF\\_NOT\\_ENGLISH\\_SPECIFY & ... & DOS\\_Ethical & DOS\\_Fin\\_Investment & DOS\\_Fin\\_Gambling & DOS\\_HealthSafety & DOS\\_Recreational & DOS\\_Social & Number\\_of\\_Crashes & BIS\\_Crashes & Smoking & BIS\\_self\\_control\\_2\\\\\n",
       "\\hline\n",
       "\t 63371            &  431             & 6/13/13 14:43    & Male             & 25               & 11/24/87         & British          & France           & Yes              & NA               & ...              & 14               & 13               & 11               & 36               & 32               & 40               &  3               & 14               & 1                & 14              \\\\\n",
       "\t 64443            &  389             & 06/12/2013 13:15 & Female           & 18               & 12/13/94         & American/Irish   & USA              & Yes              & NA               & ...              & 24               &  8               &  8               & 22               & 38               & 38               &  1               & 15               & 1                & 15              \\\\\n",
       "\t 62799            &  106             & 5/22/13 13:50    & Male             & 22               & 11/26/90         & Dutch            & Netherlands      & No               & Dutch            & ...              & 24               & 12               & 13               & 22               & 36               & 36               & NA               & NA               & 1                & 16              \\\\\n",
       "\t 62885            & 1497             & 10/22/13 11:38   & Female           & 26               & 02/08/1986       & American         & USA              & Yes              & NA               & ...              & 12               & 21               & 17               & 24               & 17               & 25               & NA               & NA               & 1                & 19              \\\\\n",
       "\t 62889            & 1476             & 10/22/13 10:54   & Male             & 20               & 03/02/1993       & French           & France           & No               & French           & ...              & 22               & 10               &  3               & 32               & 35               & 27               & NA               & NA               & 1                & 15              \\\\\n",
       "\t 62914            &  198             & 5/28/13 14:03    & NA               & 35               & 8/18/77          & Irish            & Ireland          & Yes              & NA               & ...              & 16               & 12               &  4               & 18               & 36               & 35               & NA               & NA               & 1                & 17              \\\\\n",
       "\\end{tabular}\n"
      ],
      "text/markdown": [
       "\n",
       "ID | X | Timestamp | GENDER | AGE | DATE_OF_BIRTH | NATIONALITY | COUNTRY_OF_RESIDENCE | ENGLISH_FIRST_LENGUAGE | IF_NOT_ENGLISH_SPECIFY | ... | DOS_Ethical | DOS_Fin_Investment | DOS_Fin_Gambling | DOS_HealthSafety | DOS_Recreational | DOS_Social | Number_of_Crashes | BIS_Crashes | Smoking | BIS_self_control_2 | \n",
       "|---|---|---|---|---|---|\n",
       "| 63371            |  431             | 6/13/13 14:43    | Male             | 25               | 11/24/87         | British          | France           | Yes              | NA               | ...              | 14               | 13               | 11               | 36               | 32               | 40               |  3               | 14               | 1                | 14               | \n",
       "| 64443            |  389             | 06/12/2013 13:15 | Female           | 18               | 12/13/94         | American/Irish   | USA              | Yes              | NA               | ...              | 24               |  8               |  8               | 22               | 38               | 38               |  1               | 15               | 1                | 15               | \n",
       "| 62799            |  106             | 5/22/13 13:50    | Male             | 22               | 11/26/90         | Dutch            | Netherlands      | No               | Dutch            | ...              | 24               | 12               | 13               | 22               | 36               | 36               | NA               | NA               | 1                | 16               | \n",
       "| 62885            | 1497             | 10/22/13 11:38   | Female           | 26               | 02/08/1986       | American         | USA              | Yes              | NA               | ...              | 12               | 21               | 17               | 24               | 17               | 25               | NA               | NA               | 1                | 19               | \n",
       "| 62889            | 1476             | 10/22/13 10:54   | Male             | 20               | 03/02/1993       | French           | France           | No               | French           | ...              | 22               | 10               |  3               | 32               | 35               | 27               | NA               | NA               | 1                | 15               | \n",
       "| 62914            |  198             | 5/28/13 14:03    | NA               | 35               | 8/18/77          | Irish            | Ireland          | Yes              | NA               | ...              | 16               | 12               |  4               | 18               | 36               | 35               | NA               | NA               | 1                | 17               | \n",
       "\n",
       "\n"
      ],
      "text/plain": [
       "  ID    X    Timestamp        GENDER AGE DATE_OF_BIRTH NATIONALITY   \n",
       "1 63371  431 6/13/13 14:43    Male   25  11/24/87      British       \n",
       "2 64443  389 06/12/2013 13:15 Female 18  12/13/94      American/Irish\n",
       "3 62799  106 5/22/13 13:50    Male   22  11/26/90      Dutch         \n",
       "4 62885 1497 10/22/13 11:38   Female 26  02/08/1986    American      \n",
       "5 62889 1476 10/22/13 10:54   Male   20  03/02/1993    French        \n",
       "6 62914  198 5/28/13 14:03    NA     35  8/18/77       Irish         \n",
       "  COUNTRY_OF_RESIDENCE ENGLISH_FIRST_LENGUAGE IF_NOT_ENGLISH_SPECIFY ...\n",
       "1 France               Yes                    NA                     ...\n",
       "2 USA                  Yes                    NA                     ...\n",
       "3 Netherlands          No                     Dutch                  ...\n",
       "4 USA                  Yes                    NA                     ...\n",
       "5 France               No                     French                 ...\n",
       "6 Ireland              Yes                    NA                     ...\n",
       "  DOS_Ethical DOS_Fin_Investment DOS_Fin_Gambling DOS_HealthSafety\n",
       "1 14          13                 11               36              \n",
       "2 24           8                  8               22              \n",
       "3 24          12                 13               22              \n",
       "4 12          21                 17               24              \n",
       "5 22          10                  3               32              \n",
       "6 16          12                  4               18              \n",
       "  DOS_Recreational DOS_Social Number_of_Crashes BIS_Crashes Smoking\n",
       "1 32               40          3                14          1      \n",
       "2 38               38          1                15          1      \n",
       "3 36               36         NA                NA          1      \n",
       "4 17               25         NA                NA          1      \n",
       "5 35               27         NA                NA          1      \n",
       "6 36               35         NA                NA          1      \n",
       "  BIS_self_control_2\n",
       "1 14                \n",
       "2 15                \n",
       "3 16                \n",
       "4 19                \n",
       "5 15                \n",
       "6 17                "
      ]
     },
     "metadata": {},
     "output_type": "display_data"
    }
   ],
   "source": [
    "# Dataset Import \n",
    "data <- read.csv(file=\"Risklab_2.5.csv\", header=TRUE, sep=\",\")\n",
    "names(data)\n",
    "head(data)"
   ]
  },
  {
   "cell_type": "markdown",
   "metadata": {},
   "source": [
    "### 2. Testing distribution of risk taking measure"
   ]
  },
  {
   "cell_type": "code",
   "execution_count": 47,
   "metadata": {},
   "outputs": [
    {
     "data": {
      "text/html": [
       "<table>\n",
       "<thead><tr><th></th><th scope=col>vars</th><th scope=col>n</th><th scope=col>mean</th><th scope=col>sd</th><th scope=col>median</th><th scope=col>trimmed</th><th scope=col>mad</th><th scope=col>min</th><th scope=col>max</th><th scope=col>range</th><th scope=col>skew</th><th scope=col>kurtosis</th><th scope=col>se</th></tr></thead>\n",
       "<tbody>\n",
       "\t<tr><th scope=row>X1</th><td>1         </td><td>264       </td><td>15.39394  </td><td>2.682878  </td><td>15        </td><td>15.35849  </td><td>2.9652    </td><td>9         </td><td>22        </td><td>13        </td><td>0.0880023 </td><td>-0.4803899</td><td>0.1651197 </td></tr>\n",
       "</tbody>\n",
       "</table>\n"
      ],
      "text/latex": [
       "\\begin{tabular}{r|lllllllllllll}\n",
       "  & vars & n & mean & sd & median & trimmed & mad & min & max & range & skew & kurtosis & se\\\\\n",
       "\\hline\n",
       "\tX1 & 1          & 264        & 15.39394   & 2.682878   & 15         & 15.35849   & 2.9652     & 9          & 22         & 13         & 0.0880023  & -0.4803899 & 0.1651197 \\\\\n",
       "\\end{tabular}\n"
      ],
      "text/markdown": [
       "\n",
       "| <!--/--> | vars | n | mean | sd | median | trimmed | mad | min | max | range | skew | kurtosis | se | \n",
       "|---|\n",
       "| X1 | 1          | 264        | 15.39394   | 2.682878   | 15         | 15.35849   | 2.9652     | 9          | 22         | 13         | 0.0880023  | -0.4803899 | 0.1651197  | \n",
       "\n",
       "\n"
      ],
      "text/plain": [
       "   vars n   mean     sd       median trimmed  mad    min max range skew     \n",
       "X1 1    264 15.39394 2.682878 15     15.35849 2.9652 9   22  13    0.0880023\n",
       "   kurtosis   se       \n",
       "X1 -0.4803899 0.1651197"
      ]
     },
     "metadata": {},
     "output_type": "display_data"
    },
    {
     "data": {
      "image/png": "[encoded data removed]",
      "text/plain": [
       "Plot with title \"Normal Q-Q Plot\""
      ]
     },
     "metadata": {},
     "output_type": "display_data",
     "source": "R display func"
    },
    {
     "data": {
      "image/png": "[encoded data removed]",
      "text/plain": [
       "Plot with title \"Histogram of data$BIS_self_control_2\""
      ]
     },
     "metadata": {},
     "output_type": "display_data",
     "source": "R display func"
    },
    {
     "data": {
      "image/png": "[encoded data removed]",
      "text/plain": [
       "plot without title"
      ]
     },
     "metadata": {},
     "output_type": "display_data",
     "source": "R display func"
    },
    {
     "data": {
      "image/png": "[encoded data removed]",
      "text/plain": [
       "plot without title"
      ]
     },
     "metadata": {},
     "output_type": "display_data",
     "source": "R display func"
    }
   ],
   "source": [
    "library(psych)\n",
    "describe(data$BIS_self_control_2)\n",
    "\n",
    "qqnorm(data$BIS_self_control_2)\n",
    "qqline(data$BIS_self_control_2)\n",
    "\n",
    "hist(data$BIS_self_control_2)\n",
    "boxplot(data$BIS_self_control_2)\n",
    "\n",
    "plot(data$BIS_self_control_2)\n",
    "\n"
   ]
  },
  {
   "cell_type": "markdown",
   "metadata": {},
   "source": [
    "---\n"
   ]
  },
  {
   "cell_type": "code",
   "execution_count": 56,
   "metadata": {},
   "outputs": [
    {
     "data": {
      "text/html": [
       "<table>\n",
       "<thead><tr><th></th><th scope=col>vars</th><th scope=col>n</th><th scope=col>mean</th><th scope=col>sd</th><th scope=col>median</th><th scope=col>trimmed</th><th scope=col>mad</th><th scope=col>min</th><th scope=col>max</th><th scope=col>range</th><th scope=col>skew</th><th scope=col>kurtosis</th><th scope=col>se</th></tr></thead>\n",
       "<tbody>\n",
       "\t<tr><th scope=row>X1</th><td>1       </td><td>264     </td><td>52.875  </td><td>55.7389 </td><td>35      </td><td>44.81604</td><td>45.9606 </td><td>1       </td><td>420     </td><td>419     </td><td>2.034355</td><td>7.531952</td><td>3.430492</td></tr>\n",
       "</tbody>\n",
       "</table>\n"
      ],
      "text/latex": [
       "\\begin{tabular}{r|lllllllllllll}\n",
       "  & vars & n & mean & sd & median & trimmed & mad & min & max & range & skew & kurtosis & se\\\\\n",
       "\\hline\n",
       "\tX1 & 1        & 264      & 52.875   & 55.7389  & 35       & 44.81604 & 45.9606  & 1        & 420      & 419      & 2.034355 & 7.531952 & 3.430492\\\\\n",
       "\\end{tabular}\n"
      ],
      "text/markdown": [
       "\n",
       "| <!--/--> | vars | n | mean | sd | median | trimmed | mad | min | max | range | skew | kurtosis | se | \n",
       "|---|\n",
       "| X1 | 1        | 264      | 52.875   | 55.7389  | 35       | 44.81604 | 45.9606  | 1        | 420      | 419      | 2.034355 | 7.531952 | 3.430492 | \n",
       "\n",
       "\n"
      ],
      "text/plain": [
       "   vars n   mean   sd      median trimmed  mad     min max range skew    \n",
       "X1 1    264 52.875 55.7389 35     44.81604 45.9606 1   420 419   2.034355\n",
       "   kurtosis se      \n",
       "X1 7.531952 3.430492"
      ]
     },
     "metadata": {},
     "output_type": "display_data"
    },
    {
     "data": {
      "image/png": "[encoded data removed]",
      "text/plain": [
       "Plot with title \"Normal Q-Q Plot\""
      ]
     },
     "metadata": {},
     "output_type": "display_data",
     "source": "R display func"
    },
    {
     "data": {
      "image/png": "[encoded data removed]",
      "text/plain": [
       "Plot with title \"Histogram of data$Smoking\""
      ]
     },
     "metadata": {},
     "output_type": "display_data",
     "source": "R display func"
    },
    {
     "data": {
      "image/png": "[encoded data removed]",
      "text/plain": [
       "plot without title"
      ]
     },
     "metadata": {},
     "output_type": "display_data",
     "source": "R display func"
    }
   ],
   "source": [
    "library(psych)\n",
    "\n",
    "describe(data$Smoking)\n",
    "\n",
    "qqnorm(data$Smoking)\n",
    "qqline(data$Smoking)\n",
    "\n",
    "hist(data$Smoking)\n",
    "boxplot(data$Smoking)"
   ]
  },
  {
   "cell_type": "code",
   "execution_count": 94,
   "metadata": {},
   "outputs": [
    {
     "data": {
      "text/plain": [
       "c1\n",
       "   (0,25]   (25,50]   (50,75]  (75,100] (100,125] (125,150] (150,175] \n",
       "      113        47        44         8        19        24         6 "
      ]
     },
     "metadata": {},
     "output_type": "display_data"
    },
    {
     "data": {
      "image/png": "[encoded data removed]",
      "text/plain": [
       "plot without title"
      ]
     },
     "metadata": {},
     "output_type": "display_data",
     "source": "R display func"
    }
   ],
   "source": [
    "c1 <- cut(data$Smoking, breaks = seq(0, 175, by = 25))\n",
    "table(c1)\n",
    "plot(c1)"
   ]
  },
  {
   "cell_type": "code",
   "execution_count": 99,
   "metadata": {},
   "outputs": [
    {
     "data": {
      "text/plain": [
       "c2\n",
       " (7,10] (10,13] (13,16] (16,19] (19,22] \n",
       "      8      55     115      67      19 "
      ]
     },
     "metadata": {},
     "output_type": "display_data"
    },
    {
     "data": {
      "image/png": "[encoded data removed]",
      "text/plain": [
       "plot without title"
      ]
     },
     "metadata": {},
     "output_type": "display_data",
     "source": "R display func"
    }
   ],
   "source": [
    "c2 <- cut(data$BIS_self_control_2, breaks = seq(7, 22, by = 3))\n",
    "table(c2)\n",
    "plot(c2)"
   ]
  },
  {
   "cell_type": "code",
   "execution_count": 106,
   "metadata": {},
   "outputs": [
    {
     "name": "stdout",
     "output_type": "stream",
     "text": [
      "               Df Sum Sq Mean Sq F value Pr(>F)\n",
      "as.factor(c2)   4   9184    2296   0.736  0.568\n",
      "Residuals     259 807911    3119               \n",
      "1064 observations deleted due to missingness\n"
     ]
    },
    {
     "data": {
      "image/png": "[encoded data removed]",
      "text/plain": [
       "plot without title"
      ]
     },
     "metadata": {},
     "output_type": "display_data",
     "source": "R display func"
    }
   ],
   "source": [
    "plot(data$Smoking ~ as.factor(c2))\n",
    "fit <- aov(data$Smoking ~ as.factor(c2) )\n",
    "print(summary(fit))"
   ]
  },
  {
   "cell_type": "code",
   "execution_count": 80,
   "metadata": {},
   "outputs": [
    {
     "name": "stdout",
     "output_type": "stream",
     "text": [
      "\n",
      "Call:\n",
      "lm(formula = data$BIS_self_control_2 ~ c1)\n",
      "\n",
      "Residuals:\n",
      "    Min      1Q  Median      3Q     Max \n",
      "-6.5745 -1.7368 -0.1239  1.8761  6.8761 \n",
      "\n",
      "Coefficients:\n",
      "            Estimate Std. Error t value Pr(>|t|)    \n",
      "(Intercept) 15.12389    0.25419  59.499   <2e-16 ***\n",
      "c1(25,50]    0.45057    0.46899   0.961    0.338    \n",
      "c1(50,75]    0.53520    0.48015   1.115    0.266    \n",
      "c1(75,100]   0.75111    0.98856   0.760    0.448    \n",
      "c1(100,125]  0.61295    0.66999   0.915    0.361    \n",
      "c1(125,150] -0.08223    0.60731  -0.135    0.892    \n",
      "c1(150,175]  1.20944    1.13202   1.068    0.286    \n",
      "---\n",
      "Signif. codes:  0 '***' 0.001 '**' 0.01 '*' 0.05 '.' 0.1 ' ' 1\n",
      "\n",
      "Residual standard error: 2.702 on 254 degrees of freedom\n",
      "  (1067 observations deleted due to missingness)\n",
      "Multiple R-squared:  0.0134,\tAdjusted R-squared:  -0.009902 \n",
      "F-statistic: 0.5751 on 6 and 254 DF,  p-value: 0.75\n",
      "\n"
     ]
    }
   ],
   "source": [
    "## Normal Linear Regression \n",
    "mm<-lm(data$BIS_self_control_2~c1,)\n",
    "\n",
    "\n",
    "\n",
    "print(summary(mm))\n"
   ]
  },
  {
   "cell_type": "code",
   "execution_count": 86,
   "metadata": {},
   "outputs": [
    {
     "data": {
      "text/html": [
       "&lt;NA&gt;"
      ],
      "text/latex": [
       "<NA>"
      ],
      "text/markdown": [
       "&lt;NA&gt;"
      ],
      "text/plain": [
       "[1] NA"
      ]
     },
     "metadata": {},
     "output_type": "display_data"
    },
    {
     "data": {
      "image/png": "[encoded data removed]",
      "text/plain": [
       "Plot with title \"\""
      ]
     },
     "metadata": {},
     "output_type": "display_data",
     "source": "R display func"
    }
   ],
   "source": [
    "par(mfrow=c(2,2))\n",
    "plot(mm)\n",
    "p<-locator()\n",
    "cooksd<-cooks.distance(mm)\n",
    "\n"
   ]
  },
  {
   "cell_type": "code",
   "execution_count": 81,
   "metadata": {},
   "outputs": [
    {
     "name": "stdout",
     "output_type": "stream",
     "text": [
      "Start:  AIC=525.78\n",
      "data$BIS_self_control_2 ~ c1\n",
      "\n",
      "       Df Sum of Sq    RSS    AIC\n",
      "- c1    6    25.194 1879.7 517.30\n",
      "<none>              1854.5 525.78\n"
     ]
    },
    {
     "ename": "ERROR",
     "evalue": "Error in stepAIC(fit, direction = \"both\"): number of rows in use has changed: remove missing values?\n",
     "execution_count": 81,
     "output_type": "error",
     "traceback": [
      "Error in stepAIC(fit, direction = \"both\"): number of rows in use has changed: remove missing values?\nTraceback:\n",
      "1. stepAIC(fit, direction = \"both\")",
      "2. stop(\"number of rows in use has changed: remove missing values?\")"
     ]
    }
   ],
   "source": [
    "## Step wise regression \n",
    "\n",
    "library(MASS)\n",
    "fit <- lm(data$BIS_self_control_2~c1,)\n",
    "step <- stepAIC(fit, direction=\"both\")\n",
    "step$anova # display results"
   ]
  },
  {
   "cell_type": "code",
   "execution_count": 90,
   "metadata": {},
   "outputs": [
    {
     "name": "stdout",
     "output_type": "stream",
     "text": [
      "Start:  AIC=525.78\n",
      "data$BIS_self_control_2 ~ c1\n",
      "\n",
      "       Df Sum of Sq    RSS    AIC\n",
      "- c1    6    25.194 1879.7 517.30\n",
      "<none>              1854.5 525.78\n"
     ]
    },
    {
     "ename": "ERROR",
     "evalue": "Error in step(mm): number of rows in use has changed: remove missing values?\n",
     "execution_count": 90,
     "output_type": "error",
     "traceback": [
      "Error in step(mm): number of rows in use has changed: remove missing values?\nTraceback:\n",
      "1. step(mm)",
      "2. stop(\"number of rows in use has changed: remove missing values?\")"
     ]
    }
   ],
   "source": [
    "model <- step(mm)\n",
    "summary(model)"
   ]
  }
 ],
 "metadata": {
  "kernelspec": {
   "display_name": "R",
   "language": "R",
   "name": "ir"
  },
  "language_info": {
   "codemirror_mode": "r",
   "file_extension": ".r",
   "mimetype": "text/x-r-source",
   "name": "R",
   "pygments_lexer": "r",
   "version": "3.4.2"
  }
 },
 "nbformat": 4,
 "nbformat_minor": 2
}
