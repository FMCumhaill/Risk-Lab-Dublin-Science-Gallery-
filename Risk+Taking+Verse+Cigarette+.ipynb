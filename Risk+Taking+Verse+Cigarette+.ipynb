{
 "cells": [
  {
   "cell_type": "markdown",
   "metadata": {},
   "source": [
    "## BIS Self Control  as a predictor of the number cigarette smoked\n",
    "**This is private data. Please do not share**\n",
    "\n",
    "* __Date:__ 2017 - 12 - 06\n",
    "* __Version:__ 1 \n",
    "* __Editors:__ Fionn Delahunty \n",
    "* __Code:__ R\n",
    "\n",
    "------- \n",
    "This notebook (R code) investigates if DOSPERT Scale (Risk Taking in a Recreational context) as a predictor of the number cigarette smoked in the sample data\n",
    "\n",
    "Summary of steps\n",
    "1. Dataset import \n",
    "2. Testing distribution of self control measure \n",
    "3. Testing distribution of car crash measure \n",
    "4. Analysis of Approach 1\n",
    "5. Analysis of Apporach 2 \n",
    "6. Summary\n",
    "------\n"
   ]
  },
  {
   "cell_type": "markdown",
   "metadata": {},
   "source": [
    "### 1. Dataset Import"
   ]
  },
  {
   "cell_type": "code",
   "execution_count": 164,
   "metadata": {},
   "outputs": [
    {
     "data": {
      "text/html": [
       "<ol class=list-inline>\n",
       "\t<li>'ID'</li>\n",
       "\t<li>'X'</li>\n",
       "\t<li>'Timestamp'</li>\n",
       "\t<li>'GENDER'</li>\n",
       "\t<li>'AGE'</li>\n",
       "\t<li>'DATE_OF_BIRTH'</li>\n",
       "\t<li>'NATIONALITY'</li>\n",
       "\t<li>'COUNTRY_OF_RESIDENCE'</li>\n",
       "\t<li>'ENGLISH_FIRST_LENGUAGE'</li>\n",
       "\t<li>'IF_NOT_ENGLISH_SPECIFY'</li>\n",
       "\t<li>'HIGHEST_LEVEL_EDUCATION'</li>\n",
       "\t<li>'OCCUPATION'</li>\n",
       "\t<li>'DOMINANT_HAND'</li>\n",
       "\t<li>'DO_YOU_DRIVE'</li>\n",
       "\t<li>'CURRENTLY_LEARNING_DRIVE'</li>\n",
       "\t<li>'CURRENTLY_HOLD_LEARNING_DRIVER_PERMIT'</li>\n",
       "\t<li>'CURRENTLY_HOLD_FULL_DRIVING_LICENSE'</li>\n",
       "\t<li>'RECEIVE_FULL_DRIVING_LICENSE'</li>\n",
       "\t<li>'AGE_STARTED_DRIVING'</li>\n",
       "\t<li>'AVERAGE_KM_MILEAGE_PER_YEAR'</li>\n",
       "\t<li>'HAVE_PENALTY_POINTS'</li>\n",
       "\t<li>'PENALTY_POINTS_FOR_WHAT'</li>\n",
       "\t<li>'COLLISIONS_LAST_TWO_YEARS'</li>\n",
       "\t<li>'HOW_MANY_COLLISIONS_LAST_TWO_YEARS'</li>\n",
       "\t<li>'HOW_SERIOUS_COLLISIONS'</li>\n",
       "\t<li>'FOR_HOW_MANY_WERE_CULPABLE'</li>\n",
       "\t<li>'EVER_SMOKED'</li>\n",
       "\t<li>'SMOKE_CURRENTLY'</li>\n",
       "\t<li>'HOW_MANY_YEARS_SMOKING'</li>\n",
       "\t<li>'HOW_MANY_CIGARETTES_PER_WEEK'</li>\n",
       "\t<li>'EVER_DRANK_ALCOHOL'</li>\n",
       "\t<li>'DRINK_CURRENTLY'</li>\n",
       "\t<li>'HOW_MANY_YEARS_DRINKING'</li>\n",
       "\t<li>'HOW_MUCH_UNITS_OF_ALCOHOL_PER_WEEK'</li>\n",
       "\t<li>'PREVIOUSLY_DIAGNOSED_HEALTH_CONDITION_REQUIRING_SIGNIFICANT_LIFESTYLE_CHANGES.'</li>\n",
       "\t<li>'CONSIDER_YOURSELF_RISKTAKER'</li>\n",
       "\t<li>'DEAL_WITH_RISK_AND_UNCERTANTLY_DAILY_BASIS'</li>\n",
       "\t<li>'Admitting.that.your.tastes.are.different.from.those.of.a.friend'</li>\n",
       "\t<li>'BIS_Cog_Instability'</li>\n",
       "\t<li>'BIS_Perseverance'</li>\n",
       "\t<li>'BIS_self_control'</li>\n",
       "\t<li>'BIS_Cog_Complexity'</li>\n",
       "\t<li>'DOS_Ethical'</li>\n",
       "\t<li>'DOS_Fin_Investment'</li>\n",
       "\t<li>'DOS_Fin_Gambling'</li>\n",
       "\t<li>'DOS_HealthSafety'</li>\n",
       "\t<li>'DOS_Recreational'</li>\n",
       "\t<li>'DOS_Social'</li>\n",
       "\t<li>'Number_of_Crashes'</li>\n",
       "\t<li>'BIS_Crashes'</li>\n",
       "\t<li>'Smoking'</li>\n",
       "\t<li>'BIS_self_control_2'</li>\n",
       "\t<li>'BIS_High'</li>\n",
       "\t<li>'BIS_Low'</li>\n",
       "</ol>\n"
      ],
      "text/latex": [
       "\\begin{enumerate*}\n",
       "\\item 'ID'\n",
       "\\item 'X'\n",
       "\\item 'Timestamp'\n",
       "\\item 'GENDER'\n",
       "\\item 'AGE'\n",
       "\\item 'DATE\\_OF\\_BIRTH'\n",
       "\\item 'NATIONALITY'\n",
       "\\item 'COUNTRY\\_OF\\_RESIDENCE'\n",
       "\\item 'ENGLISH\\_FIRST\\_LENGUAGE'\n",
       "\\item 'IF\\_NOT\\_ENGLISH\\_SPECIFY'\n",
       "\\item 'HIGHEST\\_LEVEL\\_EDUCATION'\n",
       "\\item 'OCCUPATION'\n",
       "\\item 'DOMINANT\\_HAND'\n",
       "\\item 'DO\\_YOU\\_DRIVE'\n",
       "\\item 'CURRENTLY\\_LEARNING\\_DRIVE'\n",
       "\\item 'CURRENTLY\\_HOLD\\_LEARNING\\_DRIVER\\_PERMIT'\n",
       "\\item 'CURRENTLY\\_HOLD\\_FULL\\_DRIVING\\_LICENSE'\n",
       "\\item 'RECEIVE\\_FULL\\_DRIVING\\_LICENSE'\n",
       "\\item 'AGE\\_STARTED\\_DRIVING'\n",
       "\\item 'AVERAGE\\_KM\\_MILEAGE\\_PER\\_YEAR'\n",
       "\\item 'HAVE\\_PENALTY\\_POINTS'\n",
       "\\item 'PENALTY\\_POINTS\\_FOR\\_WHAT'\n",
       "\\item 'COLLISIONS\\_LAST\\_TWO\\_YEARS'\n",
       "\\item 'HOW\\_MANY\\_COLLISIONS\\_LAST\\_TWO\\_YEARS'\n",
       "\\item 'HOW\\_SERIOUS\\_COLLISIONS'\n",
       "\\item 'FOR\\_HOW\\_MANY\\_WERE\\_CULPABLE'\n",
       "\\item 'EVER\\_SMOKED'\n",
       "\\item 'SMOKE\\_CURRENTLY'\n",
       "\\item 'HOW\\_MANY\\_YEARS\\_SMOKING'\n",
       "\\item 'HOW\\_MANY\\_CIGARETTES\\_PER\\_WEEK'\n",
       "\\item 'EVER\\_DRANK\\_ALCOHOL'\n",
       "\\item 'DRINK\\_CURRENTLY'\n",
       "\\item 'HOW\\_MANY\\_YEARS\\_DRINKING'\n",
       "\\item 'HOW\\_MUCH\\_UNITS\\_OF\\_ALCOHOL\\_PER\\_WEEK'\n",
       "\\item 'PREVIOUSLY\\_DIAGNOSED\\_HEALTH\\_CONDITION\\_REQUIRING\\_SIGNIFICANT\\_LIFESTYLE\\_CHANGES.'\n",
       "\\item 'CONSIDER\\_YOURSELF\\_RISKTAKER'\n",
       "\\item 'DEAL\\_WITH\\_RISK\\_AND\\_UNCERTANTLY\\_DAILY\\_BASIS'\n",
       "\\item 'Admitting.that.your.tastes.are.different.from.those.of.a.friend'\n",
       "\\item 'BIS\\_Cog\\_Instability'\n",
       "\\item 'BIS\\_Perseverance'\n",
       "\\item 'BIS\\_self\\_control'\n",
       "\\item 'BIS\\_Cog\\_Complexity'\n",
       "\\item 'DOS\\_Ethical'\n",
       "\\item 'DOS\\_Fin\\_Investment'\n",
       "\\item 'DOS\\_Fin\\_Gambling'\n",
       "\\item 'DOS\\_HealthSafety'\n",
       "\\item 'DOS\\_Recreational'\n",
       "\\item 'DOS\\_Social'\n",
       "\\item 'Number\\_of\\_Crashes'\n",
       "\\item 'BIS\\_Crashes'\n",
       "\\item 'Smoking'\n",
       "\\item 'BIS\\_self\\_control\\_2'\n",
       "\\item 'BIS\\_High'\n",
       "\\item 'BIS\\_Low'\n",
       "\\end{enumerate*}\n"
      ],
      "text/markdown": [
       "1. 'ID'\n",
       "2. 'X'\n",
       "3. 'Timestamp'\n",
       "4. 'GENDER'\n",
       "5. 'AGE'\n",
       "6. 'DATE_OF_BIRTH'\n",
       "7. 'NATIONALITY'\n",
       "8. 'COUNTRY_OF_RESIDENCE'\n",
       "9. 'ENGLISH_FIRST_LENGUAGE'\n",
       "10. 'IF_NOT_ENGLISH_SPECIFY'\n",
       "11. 'HIGHEST_LEVEL_EDUCATION'\n",
       "12. 'OCCUPATION'\n",
       "13. 'DOMINANT_HAND'\n",
       "14. 'DO_YOU_DRIVE'\n",
       "15. 'CURRENTLY_LEARNING_DRIVE'\n",
       "16. 'CURRENTLY_HOLD_LEARNING_DRIVER_PERMIT'\n",
       "17. 'CURRENTLY_HOLD_FULL_DRIVING_LICENSE'\n",
       "18. 'RECEIVE_FULL_DRIVING_LICENSE'\n",
       "19. 'AGE_STARTED_DRIVING'\n",
       "20. 'AVERAGE_KM_MILEAGE_PER_YEAR'\n",
       "21. 'HAVE_PENALTY_POINTS'\n",
       "22. 'PENALTY_POINTS_FOR_WHAT'\n",
       "23. 'COLLISIONS_LAST_TWO_YEARS'\n",
       "24. 'HOW_MANY_COLLISIONS_LAST_TWO_YEARS'\n",
       "25. 'HOW_SERIOUS_COLLISIONS'\n",
       "26. 'FOR_HOW_MANY_WERE_CULPABLE'\n",
       "27. 'EVER_SMOKED'\n",
       "28. 'SMOKE_CURRENTLY'\n",
       "29. 'HOW_MANY_YEARS_SMOKING'\n",
       "30. 'HOW_MANY_CIGARETTES_PER_WEEK'\n",
       "31. 'EVER_DRANK_ALCOHOL'\n",
       "32. 'DRINK_CURRENTLY'\n",
       "33. 'HOW_MANY_YEARS_DRINKING'\n",
       "34. 'HOW_MUCH_UNITS_OF_ALCOHOL_PER_WEEK'\n",
       "35. 'PREVIOUSLY_DIAGNOSED_HEALTH_CONDITION_REQUIRING_SIGNIFICANT_LIFESTYLE_CHANGES.'\n",
       "36. 'CONSIDER_YOURSELF_RISKTAKER'\n",
       "37. 'DEAL_WITH_RISK_AND_UNCERTANTLY_DAILY_BASIS'\n",
       "38. 'Admitting.that.your.tastes.are.different.from.those.of.a.friend'\n",
       "39. 'BIS_Cog_Instability'\n",
       "40. 'BIS_Perseverance'\n",
       "41. 'BIS_self_control'\n",
       "42. 'BIS_Cog_Complexity'\n",
       "43. 'DOS_Ethical'\n",
       "44. 'DOS_Fin_Investment'\n",
       "45. 'DOS_Fin_Gambling'\n",
       "46. 'DOS_HealthSafety'\n",
       "47. 'DOS_Recreational'\n",
       "48. 'DOS_Social'\n",
       "49. 'Number_of_Crashes'\n",
       "50. 'BIS_Crashes'\n",
       "51. 'Smoking'\n",
       "52. 'BIS_self_control_2'\n",
       "53. 'BIS_High'\n",
       "54. 'BIS_Low'\n",
       "\n",
       "\n"
      ],
      "text/plain": [
       " [1] \"ID\"                                                                            \n",
       " [2] \"X\"                                                                             \n",
       " [3] \"Timestamp\"                                                                     \n",
       " [4] \"GENDER\"                                                                        \n",
       " [5] \"AGE\"                                                                           \n",
       " [6] \"DATE_OF_BIRTH\"                                                                 \n",
       " [7] \"NATIONALITY\"                                                                   \n",
       " [8] \"COUNTRY_OF_RESIDENCE\"                                                          \n",
       " [9] \"ENGLISH_FIRST_LENGUAGE\"                                                        \n",
       "[10] \"IF_NOT_ENGLISH_SPECIFY\"                                                        \n",
       "[11] \"HIGHEST_LEVEL_EDUCATION\"                                                       \n",
       "[12] \"OCCUPATION\"                                                                    \n",
       "[13] \"DOMINANT_HAND\"                                                                 \n",
       "[14] \"DO_YOU_DRIVE\"                                                                  \n",
       "[15] \"CURRENTLY_LEARNING_DRIVE\"                                                      \n",
       "[16] \"CURRENTLY_HOLD_LEARNING_DRIVER_PERMIT\"                                         \n",
       "[17] \"CURRENTLY_HOLD_FULL_DRIVING_LICENSE\"                                           \n",
       "[18] \"RECEIVE_FULL_DRIVING_LICENSE\"                                                  \n",
       "[19] \"AGE_STARTED_DRIVING\"                                                           \n",
       "[20] \"AVERAGE_KM_MILEAGE_PER_YEAR\"                                                   \n",
       "[21] \"HAVE_PENALTY_POINTS\"                                                           \n",
       "[22] \"PENALTY_POINTS_FOR_WHAT\"                                                       \n",
       "[23] \"COLLISIONS_LAST_TWO_YEARS\"                                                     \n",
       "[24] \"HOW_MANY_COLLISIONS_LAST_TWO_YEARS\"                                            \n",
       "[25] \"HOW_SERIOUS_COLLISIONS\"                                                        \n",
       "[26] \"FOR_HOW_MANY_WERE_CULPABLE\"                                                    \n",
       "[27] \"EVER_SMOKED\"                                                                   \n",
       "[28] \"SMOKE_CURRENTLY\"                                                               \n",
       "[29] \"HOW_MANY_YEARS_SMOKING\"                                                        \n",
       "[30] \"HOW_MANY_CIGARETTES_PER_WEEK\"                                                  \n",
       "[31] \"EVER_DRANK_ALCOHOL\"                                                            \n",
       "[32] \"DRINK_CURRENTLY\"                                                               \n",
       "[33] \"HOW_MANY_YEARS_DRINKING\"                                                       \n",
       "[34] \"HOW_MUCH_UNITS_OF_ALCOHOL_PER_WEEK\"                                            \n",
       "[35] \"PREVIOUSLY_DIAGNOSED_HEALTH_CONDITION_REQUIRING_SIGNIFICANT_LIFESTYLE_CHANGES.\"\n",
       "[36] \"CONSIDER_YOURSELF_RISKTAKER\"                                                   \n",
       "[37] \"DEAL_WITH_RISK_AND_UNCERTANTLY_DAILY_BASIS\"                                    \n",
       "[38] \"Admitting.that.your.tastes.are.different.from.those.of.a.friend\"               \n",
       "[39] \"BIS_Cog_Instability\"                                                           \n",
       "[40] \"BIS_Perseverance\"                                                              \n",
       "[41] \"BIS_self_control\"                                                              \n",
       "[42] \"BIS_Cog_Complexity\"                                                            \n",
       "[43] \"DOS_Ethical\"                                                                   \n",
       "[44] \"DOS_Fin_Investment\"                                                            \n",
       "[45] \"DOS_Fin_Gambling\"                                                              \n",
       "[46] \"DOS_HealthSafety\"                                                              \n",
       "[47] \"DOS_Recreational\"                                                              \n",
       "[48] \"DOS_Social\"                                                                    \n",
       "[49] \"Number_of_Crashes\"                                                             \n",
       "[50] \"BIS_Crashes\"                                                                   \n",
       "[51] \"Smoking\"                                                                       \n",
       "[52] \"BIS_self_control_2\"                                                            \n",
       "[53] \"BIS_High\"                                                                      \n",
       "[54] \"BIS_Low\"                                                                       "
      ]
     },
     "metadata": {},
     "output_type": "display_data"
    },
    {
     "data": {
      "text/html": [
       "<table>\n",
       "<thead><tr><th scope=col>ID</th><th scope=col>X</th><th scope=col>Timestamp</th><th scope=col>GENDER</th><th scope=col>AGE</th><th scope=col>DATE_OF_BIRTH</th><th scope=col>NATIONALITY</th><th scope=col>COUNTRY_OF_RESIDENCE</th><th scope=col>ENGLISH_FIRST_LENGUAGE</th><th scope=col>IF_NOT_ENGLISH_SPECIFY</th><th scope=col>...</th><th scope=col>DOS_Fin_Gambling</th><th scope=col>DOS_HealthSafety</th><th scope=col>DOS_Recreational</th><th scope=col>DOS_Social</th><th scope=col>Number_of_Crashes</th><th scope=col>BIS_Crashes</th><th scope=col>Smoking</th><th scope=col>BIS_self_control_2</th><th scope=col>BIS_High</th><th scope=col>BIS_Low</th></tr></thead>\n",
       "<tbody>\n",
       "\t<tr><td>64436         </td><td> 861          </td><td>7/19/13 14:47 </td><td>Female        </td><td>22            </td><td>3/27/91       </td><td>American      </td><td>USA           </td><td>Yes           </td><td>NA            </td><td>...           </td><td> 8            </td><td>30            </td><td>40            </td><td>38            </td><td>NA            </td><td>NA            </td><td> 1            </td><td> 9            </td><td>0             </td><td>1             </td></tr>\n",
       "\t<tr><td>65051         </td><td> 575          </td><td>6/20/13 17:34 </td><td>Male          </td><td>19            </td><td>03/08/1993    </td><td>Mexican       </td><td>Ireland       </td><td>No            </td><td>Spanish       </td><td>...           </td><td>10            </td><td>35            </td><td>34            </td><td>31            </td><td> 2            </td><td> 9            </td><td>28            </td><td> 9            </td><td>0             </td><td>1             </td></tr>\n",
       "\t<tr><td>62973         </td><td> 218          </td><td>5/29/13 12:08 </td><td>Female        </td><td>20            </td><td>3/14/93       </td><td>Irish         </td><td>Ireland       </td><td>Yes           </td><td>NA            </td><td>...           </td><td> 9            </td><td>29            </td><td>34            </td><td>35            </td><td> 1            </td><td>10            </td><td> 3            </td><td>10            </td><td>0             </td><td>1             </td></tr>\n",
       "\t<tr><td>65090         </td><td>1237          </td><td>10/14/13 10:47</td><td>Female        </td><td>27            </td><td>8/14/85       </td><td>Irish         </td><td>Ireland       </td><td>Yes           </td><td>NA            </td><td>...           </td><td> 9            </td><td>26            </td><td>22            </td><td>40            </td><td>NA            </td><td>NA            </td><td> 7            </td><td>10            </td><td>0             </td><td>1             </td></tr>\n",
       "\t<tr><td>64000         </td><td> 883          </td><td>7/22/13 08:41 </td><td>Female        </td><td>20            </td><td>7/18/92       </td><td>Irish         </td><td>Ireland       </td><td>Yes           </td><td>NA            </td><td>...           </td><td> 3            </td><td>27            </td><td>20            </td><td>30            </td><td>NA            </td><td>NA            </td><td>20            </td><td>10            </td><td>0             </td><td>1             </td></tr>\n",
       "\t<tr><td>63825         </td><td> 238          </td><td>5/30/13 16:13 </td><td>Male          </td><td>25            </td><td>05/12/1988    </td><td>Irish         </td><td>Ireland       </td><td>Yes           </td><td>NA            </td><td>...           </td><td>17            </td><td>31            </td><td>40            </td><td>40            </td><td>NA            </td><td>NA            </td><td>40            </td><td>10            </td><td>0             </td><td>1             </td></tr>\n",
       "</tbody>\n",
       "</table>\n"
      ],
      "text/latex": [
       "\\begin{tabular}{r|llllllllllllllllllllllllllllllllllllllllllllllllllllll}\n",
       " ID & X & Timestamp & GENDER & AGE & DATE\\_OF\\_BIRTH & NATIONALITY & COUNTRY\\_OF\\_RESIDENCE & ENGLISH\\_FIRST\\_LENGUAGE & IF\\_NOT\\_ENGLISH\\_SPECIFY & ... & DOS\\_Fin\\_Gambling & DOS\\_HealthSafety & DOS\\_Recreational & DOS\\_Social & Number\\_of\\_Crashes & BIS\\_Crashes & Smoking & BIS\\_self\\_control\\_2 & BIS\\_High & BIS\\_Low\\\\\n",
       "\\hline\n",
       "\t 64436          &  861           & 7/19/13 14:47  & Female         & 22             & 3/27/91        & American       & USA            & Yes            & NA             & ...            &  8             & 30             & 40             & 38             & NA             & NA             &  1             &  9             & 0              & 1             \\\\\n",
       "\t 65051          &  575           & 6/20/13 17:34  & Male           & 19             & 03/08/1993     & Mexican        & Ireland        & No             & Spanish        & ...            & 10             & 35             & 34             & 31             &  2             &  9             & 28             &  9             & 0              & 1             \\\\\n",
       "\t 62973          &  218           & 5/29/13 12:08  & Female         & 20             & 3/14/93        & Irish          & Ireland        & Yes            & NA             & ...            &  9             & 29             & 34             & 35             &  1             & 10             &  3             & 10             & 0              & 1             \\\\\n",
       "\t 65090          & 1237           & 10/14/13 10:47 & Female         & 27             & 8/14/85        & Irish          & Ireland        & Yes            & NA             & ...            &  9             & 26             & 22             & 40             & NA             & NA             &  7             & 10             & 0              & 1             \\\\\n",
       "\t 64000          &  883           & 7/22/13 08:41  & Female         & 20             & 7/18/92        & Irish          & Ireland        & Yes            & NA             & ...            &  3             & 27             & 20             & 30             & NA             & NA             & 20             & 10             & 0              & 1             \\\\\n",
       "\t 63825          &  238           & 5/30/13 16:13  & Male           & 25             & 05/12/1988     & Irish          & Ireland        & Yes            & NA             & ...            & 17             & 31             & 40             & 40             & NA             & NA             & 40             & 10             & 0              & 1             \\\\\n",
       "\\end{tabular}\n"
      ],
      "text/markdown": [
       "\n",
       "ID | X | Timestamp | GENDER | AGE | DATE_OF_BIRTH | NATIONALITY | COUNTRY_OF_RESIDENCE | ENGLISH_FIRST_LENGUAGE | IF_NOT_ENGLISH_SPECIFY | ... | DOS_Fin_Gambling | DOS_HealthSafety | DOS_Recreational | DOS_Social | Number_of_Crashes | BIS_Crashes | Smoking | BIS_self_control_2 | BIS_High | BIS_Low | \n",
       "|---|---|---|---|---|---|\n",
       "| 64436          |  861           | 7/19/13 14:47  | Female         | 22             | 3/27/91        | American       | USA            | Yes            | NA             | ...            |  8             | 30             | 40             | 38             | NA             | NA             |  1             |  9             | 0              | 1              | \n",
       "| 65051          |  575           | 6/20/13 17:34  | Male           | 19             | 03/08/1993     | Mexican        | Ireland        | No             | Spanish        | ...            | 10             | 35             | 34             | 31             |  2             |  9             | 28             |  9             | 0              | 1              | \n",
       "| 62973          |  218           | 5/29/13 12:08  | Female         | 20             | 3/14/93        | Irish          | Ireland        | Yes            | NA             | ...            |  9             | 29             | 34             | 35             |  1             | 10             |  3             | 10             | 0              | 1              | \n",
       "| 65090          | 1237           | 10/14/13 10:47 | Female         | 27             | 8/14/85        | Irish          | Ireland        | Yes            | NA             | ...            |  9             | 26             | 22             | 40             | NA             | NA             |  7             | 10             | 0              | 1              | \n",
       "| 64000          |  883           | 7/22/13 08:41  | Female         | 20             | 7/18/92        | Irish          | Ireland        | Yes            | NA             | ...            |  3             | 27             | 20             | 30             | NA             | NA             | 20             | 10             | 0              | 1              | \n",
       "| 63825          |  238           | 5/30/13 16:13  | Male           | 25             | 05/12/1988     | Irish          | Ireland        | Yes            | NA             | ...            | 17             | 31             | 40             | 40             | NA             | NA             | 40             | 10             | 0              | 1              | \n",
       "\n",
       "\n"
      ],
      "text/plain": [
       "  ID    X    Timestamp      GENDER AGE DATE_OF_BIRTH NATIONALITY\n",
       "1 64436  861 7/19/13 14:47  Female 22  3/27/91       American   \n",
       "2 65051  575 6/20/13 17:34  Male   19  03/08/1993    Mexican    \n",
       "3 62973  218 5/29/13 12:08  Female 20  3/14/93       Irish      \n",
       "4 65090 1237 10/14/13 10:47 Female 27  8/14/85       Irish      \n",
       "5 64000  883 7/22/13 08:41  Female 20  7/18/92       Irish      \n",
       "6 63825  238 5/30/13 16:13  Male   25  05/12/1988    Irish      \n",
       "  COUNTRY_OF_RESIDENCE ENGLISH_FIRST_LENGUAGE IF_NOT_ENGLISH_SPECIFY ...\n",
       "1 USA                  Yes                    NA                     ...\n",
       "2 Ireland              No                     Spanish                ...\n",
       "3 Ireland              Yes                    NA                     ...\n",
       "4 Ireland              Yes                    NA                     ...\n",
       "5 Ireland              Yes                    NA                     ...\n",
       "6 Ireland              Yes                    NA                     ...\n",
       "  DOS_Fin_Gambling DOS_HealthSafety DOS_Recreational DOS_Social\n",
       "1  8               30               40               38        \n",
       "2 10               35               34               31        \n",
       "3  9               29               34               35        \n",
       "4  9               26               22               40        \n",
       "5  3               27               20               30        \n",
       "6 17               31               40               40        \n",
       "  Number_of_Crashes BIS_Crashes Smoking BIS_self_control_2 BIS_High BIS_Low\n",
       "1 NA                NA           1       9                 0        1      \n",
       "2  2                 9          28       9                 0        1      \n",
       "3  1                10           3      10                 0        1      \n",
       "4 NA                NA           7      10                 0        1      \n",
       "5 NA                NA          20      10                 0        1      \n",
       "6 NA                NA          40      10                 0        1      "
      ]
     },
     "metadata": {},
     "output_type": "display_data"
    }
   ],
   "source": [
    "# Dataset Import \n",
    "data <- read.csv(file=\"Risklab_2.5.csv\", header=TRUE, sep=\",\")\n",
    "names(data)\n",
    "head(data)"
   ]
  },
  {
   "cell_type": "markdown",
   "metadata": {},
   "source": [
    "### 2. Testing distribution of risk taking measure"
   ]
  },
  {
   "cell_type": "code",
   "execution_count": 47,
   "metadata": {},
   "outputs": [
    {
     "data": {
      "text/html": [
       "<table>\n",
       "<thead><tr><th></th><th scope=col>vars</th><th scope=col>n</th><th scope=col>mean</th><th scope=col>sd</th><th scope=col>median</th><th scope=col>trimmed</th><th scope=col>mad</th><th scope=col>min</th><th scope=col>max</th><th scope=col>range</th><th scope=col>skew</th><th scope=col>kurtosis</th><th scope=col>se</th></tr></thead>\n",
       "<tbody>\n",
       "\t<tr><th scope=row>X1</th><td>1         </td><td>264       </td><td>15.39394  </td><td>2.682878  </td><td>15        </td><td>15.35849  </td><td>2.9652    </td><td>9         </td><td>22        </td><td>13        </td><td>0.0880023 </td><td>-0.4803899</td><td>0.1651197 </td></tr>\n",
       "</tbody>\n",
       "</table>\n"
      ],
      "text/latex": [
       "\\begin{tabular}{r|lllllllllllll}\n",
       "  & vars & n & mean & sd & median & trimmed & mad & min & max & range & skew & kurtosis & se\\\\\n",
       "\\hline\n",
       "\tX1 & 1          & 264        & 15.39394   & 2.682878   & 15         & 15.35849   & 2.9652     & 9          & 22         & 13         & 0.0880023  & -0.4803899 & 0.1651197 \\\\\n",
       "\\end{tabular}\n"
      ],
      "text/markdown": [
       "\n",
       "| <!--/--> | vars | n | mean | sd | median | trimmed | mad | min | max | range | skew | kurtosis | se | \n",
       "|---|\n",
       "| X1 | 1          | 264        | 15.39394   | 2.682878   | 15         | 15.35849   | 2.9652     | 9          | 22         | 13         | 0.0880023  | -0.4803899 | 0.1651197  | \n",
       "\n",
       "\n"
      ],
      "text/plain": [
       "   vars n   mean     sd       median trimmed  mad    min max range skew     \n",
       "X1 1    264 15.39394 2.682878 15     15.35849 2.9652 9   22  13    0.0880023\n",
       "   kurtosis   se       \n",
       "X1 -0.4803899 0.1651197"
      ]
     },
     "metadata": {},
     "output_type": "display_data"
    },
    {
     "data": {
      "image/png": "[encoded data removed]",
      "text/plain": [
       "Plot with title \"Normal Q-Q Plot\""
      ]
     },
     "metadata": {},
     "output_type": "display_data",
     "source": "R display func"
    },
    {
     "data": {
      "image/png": "[encoded data removed]",
      "text/plain": [
       "Plot with title \"Histogram of data$BIS_self_control_2\""
      ]
     },
     "metadata": {},
     "output_type": "display_data",
     "source": "R display func"
    },
    {
     "data": {
      "image/png": "[encoded data removed]",
      "text/plain": [
       "plot without title"
      ]
     },
     "metadata": {},
     "output_type": "display_data",
     "source": "R display func"
    },
    {
     "data": {
      "image/png": "[encoded data removed]",
      "text/plain": [
       "plot without title"
      ]
     },
     "metadata": {},
     "output_type": "display_data",
     "source": "R display func"
    }
   ],
   "source": [
    "library(psych)\n",
    "describe(data$BIS_self_control_2)\n",
    "\n",
    "qqnorm(data$BIS_self_control_2)\n",
    "qqline(data$BIS_self_control_2)\n",
    "\n",
    "hist(data$BIS_self_control_2)\n",
    "boxplot(data$BIS_self_control_2)\n",
    "\n",
    "plot(data$BIS_self_control_2)\n",
    "\n"
   ]
  },
  {
   "cell_type": "markdown",
   "metadata": {},
   "source": [
    "---\n"
   ]
  },
  {
   "cell_type": "code",
   "execution_count": 56,
   "metadata": {},
   "outputs": [
    {
     "data": {
      "text/html": [
       "<table>\n",
       "<thead><tr><th></th><th scope=col>vars</th><th scope=col>n</th><th scope=col>mean</th><th scope=col>sd</th><th scope=col>median</th><th scope=col>trimmed</th><th scope=col>mad</th><th scope=col>min</th><th scope=col>max</th><th scope=col>range</th><th scope=col>skew</th><th scope=col>kurtosis</th><th scope=col>se</th></tr></thead>\n",
       "<tbody>\n",
       "\t<tr><th scope=row>X1</th><td>1       </td><td>264     </td><td>52.875  </td><td>55.7389 </td><td>35      </td><td>44.81604</td><td>45.9606 </td><td>1       </td><td>420     </td><td>419     </td><td>2.034355</td><td>7.531952</td><td>3.430492</td></tr>\n",
       "</tbody>\n",
       "</table>\n"
      ],
      "text/latex": [
       "\\begin{tabular}{r|lllllllllllll}\n",
       "  & vars & n & mean & sd & median & trimmed & mad & min & max & range & skew & kurtosis & se\\\\\n",
       "\\hline\n",
       "\tX1 & 1        & 264      & 52.875   & 55.7389  & 35       & 44.81604 & 45.9606  & 1        & 420      & 419      & 2.034355 & 7.531952 & 3.430492\\\\\n",
       "\\end{tabular}\n"
      ],
      "text/markdown": [
       "\n",
       "| <!--/--> | vars | n | mean | sd | median | trimmed | mad | min | max | range | skew | kurtosis | se | \n",
       "|---|\n",
       "| X1 | 1        | 264      | 52.875   | 55.7389  | 35       | 44.81604 | 45.9606  | 1        | 420      | 419      | 2.034355 | 7.531952 | 3.430492 | \n",
       "\n",
       "\n"
      ],
      "text/plain": [
       "   vars n   mean   sd      median trimmed  mad     min max range skew    \n",
       "X1 1    264 52.875 55.7389 35     44.81604 45.9606 1   420 419   2.034355\n",
       "   kurtosis se      \n",
       "X1 7.531952 3.430492"
      ]
     },
     "metadata": {},
     "output_type": "display_data"
    },
    {
     "data": {
      "image/png": "[encoded data removed]",
      "text/plain": [
       "Plot with title \"Normal Q-Q Plot\""
      ]
     },
     "metadata": {},
     "output_type": "display_data",
     "source": "R display func"
    },
    {
     "data": {
      "image/png": "[encoded data removed]",
      "text/plain": [
       "Plot with title \"Histogram of data$Smoking\""
      ]
     },
     "metadata": {},
     "output_type": "display_data",
     "source": "R display func"
    },
    {
     "data": {
      "image/png": "[encoded data removed]",
      "text/plain": [
       "plot without title"
      ]
     },
     "metadata": {},
     "output_type": "display_data",
     "source": "R display func"
    }
   ],
   "source": [
    "library(psych)\n",
    "\n",
    "describe(data$Smoking)\n",
    "\n",
    "qqnorm(data$Smoking)\n",
    "qqline(data$Smoking)\n",
    "\n",
    "hist(data$Smoking)\n",
    "boxplot(data$Smoking)"
   ]
  },
  {
   "cell_type": "code",
   "execution_count": 94,
   "metadata": {},
   "outputs": [
    {
     "data": {
      "text/plain": [
       "c1\n",
       "   (0,25]   (25,50]   (50,75]  (75,100] (100,125] (125,150] (150,175] \n",
       "      113        47        44         8        19        24         6 "
      ]
     },
     "metadata": {},
     "output_type": "display_data"
    },
    {
     "data": {
      "image/png": "[encoded data removed]",
      "text/plain": [
       "plot without title"
      ]
     },
     "metadata": {},
     "output_type": "display_data",
     "source": "R display func"
    }
   ],
   "source": [
    "c1 <- cut(data$Smoking, breaks = seq(0, 175, by = 25))\n",
    "table(c1)\n",
    "plot(c1)"
   ]
  },
  {
   "cell_type": "code",
   "execution_count": 151,
   "metadata": {},
   "outputs": [
    {
     "data": {
      "text/plain": [
       "c2\n",
       " (7,10] (10,13] (13,16] (16,19] (19,22] \n",
       "      8      55     115      67      19 "
      ]
     },
     "metadata": {},
     "output_type": "display_data"
    },
    {
     "data": {
      "image/png": "[encoded data removed]",
      "text/plain": [
       "plot without title"
      ]
     },
     "metadata": {},
     "output_type": "display_data",
     "source": "R display func"
    }
   ],
   "source": [
    "c2 <- cut(data$BIS_self_control_2, breaks = seq(7, 22, by = 3))\n",
    "table(c2)\n",
    "plot(c2)\n"
   ]
  },
  {
   "cell_type": "code",
   "execution_count": 165,
   "metadata": {},
   "outputs": [],
   "source": [
    "Low <- 0\n",
    "Low[data$BIS==0]<-1\n",
    "High <- 0\n",
    "High[data$BIS==1]<-1\n"
   ]
  },
  {
   "cell_type": "code",
   "execution_count": null,
   "metadata": {},
   "outputs": [],
   "source": []
  },
  {
   "cell_type": "code",
   "execution_count": 145,
   "metadata": {},
   "outputs": [],
   "source": [
    "myListFiltered <- data$Smoking[data$Smoking <= 200]\n",
    "Smoked <- na.omit(myListFiltered )\n",
    "\n",
    "Smoked <- c(Smoked,178)\n",
    "Smoked <- c(Smoked,78)\n",
    "Smoked <- c(Smoked,89)\n",
    "Smoked <- c(Smoked,43)\n",
    "Smoked <- Smoked[-2]\n",
    "#data$Smoking"
   ]
  },
  {
   "cell_type": "code",
   "execution_count": 139,
   "metadata": {},
   "outputs": [
    {
     "name": "stdout",
     "output_type": "stream",
     "text": [
      "               Df Sum Sq Mean Sq F value Pr(>F)\n",
      "as.factor(c2)   4   9177    2294   0.971  0.424\n",
      "Residuals     259 612227    2364               \n",
      "1064 observations deleted due to missingness\n"
     ]
    },
    {
     "data": {
      "image/png": "[encoded data removed]",
      "text/plain": [
       "plot without title"
      ]
     },
     "metadata": {},
     "output_type": "display_data",
     "source": "R display func"
    }
   ],
   "source": [
    "plot(data$Smoking ~ as.factor(c2))\n",
    "fit <- aov(data$Smoking ~ as.factor(c2) )\n",
    "print(summary(fit))"
   ]
  },
  {
   "cell_type": "code",
   "execution_count": 144,
   "metadata": {},
   "outputs": [
    {
     "data": {
      "text/plain": [
       "\n",
       "\tKruskal-Wallis rank sum test\n",
       "\n",
       "data:  data$Smoking and as.factor(c2)\n",
       "Kruskal-Wallis chi-squared = 6.2175, df = 4, p-value = 0.1835\n"
      ]
     },
     "metadata": {},
     "output_type": "display_data"
    }
   ],
   "source": [
    "kruskal.test(data$Smoking , as.factor(c2))"
   ]
  },
  {
   "cell_type": "code",
   "execution_count": 169,
   "metadata": {},
   "outputs": [
    {
     "name": "stdout",
     "output_type": "stream",
     "text": [
      "\n",
      "Call:\n",
      "lm(formula = Smoking ~ BIS_High + BIS_Low, data = data)\n",
      "\n",
      "Residuals:\n",
      "   Min     1Q Median     3Q    Max \n",
      "-50.55 -41.55 -16.55  19.66 149.66 \n",
      "\n",
      "Coefficients: (1 not defined because of singularities)\n",
      "            Estimate Std. Error t value Pr(>|t|)    \n",
      "(Intercept)   50.336      4.072  12.361   <2e-16 ***\n",
      "BIS_High       1.210      6.015   0.201    0.841    \n",
      "BIS_Low           NA         NA      NA       NA    \n",
      "---\n",
      "Signif. codes:  0 '***' 0.001 '**' 0.01 '*' 0.05 '.' 0.1 ' ' 1\n",
      "\n",
      "Residual standard error: 48.7 on 262 degrees of freedom\n",
      "  (1064 observations deleted due to missingness)\n",
      "Multiple R-squared:  0.0001544,\tAdjusted R-squared:  -0.003662 \n",
      "F-statistic: 0.04045 on 1 and 262 DF,  p-value: 0.8408\n",
      "\n"
     ]
    }
   ],
   "source": [
    "## Normal Linear Regression \n",
    "\n",
    "\n",
    "\n",
    "mm<-lm(Smoking ~ BIS_High+BIS_Low ,data=data)\n",
    "\n",
    "\n",
    "\n",
    "print(summary(mm))\n"
   ]
  },
  {
   "cell_type": "code",
   "execution_count": 170,
   "metadata": {},
   "outputs": [
    {
     "data": {
      "image/png": "[encoded data removed]",
      "text/plain": [
       "Plot with title \"\""
      ]
     },
     "metadata": {},
     "output_type": "display_data",
     "source": "R display func"
    }
   ],
   "source": [
    "par(mfrow=c(2,2))\n",
    "plot(mm)\n",
    "p<-locator()\n",
    "cooksd<-cooks.distance(mm)\n",
    "\n"
   ]
  },
  {
   "cell_type": "code",
   "execution_count": 179,
   "metadata": {},
   "outputs": [
    {
     "name": "stdout",
     "output_type": "stream",
     "text": [
      "Start:  AIC=2052.16\n",
      "Smoking ~ as.factor(c2) + AGE\n",
      "\n",
      "                Df Sum of Sq    RSS    AIC\n",
      "- as.factor(c2)  4    6950.9 606442 2047.2\n",
      "<none>                       599491 2052.2\n",
      "- AGE            1   13985.3 613477 2056.2\n",
      "\n",
      "Step:  AIC=2047.21\n",
      "Smoking ~ AGE\n",
      "\n",
      "                Df Sum of Sq    RSS    AIC\n",
      "<none>                       606442 2047.2\n",
      "- AGE            1   14961.5 621404 2051.6\n",
      "+ as.factor(c2)  4    6950.9 599491 2052.2\n"
     ]
    },
    {
     "data": {
      "text/html": [
       "<table>\n",
       "<thead><tr><th scope=col>Step</th><th scope=col>Df</th><th scope=col>Deviance</th><th scope=col>Resid. Df</th><th scope=col>Resid. Dev</th><th scope=col>AIC</th></tr></thead>\n",
       "<tbody>\n",
       "\t<tr><td>               </td><td>NA             </td><td>    NA         </td><td>258            </td><td>599491.4       </td><td>2052.162       </td></tr>\n",
       "\t<tr><td>- as.factor(c2)</td><td> 4             </td><td>6950.9         </td><td>262            </td><td>606442.3       </td><td>2047.206       </td></tr>\n",
       "</tbody>\n",
       "</table>\n"
      ],
      "text/latex": [
       "\\begin{tabular}{r|llllll}\n",
       " Step & Df & Deviance & Resid. Df & Resid. Dev & AIC\\\\\n",
       "\\hline\n",
       "\t                 & NA              &     NA          & 258             & 599491.4        & 2052.162       \\\\\n",
       "\t - as.factor(c2) &  4              & 6950.9          & 262             & 606442.3        & 2047.206       \\\\\n",
       "\\end{tabular}\n"
      ],
      "text/markdown": [
       "\n",
       "Step | Df | Deviance | Resid. Df | Resid. Dev | AIC | \n",
       "|---|---|\n",
       "|                 | NA              |     NA          | 258             | 599491.4        | 2052.162        | \n",
       "| - as.factor(c2) |  4              | 6950.9          | 262             | 606442.3        | 2047.206        | \n",
       "\n",
       "\n"
      ],
      "text/plain": [
       "  Step            Df Deviance Resid. Df Resid. Dev AIC     \n",
       "1                 NA     NA   258       599491.4   2052.162\n",
       "2 - as.factor(c2)  4 6950.9   262       606442.3   2047.206"
      ]
     },
     "metadata": {},
     "output_type": "display_data"
    }
   ],
   "source": [
    "## Step wise regression \n",
    "\n",
    "library(MASS)\n",
    "\n",
    "step <- stepAIC(regmod, direction=\"both\")\n",
    "step$anova # display results"
   ]
  },
  {
   "cell_type": "code",
   "execution_count": 176,
   "metadata": {},
   "outputs": [
    {
     "name": "stdout",
     "output_type": "stream",
     "text": [
      "Start:  AIC=2052.16\n",
      "Smoking ~ as.factor(c2) + AGE\n",
      "\n",
      "                Df Sum of Sq    RSS    AIC\n",
      "- as.factor(c2)  4    6950.9 606442 2047.2\n",
      "<none>                       599491 2052.2\n",
      "- AGE            1   13985.3 613477 2056.2\n",
      "\n",
      "Step:  AIC=2047.21\n",
      "Smoking ~ AGE\n",
      "\n",
      "       Df Sum of Sq    RSS    AIC\n",
      "<none>              606442 2047.2\n",
      "- AGE   1     14962 621404 2051.6\n"
     ]
    },
    {
     "data": {
      "text/plain": [
       "\n",
       "Call:\n",
       "lm(formula = Smoking ~ AGE, data = data)\n",
       "\n",
       "Residuals:\n",
       "   Min     1Q Median     3Q    Max \n",
       "-70.14 -40.16 -14.45  26.03 153.68 \n",
       "\n",
       "Coefficients:\n",
       "            Estimate Std. Error t value Pr(>|t|)   \n",
       "(Intercept)  27.5399     9.6498   2.854  0.00466 **\n",
       "AGE           0.7825     0.3078   2.542  0.01159 * \n",
       "---\n",
       "Signif. codes:  0 '***' 0.001 '**' 0.01 '*' 0.05 '.' 0.1 ' ' 1\n",
       "\n",
       "Residual standard error: 48.11 on 262 degrees of freedom\n",
       "  (1064 observations deleted due to missingness)\n",
       "Multiple R-squared:  0.02408,\tAdjusted R-squared:  0.02035 \n",
       "F-statistic: 6.464 on 1 and 262 DF,  p-value: 0.01159\n"
      ]
     },
     "metadata": {},
     "output_type": "display_data"
    }
   ],
   "source": [
    "model <- step(regmod)\n",
    "summary(model)"
   ]
  },
  {
   "cell_type": "code",
   "execution_count": 174,
   "metadata": {},
   "outputs": [
    {
     "name": "stdout",
     "output_type": "stream",
     "text": [
      "\n",
      "Call:\n",
      "lm(formula = Smoking ~ as.factor(c2) + AGE, data = data)\n",
      "\n",
      "Residuals:\n",
      "   Min     1Q Median     3Q    Max \n",
      "-69.00 -38.81 -13.66  27.11 148.44 \n",
      "\n",
      "Coefficients:\n",
      "                     Estimate Std. Error t value Pr(>|t|)  \n",
      "(Intercept)            34.427     19.201   1.793   0.0741 .\n",
      "as.factor(c2)(10,13]   -3.282     18.251  -0.180   0.8574  \n",
      "as.factor(c2)(13,16]   -8.595     17.628  -0.488   0.6263  \n",
      "as.factor(c2)(16,19]   -1.064     18.037  -0.059   0.9530  \n",
      "as.factor(c2)(19,22]  -20.273     20.316  -0.998   0.3193  \n",
      "AGE                     0.758      0.309   2.453   0.0148 *\n",
      "---\n",
      "Signif. codes:  0 '***' 0.001 '**' 0.01 '*' 0.05 '.' 0.1 ' ' 1\n",
      "\n",
      "Residual standard error: 48.2 on 258 degrees of freedom\n",
      "  (1064 observations deleted due to missingness)\n",
      "Multiple R-squared:  0.03526,\tAdjusted R-squared:  0.01657 \n",
      "F-statistic: 1.886 on 5 and 258 DF,  p-value: 0.09712\n",
      "\n"
     ]
    }
   ],
   "source": [
    "regmod<-lm(Smoking ~ as.factor(c2) + AGE ,data=data)\n",
    "\n",
    "print(summary(regmod))"
   ]
  }
 ],
 "metadata": {
  "kernelspec": {
   "display_name": "R",
   "language": "R",
   "name": "ir"
  },
  "language_info": {
   "codemirror_mode": "r",
   "file_extension": ".r",
   "mimetype": "text/x-r-source",
   "name": "R",
   "pygments_lexer": "r",
   "version": "3.4.2"
  }
 },
 "nbformat": 4,
 "nbformat_minor": 2
}
