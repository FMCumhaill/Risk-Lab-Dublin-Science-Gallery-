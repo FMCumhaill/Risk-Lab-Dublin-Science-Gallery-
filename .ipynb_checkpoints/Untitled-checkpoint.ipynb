{
 "cells": [
  {
   "cell_type": "code",
   "execution_count": 3,
   "metadata": {},
   "outputs": [],
   "source": [
    "data <- read.csv(file=\"Risklab_2.4.csv\", header=TRUE, sep=\",\")\n",
    "\n",
    "new_data <-data.frame(data$EVER_SMOKED,data$AGE,data$BIS_Cog_Instability,data$BIS_self_control,data$DOS_Fin_Investment,data$DOS_Fin_Gambling,data$DOS_HealthSafety)\n",
    "\n",
    "new_data <- new_data[complete.cases(new_data), ]\n"
   ]
  },
  {
   "cell_type": "code",
   "execution_count": 4,
   "metadata": {},
   "outputs": [
    {
     "data": {
      "text/html": [
       "1318"
      ],
      "text/latex": [
       "1318"
      ],
      "text/markdown": [
       "1318"
      ],
      "text/plain": [
       "[1] 1318"
      ]
     },
     "metadata": {},
     "output_type": "display_data"
    }
   ],
   "source": [
    "gg<-glm(data.EVER_SMOKED~data.AGE+data.BIS_Cog_Instability+data.BIS_self_control+data.DOS_Fin_Investment+data.DOS_Fin_Gambling+data.DOS_HealthSafety,data=new_data,family=\"binomial\")\n",
    "selg<-step(gg,trace=F)\n",
    "\n",
    "NROW(selg$fit)"
   ]
  },
  {
   "cell_type": "code",
   "execution_count": 17,
   "metadata": {},
   "outputs": [
    {
     "data": {
      "image/png": "[encoded data removed]",
      "text/plain": [
       "plot without title"
      ]
     },
     "metadata": {},
     "output_type": "display_data",
     "source": "R display func"
    }
   ],
   "source": [
    "library(gtools)\n",
    "plot(logit(selg$fit),new_data$data.EVER_SMOKED,xlab=\"linear predictor\",ylab=\"chd\")\n",
    "lines(sort(logit(selg$fit)),selg$fit[sort.list(selg$fit)])\n"
   ]
  },
  {
   "cell_type": "code",
   "execution_count": 23,
   "metadata": {},
   "outputs": [
    {
     "data": {
      "text/plain": [
       "   \n",
       "pp   No Yes\n",
       "  0 291 179\n",
       "  1 295 553"
      ]
     },
     "metadata": {},
     "output_type": "display_data"
    },
    {
     "name": "stdout",
     "output_type": "stream",
     "text": [
      "[1] \"Misclassification error=\" \"1\"                       \n"
     ]
    }
   ],
   "source": [
    "pp<-predict(selg,type=\"response\")\n",
    "pp[pp<.5]<-0\n",
    "pp[pp>=.5]<-1\n",
    "table(pp,new_data$data.EVER_SMOKED)\n",
    "print(c(\"Misclassification error=\", round(sum(pp!=new_data$data.EVER_SMOKE)/length(new_data$data.EVER_SMOKE),0)))\n"
   ]
  },
  {
   "cell_type": "code",
   "execution_count": null,
   "metadata": {},
   "outputs": [],
   "source": [
    "selg<-step(gg,trace=F)\n",
    "\n",
    "pp<-predict(selg,type=\"response\")\n",
    "pp[pp<.5]<-0\n",
    "pp[pp>=.5]<-1\n",
    "table(pp,data$EVER_SMOKED)\n",
    "\n"
   ]
  },
  {
   "cell_type": "code",
   "execution_count": null,
   "metadata": {},
   "outputs": [],
   "source": [
    "new_data <-data.frame(data$EVER_SMOKED,data$AGE,data$BIS_Cog_Instability,data$BIS_self_control,data$DOS_Fin_Investment,data$DOS_Fin_Gambling,data$DOS_HealthSafety)\n",
    "#sum(complete.cases(new_data))\n",
    " x <- new_data[complete.cases(new_data), ]\n",
    "\n",
    "gg<-glm(EVER_SMOKED~AGE+BIS_Cog_Instability+BIS_self_control+DOS_Fin_Investment+DOS_Fin_Gambling+DOS_HealthSafety,data=new_data,family=\"binomial\")\n",
    "new_data$EVER_SMOKED\n",
    "\n",
    "\n",
    "gg<-glm(data.EVER_SMOKED~data.AGE+data.BIS_Cog_Instability+data.BIS_self_control+data.DOS_Fin_Investment+data.DOS_Fin_Gambling+data.DOS_HealthSafety,data=new_data,family=\"binomial\")\n",
    "summary(gg)\n",
    "\n",
    "selg<-step(gg,trace=F)\n",
    "\n",
    "pp<-predict(selg,type=\"response\")\n",
    "pp[pp<.5]<-0\n",
    "pp[pp>=.5]<-1\n",
    "table(pp,data$data.EVER_SMOKED)\n"
   ]
  }
 ],
 "metadata": {
  "kernelspec": {
   "display_name": "R",
   "language": "R",
   "name": "ir"
  },
  "language_info": {
   "codemirror_mode": "r",
   "file_extension": ".r",
   "mimetype": "text/x-r-source",
   "name": "R",
   "pygments_lexer": "r",
   "version": "3.4.2"
  }
 },
 "nbformat": 4,
 "nbformat_minor": 2
}
