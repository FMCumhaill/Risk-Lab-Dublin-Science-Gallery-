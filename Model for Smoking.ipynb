{
 "cells": [
  {
   "cell_type": "markdown",
   "metadata": {},
   "source": [
    "## Building a prediction model for if an participant in the dataset has smoked during their life. \n",
    "**This is private data. Please do not share**\n",
    "\n",
    "* Date: 2017 - 12 - 22\n",
    "\n",
    "* Version: 1\n",
    "* Editors: Fionn Delahunty \n",
    "\n",
    "------- \n",
    "\n",
    "This notebook (R code) trys to build a prediction model for if a participant has ever smoked. \n",
    "\n",
    "\n",
    "__Summary of steps__\n",
    "\n",
    "_ Exploratory data analysis _ \n",
    "1. Dataset import \n",
    "2. Testing distribution of smoking \n",
    "\n",
    "_ Model building _ \n",
    "\n",
    "4. Model building using logistic regression \n",
    "5. Testing for interactions \n",
    "5. Testing the effectiveness of the model \n",
    "\n",
    "\n",
    "------\n",
    "__ Conclusion __\n",
    "\n",
    "BAA BAA Blacksheep\n"
   ]
  },
  {
   "cell_type": "markdown",
   "metadata": {},
   "source": [
    "### 1. Dataset import & data splitting "
   ]
  },
  {
   "cell_type": "code",
   "execution_count": 43,
   "metadata": {},
   "outputs": [],
   "source": [
    "original_data <- read.csv(file=\"Risklab_2.4.csv\", header=TRUE, sep=\",\")"
   ]
  },
  {
   "cell_type": "code",
   "execution_count": 41,
   "metadata": {},
   "outputs": [],
   "source": [
    "test_data <- original_data[1:200,]\n",
    "data <- original_data[201:1328,]"
   ]
  },
  {
   "cell_type": "markdown",
   "metadata": {},
   "source": [
    "### 2. Testing distribution of smoking (Yes/No)"
   ]
  },
  {
   "cell_type": "code",
   "execution_count": 44,
   "metadata": {},
   "outputs": [
    {
     "data": {
      "text/plain": [
       "\n",
       " No Yes \n",
       "586 534 "
      ]
     },
     "metadata": {},
     "output_type": "display_data"
    },
    {
     "data": {
      "image/png": "[encoded data removed]",
      "text/plain": [
       "plot without title"
      ]
     },
     "metadata": {},
     "output_type": "display_data",
     "source": "R display func"
    }
   ],
   "source": [
    "library(psych)\n",
    "table(data$EVER_SMOKED)\n",
    "plot(data$EVER_SMOKED)"
   ]
  },
  {
   "cell_type": "markdown",
   "metadata": {},
   "source": [
    "### 3. Model building (logistic regression) "
   ]
  },
  {
   "cell_type": "code",
   "execution_count": 45,
   "metadata": {},
   "outputs": [
    {
     "name": "stdout",
     "output_type": "stream",
     "text": [
      "\n",
      "Call:\n",
      "glm(formula = EVER_SMOKED ~ AGE + BIS_Cog_Instability + BIS_Perseverance + \n",
      "    BIS_self_control + BIS_Cog_Complexity + DOS_Ethical + DOS_Fin_Investment + \n",
      "    DOS_Fin_Gambling + DOS_HealthSafety + DOS_Recreational + \n",
      "    DOS_Social, family = \"binomial\", data = data)\n",
      "\n",
      "Deviance Residuals: \n",
      "    Min       1Q   Median       3Q      Max  \n",
      "-2.0779  -1.0723  -0.7701   1.1588   1.7531  \n",
      "\n",
      "Coefficients:\n",
      "                      Estimate Std. Error z value Pr(>|z|)    \n",
      "(Intercept)         -1.3635910  0.7076654  -1.927  0.05399 .  \n",
      "AGE                  0.0161641  0.0056168   2.878  0.00400 ** \n",
      "BIS_Cog_Instability  0.0973134  0.0359722   2.705  0.00683 ** \n",
      "BIS_Perseverance    -0.0004867  0.0318083  -0.015  0.98779    \n",
      "BIS_self_control    -0.0444875  0.0239007  -1.861  0.06269 .  \n",
      "BIS_Cog_Complexity  -0.0222689  0.0320642  -0.695  0.48736    \n",
      "DOS_Ethical          0.0137325  0.0127951   1.073  0.28316    \n",
      "DOS_Fin_Investment  -0.0418991  0.0164910  -2.541  0.01106 *  \n",
      "DOS_Fin_Gambling     0.0387110  0.0169700   2.281  0.02254 *  \n",
      "DOS_HealthSafety     0.0505472  0.0125004   4.044 5.26e-05 ***\n",
      "DOS_Recreational     0.0036855  0.0079994   0.461  0.64500    \n",
      "DOS_Social          -0.0013494  0.0120375  -0.112  0.91074    \n",
      "---\n",
      "Signif. codes:  0 '***' 0.001 '**' 0.01 '*' 0.05 '.' 0.1 ' ' 1\n",
      "\n",
      "(Dispersion parameter for binomial family taken to be 1)\n",
      "\n",
      "    Null deviance: 1547.5  on 1117  degrees of freedom\n",
      "Residual deviance: 1473.0  on 1106  degrees of freedom\n",
      "  (10 observations deleted due to missingness)\n",
      "AIC: 1497\n",
      "\n",
      "Number of Fisher Scoring iterations: 4\n",
      "\n"
     ]
    }
   ],
   "source": [
    "gg<-glm(EVER_SMOKED~AGE+BIS_Cog_Instability+BIS_Perseverance+BIS_self_control+BIS_Cog_Complexity+DOS_Ethical+DOS_Fin_Investment+DOS_Fin_Gambling+DOS_HealthSafety+DOS_Recreational+DOS_Social,data=data,family=\"binomial\")\n",
    "print(summary(gg))"
   ]
  },
  {
   "cell_type": "markdown",
   "metadata": {},
   "source": [
    "__ Notes: __ \n",
    "* __ Chi Squared: __ Cumulative probability of 0, meaning we reject the fit of the binomial model with logit link"
   ]
  },
  {
   "cell_type": "code",
   "execution_count": 46,
   "metadata": {},
   "outputs": [
    {
     "data": {
      "image/png": "[encoded data removed]",
      "text/plain": [
       "Plot with title \"\""
      ]
     },
     "metadata": {},
     "output_type": "display_data",
     "source": "R display func"
    }
   ],
   "source": [
    "#Code taken from \tRebecka Jörnsten assignments \n",
    "par(mfrow = c(3,3))\n",
    "res<-residuals(gg,\"pearson\")\n",
    "plot(logit(gg$fit),res,xlab=\"linear predictor\",ylab=\"pearson residual\")\n",
    "ll<-loess(res[sort.list(logit(gg$fit))]~sort(logit(gg$fit)))\n",
    "lines(ll$x,ll$fit,col=2)\n",
    "abline(h=0,lty=2)\n",
    "res<-residuals(gg,\"deviance\")\n",
    "plot(logit(gg$fit),res,xlab=\"linear predictor\",ylab=\"dev residual\")\n",
    "ll<-loess(res[sort.list(logit(gg$fit))]~sort(logit(gg$fit)))\n",
    "lines(ll$x,ll$fit,col=2)\n",
    "abline(h=0,lty=2)\n",
    "hh<-hatvalues(gg)\n",
    "plot(hh,type=\"h\",ylab=\"leverage\",xlab=\"index\")\n",
    "library(stats)\n",
    "dd<-cooks.distance(gg)\n",
    "plot(dd,type=\"h\",ylab=\"cooks distance\",xlab=\"index\")\n",
    "plot(gg)"
   ]
  },
  {
   "cell_type": "code",
   "execution_count": 47,
   "metadata": {},
   "outputs": [
    {
     "name": "stdout",
     "output_type": "stream",
     "text": [
      "Start:  AIC=1497.05\n",
      "EVER_SMOKED ~ AGE + BIS_Cog_Instability + BIS_Perseverance + \n",
      "    BIS_self_control + BIS_Cog_Complexity + DOS_Ethical + DOS_Fin_Investment + \n",
      "    DOS_Fin_Gambling + DOS_HealthSafety + DOS_Recreational + \n",
      "    DOS_Social\n",
      "\n",
      "                      Df Deviance    AIC\n",
      "- BIS_Perseverance     1   1473.0 1495.0\n",
      "- DOS_Social           1   1473.1 1495.1\n",
      "- DOS_Recreational     1   1473.3 1495.3\n",
      "- BIS_Cog_Complexity   1   1473.5 1495.5\n",
      "- DOS_Ethical          1   1474.2 1496.2\n",
      "<none>                     1473.0 1497.0\n",
      "- BIS_self_control     1   1476.5 1498.5\n",
      "- DOS_Fin_Gambling     1   1478.3 1500.3\n",
      "- DOS_Fin_Investment   1   1479.6 1501.6\n",
      "- BIS_Cog_Instability  1   1480.4 1502.4\n",
      "- AGE                  1   1481.4 1503.4\n",
      "- DOS_HealthSafety     1   1489.8 1511.8\n",
      "\n",
      "Step:  AIC=1495.05\n",
      "EVER_SMOKED ~ AGE + BIS_Cog_Instability + BIS_self_control + \n",
      "    BIS_Cog_Complexity + DOS_Ethical + DOS_Fin_Investment + DOS_Fin_Gambling + \n",
      "    DOS_HealthSafety + DOS_Recreational + DOS_Social\n",
      "\n",
      "                      Df Deviance    AIC\n",
      "- DOS_Social           1   1473.1 1493.1\n",
      "- DOS_Recreational     1   1473.3 1493.3\n",
      "- BIS_Cog_Complexity   1   1473.5 1493.5\n",
      "- DOS_Ethical          1   1474.2 1494.2\n",
      "<none>                     1473.0 1495.0\n",
      "- BIS_self_control     1   1476.6 1496.6\n",
      "- DOS_Fin_Gambling     1   1478.3 1498.3\n",
      "- DOS_Fin_Investment   1   1479.6 1499.6\n",
      "- BIS_Cog_Instability  1   1480.5 1500.5\n",
      "- AGE                  1   1481.5 1501.5\n",
      "- DOS_HealthSafety     1   1489.8 1509.8\n",
      "\n",
      "Step:  AIC=1493.06\n",
      "EVER_SMOKED ~ AGE + BIS_Cog_Instability + BIS_self_control + \n",
      "    BIS_Cog_Complexity + DOS_Ethical + DOS_Fin_Investment + DOS_Fin_Gambling + \n",
      "    DOS_HealthSafety + DOS_Recreational\n",
      "\n",
      "                      Df Deviance    AIC\n",
      "- DOS_Recreational     1   1473.3 1491.3\n",
      "- BIS_Cog_Complexity   1   1473.6 1491.6\n",
      "- DOS_Ethical          1   1474.3 1492.3\n",
      "<none>                     1473.1 1493.1\n",
      "- BIS_self_control     1   1476.6 1494.6\n",
      "- DOS_Fin_Gambling     1   1478.4 1496.4\n",
      "- DOS_Fin_Investment   1   1479.9 1497.9\n",
      "- BIS_Cog_Instability  1   1480.7 1498.7\n",
      "- AGE                  1   1481.5 1499.5\n",
      "- DOS_HealthSafety     1   1490.0 1508.0\n",
      "\n",
      "Step:  AIC=1491.26\n",
      "EVER_SMOKED ~ AGE + BIS_Cog_Instability + BIS_self_control + \n",
      "    BIS_Cog_Complexity + DOS_Ethical + DOS_Fin_Investment + DOS_Fin_Gambling + \n",
      "    DOS_HealthSafety\n",
      "\n",
      "                      Df Deviance    AIC\n",
      "- BIS_Cog_Complexity   1   1473.7 1489.7\n",
      "- DOS_Ethical          1   1474.4 1490.4\n",
      "<none>                     1473.3 1491.3\n",
      "- BIS_self_control     1   1477.0 1493.0\n",
      "- DOS_Fin_Gambling     1   1478.7 1494.7\n",
      "- DOS_Fin_Investment   1   1479.9 1495.9\n",
      "- BIS_Cog_Instability  1   1481.1 1497.1\n",
      "- AGE                  1   1481.5 1497.5\n",
      "- DOS_HealthSafety     1   1493.2 1509.2\n",
      "\n",
      "Step:  AIC=1489.7\n",
      "EVER_SMOKED ~ AGE + BIS_Cog_Instability + BIS_self_control + \n",
      "    DOS_Ethical + DOS_Fin_Investment + DOS_Fin_Gambling + DOS_HealthSafety\n",
      "\n",
      "                      Df Deviance    AIC\n",
      "- DOS_Ethical          1   1474.8 1488.8\n",
      "<none>                     1473.7 1489.7\n",
      "- BIS_self_control     1   1478.5 1492.5\n",
      "- DOS_Fin_Gambling     1   1479.0 1493.0\n",
      "- DOS_Fin_Investment   1   1480.6 1494.6\n",
      "- BIS_Cog_Instability  1   1481.2 1495.2\n",
      "- AGE                  1   1481.9 1495.9\n",
      "- DOS_HealthSafety     1   1493.5 1507.5\n",
      "\n",
      "Step:  AIC=1488.83\n",
      "EVER_SMOKED ~ AGE + BIS_Cog_Instability + BIS_self_control + \n",
      "    DOS_Fin_Investment + DOS_Fin_Gambling + DOS_HealthSafety\n",
      "\n",
      "                      Df Deviance    AIC\n",
      "<none>                     1474.8 1488.8\n",
      "- BIS_self_control     1   1479.6 1491.6\n",
      "- DOS_Fin_Gambling     1   1480.8 1492.8\n",
      "- DOS_Fin_Investment   1   1481.5 1493.5\n",
      "- AGE                  1   1482.5 1494.5\n",
      "- BIS_Cog_Instability  1   1482.7 1494.7\n",
      "- DOS_HealthSafety     1   1501.7 1513.7\n"
     ]
    },
    {
     "data": {
      "text/plain": [
       "\n",
       "Call:  glm(formula = EVER_SMOKED ~ AGE + BIS_Cog_Instability + BIS_self_control + \n",
       "    DOS_Fin_Investment + DOS_Fin_Gambling + DOS_HealthSafety, \n",
       "    family = \"binomial\", data = data)\n",
       "\n",
       "Coefficients:\n",
       "        (Intercept)                  AGE  BIS_Cog_Instability  \n",
       "           -1.42683              0.01507              0.09620  \n",
       "   BIS_self_control   DOS_Fin_Investment     DOS_Fin_Gambling  \n",
       "           -0.04972             -0.04063              0.04073  \n",
       "   DOS_HealthSafety  \n",
       "            0.05629  \n",
       "\n",
       "Degrees of Freedom: 1117 Total (i.e. Null);  1111 Residual\n",
       "  (10 observations deleted due to missingness)\n",
       "Null Deviance:\t    1547 \n",
       "Residual Deviance: 1475 \tAIC: 1489"
      ]
     },
     "metadata": {},
     "output_type": "display_data"
    }
   ],
   "source": [
    "step(gg)"
   ]
  },
  {
   "cell_type": "markdown",
   "metadata": {},
   "source": [
    "## Notes \n",
    "* __ Pearson Residuals plots: __Not an ideal plot along the 0 axis, but also not to bad. There is no values above the |ri| > 2 threshold. We tried some log transformed but no clear benefit. Overall happy enought to go forward. \n",
    "* __ Deviance Residuals: __ No values above the |di| > 2 threshold\n",
    "* __ Levergae & Cooks Distance: __ Only one extreme value in the cooks distance plot . \n",
    "* __ Link test: __ This test should have been preformed but we couldn't get the R code to work correctly. However, given the other result we would expect the plot not to display a linear tread, but rather a screw. "
   ]
  },
  {
   "cell_type": "code",
   "execution_count": 48,
   "metadata": {},
   "outputs": [
    {
     "name": "stdout",
     "output_type": "stream",
     "text": [
      "\n",
      "Call:\n",
      "glm(formula = EVER_SMOKED ~ AGE + BIS_Cog_Instability + BIS_self_control + \n",
      "    DOS_Fin_Investment + DOS_Fin_Gambling + DOS_HealthSafety, \n",
      "    family = \"binomial\", data = data)\n",
      "\n",
      "Deviance Residuals: \n",
      "    Min       1Q   Median       3Q      Max  \n",
      "-2.0651  -1.0767  -0.7767   1.1477   1.7919  \n",
      "\n",
      "Coefficients:\n",
      "                     Estimate Std. Error z value Pr(>|z|)    \n",
      "(Intercept)         -1.426828   0.586844  -2.431  0.01504 *  \n",
      "AGE                  0.015066   0.005456   2.761  0.00576 ** \n",
      "BIS_Cog_Instability  0.096200   0.034551   2.784  0.00536 ** \n",
      "BIS_self_control    -0.049719   0.022751  -2.185  0.02887 *  \n",
      "DOS_Fin_Investment  -0.040635   0.015822  -2.568  0.01022 *  \n",
      "DOS_Fin_Gambling     0.040731   0.016797   2.425  0.01531 *  \n",
      "DOS_HealthSafety     0.056294   0.011059   5.090 3.58e-07 ***\n",
      "---\n",
      "Signif. codes:  0 '***' 0.001 '**' 0.01 '*' 0.05 '.' 0.1 ' ' 1\n",
      "\n",
      "(Dispersion parameter for binomial family taken to be 1)\n",
      "\n",
      "    Null deviance: 1547.5  on 1117  degrees of freedom\n",
      "Residual deviance: 1474.8  on 1111  degrees of freedom\n",
      "  (10 observations deleted due to missingness)\n",
      "AIC: 1488.8\n",
      "\n",
      "Number of Fisher Scoring iterations: 4\n",
      "\n",
      "           [,1]        [,2]        [,3]        [,4]        [,5]        [,6]\n",
      "[1,]  1.0000000 -0.43552016 -0.42534908 -0.74493503 -0.08898630 -0.10642834\n",
      "[2,] -0.4355202  1.00000000  0.07782603  0.02403643 -0.06379464  0.01223520\n",
      "[3,] -0.4253491  0.07782603  1.00000000  0.05487450 -0.06458331  0.06224237\n",
      "[4,] -0.7449350  0.02403643  0.05487450  1.00000000 -0.01849634  0.11085250\n",
      "[5,] -0.0889863 -0.06379464 -0.06458331 -0.01849634  1.00000000 -0.37363576\n",
      "[6,] -0.1064283  0.01223520  0.06224237  0.11085250 -0.37363576  1.00000000\n",
      "[7,] -0.3966729  0.29086482 -0.17659533  0.13637663 -0.14627904 -0.19924198\n",
      "           [,7]\n",
      "[1,] -0.3966729\n",
      "[2,]  0.2908648\n",
      "[3,] -0.1765953\n",
      "[4,]  0.1363766\n",
      "[5,] -0.1462790\n",
      "[6,] -0.1992420\n",
      "[7,]  1.0000000\n"
     ]
    }
   ],
   "source": [
    "gg<-glm(EVER_SMOKED~AGE+BIS_Cog_Instability+BIS_self_control+DOS_Fin_Investment+DOS_Fin_Gambling+DOS_HealthSafety,data=data,family=\"binomial\")\n",
    "print(summary(gg))\n",
    "selg<-step(gg,trace=F)\n",
    "ss<-summary(selg)\n",
    "c2<-solve(diag(diag(ss$cov.sc)))^{1/2}%*%ss$cov.sc%*%solve(diag(diag(ss$cov.sc)))^{1/2}\n",
    "print(c2)\n"
   ]
  },
  {
   "cell_type": "code",
   "execution_count": 49,
   "metadata": {},
   "outputs": [
    {
     "data": {
      "image/png": "[encoded data removed]",
      "text/plain": [
       "Plot with title \"\""
      ]
     },
     "metadata": {},
     "output_type": "display_data",
     "source": "R display func"
    }
   ],
   "source": [
    "#Code taken from \tRebecka Jörnsten assignments \n",
    "par(mfrow = c(3,3))\n",
    "res<-residuals(gg,\"pearson\")\n",
    "plot(logit(gg$fit),res,xlab=\"linear predictor\",ylab=\"pearson residual\")\n",
    "ll<-loess(res[sort.list(logit(gg$fit))]~sort(logit(gg$fit)))\n",
    "lines(ll$x,ll$fit,col=2)\n",
    "abline(h=0,lty=2)\n",
    "res<-residuals(gg,\"deviance\")\n",
    "plot(logit(gg$fit),res,xlab=\"linear predictor\",ylab=\"dev residual\")\n",
    "ll<-loess(res[sort.list(logit(gg$fit))]~sort(logit(gg$fit)))\n",
    "lines(ll$x,ll$fit,col=2)\n",
    "abline(h=0,lty=2)\n",
    "hh<-hatvalues(gg)\n",
    "plot(hh,type=\"h\",ylab=\"leverage\",xlab=\"index\")\n",
    "library(stats)\n",
    "dd<-cooks.distance(gg)\n",
    "plot(dd,type=\"h\",ylab=\"cooks distance\",xlab=\"index\")\n",
    "plot(gg)"
   ]
  },
  {
   "cell_type": "markdown",
   "metadata": {},
   "source": [
    "### 4. Testing the interactions in the model "
   ]
  },
  {
   "cell_type": "code",
   "execution_count": 50,
   "metadata": {},
   "outputs": [
    {
     "name": "stdout",
     "output_type": "stream",
     "text": [
      "\n",
      "Call:\n",
      "glm(formula = EVER_SMOKED ~ (AGE + BIS_Cog_Instability + BIS_self_control + \n",
      "    DOS_Fin_Investment + DOS_Fin_Gambling + DOS_HealthSafety)^3, \n",
      "    family = \"binomial\", data = data)\n",
      "\n",
      "Deviance Residuals: \n",
      "    Min       1Q   Median       3Q      Max  \n",
      "-2.1791  -1.0573  -0.6802   1.1165   2.0314  \n",
      "\n",
      "Coefficients:\n",
      "                                                          Estimate Std. Error\n",
      "(Intercept)                                              1.2658733 10.3427343\n",
      "AGE                                                     -0.1622123  0.1892456\n",
      "BIS_Cog_Instability                                      0.4575775  1.2571285\n",
      "BIS_self_control                                         0.1266279  0.5159896\n",
      "DOS_Fin_Investment                                      -0.9471682  0.8208744\n",
      "DOS_Fin_Gambling                                         0.7314048  0.8844550\n",
      "DOS_HealthSafety                                        -0.0985885  0.4127452\n",
      "AGE:BIS_Cog_Instability                                  0.0247065  0.0245109\n",
      "AGE:BIS_self_control                                     0.0056527  0.0097847\n",
      "AGE:DOS_Fin_Investment                                  -0.0001495  0.0140195\n",
      "AGE:DOS_Fin_Gambling                                     0.0073540  0.0165788\n",
      "AGE:DOS_HealthSafety                                     0.0038190  0.0076197\n",
      "BIS_Cog_Instability:BIS_self_control                    -0.0776031  0.0645064\n",
      "BIS_Cog_Instability:DOS_Fin_Investment                   0.0749514  0.0757441\n",
      "BIS_Cog_Instability:DOS_Fin_Gambling                    -0.1545594  0.0822775\n",
      "BIS_Cog_Instability:DOS_HealthSafety                    -0.0006869  0.0425040\n",
      "BIS_self_control:DOS_Fin_Investment                      0.0318729  0.0381048\n",
      "BIS_self_control:DOS_Fin_Gambling                       -0.0693528  0.0419798\n",
      "BIS_self_control:DOS_HealthSafety                       -0.0001426  0.0205005\n",
      "DOS_Fin_Investment:DOS_Fin_Gambling                      0.0703361  0.0388163\n",
      "DOS_Fin_Investment:DOS_HealthSafety                      0.0163344  0.0219779\n",
      "DOS_Fin_Gambling:DOS_HealthSafety                        0.0010114  0.0211702\n",
      "AGE:BIS_Cog_Instability:BIS_self_control                -0.0005453  0.0012735\n",
      "AGE:BIS_Cog_Instability:DOS_Fin_Investment              -0.0009241  0.0008776\n",
      "AGE:BIS_Cog_Instability:DOS_Fin_Gambling                 0.0005376  0.0011866\n",
      "AGE:BIS_Cog_Instability:DOS_HealthSafety                -0.0006585  0.0005551\n",
      "AGE:BIS_self_control:DOS_Fin_Investment                  0.0001985  0.0006370\n",
      "AGE:BIS_self_control:DOS_Fin_Gambling                   -0.0002114  0.0007154\n",
      "AGE:BIS_self_control:DOS_HealthSafety                   -0.0001127  0.0003512\n",
      "AGE:DOS_Fin_Investment:DOS_Fin_Gambling                 -0.0002788  0.0004026\n",
      "AGE:DOS_Fin_Investment:DOS_HealthSafety                  0.0003151  0.0002451\n",
      "AGE:DOS_Fin_Gambling:DOS_HealthSafety                   -0.0002438  0.0002352\n",
      "BIS_Cog_Instability:BIS_self_control:DOS_Fin_Investment -0.0005675  0.0030131\n",
      "BIS_Cog_Instability:BIS_self_control:DOS_Fin_Gambling    0.0114528  0.0036843\n",
      "BIS_Cog_Instability:BIS_self_control:DOS_HealthSafety    0.0020385  0.0020853\n",
      "BIS_Cog_Instability:DOS_Fin_Investment:DOS_Fin_Gambling -0.0033645  0.0024472\n",
      "BIS_Cog_Instability:DOS_Fin_Investment:DOS_HealthSafety -0.0008479  0.0014571\n",
      "BIS_Cog_Instability:DOS_Fin_Gambling:DOS_HealthSafety   -0.0005983  0.0014940\n",
      "BIS_self_control:DOS_Fin_Investment:DOS_Fin_Gambling    -0.0022693  0.0013011\n",
      "BIS_self_control:DOS_Fin_Investment:DOS_HealthSafety    -0.0011278  0.0009481\n",
      "BIS_self_control:DOS_Fin_Gambling:DOS_HealthSafety       0.0006872  0.0009292\n",
      "DOS_Fin_Investment:DOS_Fin_Gambling:DOS_HealthSafety    -0.0001097  0.0005723\n",
      "                                                        z value Pr(>|z|)   \n",
      "(Intercept)                                               0.122  0.90259   \n",
      "AGE                                                      -0.857  0.39136   \n",
      "BIS_Cog_Instability                                       0.364  0.71587   \n",
      "BIS_self_control                                          0.245  0.80614   \n",
      "DOS_Fin_Investment                                       -1.154  0.24856   \n",
      "DOS_Fin_Gambling                                          0.827  0.40826   \n",
      "DOS_HealthSafety                                         -0.239  0.81121   \n",
      "AGE:BIS_Cog_Instability                                   1.008  0.31346   \n",
      "AGE:BIS_self_control                                      0.578  0.56346   \n",
      "AGE:DOS_Fin_Investment                                   -0.011  0.99149   \n",
      "AGE:DOS_Fin_Gambling                                      0.444  0.65735   \n",
      "AGE:DOS_HealthSafety                                      0.501  0.61623   \n",
      "BIS_Cog_Instability:BIS_self_control                     -1.203  0.22896   \n",
      "BIS_Cog_Instability:DOS_Fin_Investment                    0.990  0.32240   \n",
      "BIS_Cog_Instability:DOS_Fin_Gambling                     -1.879  0.06031 . \n",
      "BIS_Cog_Instability:DOS_HealthSafety                     -0.016  0.98711   \n",
      "BIS_self_control:DOS_Fin_Investment                       0.836  0.40290   \n",
      "BIS_self_control:DOS_Fin_Gambling                        -1.652  0.09852 . \n",
      "BIS_self_control:DOS_HealthSafety                        -0.007  0.99445   \n",
      "DOS_Fin_Investment:DOS_Fin_Gambling                       1.812  0.06998 . \n",
      "DOS_Fin_Investment:DOS_HealthSafety                       0.743  0.45735   \n",
      "DOS_Fin_Gambling:DOS_HealthSafety                         0.048  0.96190   \n",
      "AGE:BIS_Cog_Instability:BIS_self_control                 -0.428  0.66851   \n",
      "AGE:BIS_Cog_Instability:DOS_Fin_Investment               -1.053  0.29234   \n",
      "AGE:BIS_Cog_Instability:DOS_Fin_Gambling                  0.453  0.65047   \n",
      "AGE:BIS_Cog_Instability:DOS_HealthSafety                 -1.186  0.23552   \n",
      "AGE:BIS_self_control:DOS_Fin_Investment                   0.312  0.75539   \n",
      "AGE:BIS_self_control:DOS_Fin_Gambling                    -0.295  0.76763   \n",
      "AGE:BIS_self_control:DOS_HealthSafety                    -0.321  0.74831   \n",
      "AGE:DOS_Fin_Investment:DOS_Fin_Gambling                  -0.693  0.48852   \n",
      "AGE:DOS_Fin_Investment:DOS_HealthSafety                   1.286  0.19857   \n",
      "AGE:DOS_Fin_Gambling:DOS_HealthSafety                    -1.037  0.29996   \n",
      "BIS_Cog_Instability:BIS_self_control:DOS_Fin_Investment  -0.188  0.85062   \n",
      "BIS_Cog_Instability:BIS_self_control:DOS_Fin_Gambling     3.109  0.00188 **\n",
      "BIS_Cog_Instability:BIS_self_control:DOS_HealthSafety     0.978  0.32829   \n",
      "BIS_Cog_Instability:DOS_Fin_Investment:DOS_Fin_Gambling  -1.375  0.16919   \n",
      "BIS_Cog_Instability:DOS_Fin_Investment:DOS_HealthSafety  -0.582  0.56063   \n",
      "BIS_Cog_Instability:DOS_Fin_Gambling:DOS_HealthSafety    -0.400  0.68881   \n",
      "BIS_self_control:DOS_Fin_Investment:DOS_Fin_Gambling     -1.744  0.08114 . \n",
      "BIS_self_control:DOS_Fin_Investment:DOS_HealthSafety     -1.189  0.23427   \n",
      "BIS_self_control:DOS_Fin_Gambling:DOS_HealthSafety        0.740  0.45955   \n",
      "DOS_Fin_Investment:DOS_Fin_Gambling:DOS_HealthSafety     -0.192  0.84800   \n",
      "---\n",
      "Signif. codes:  0 '***' 0.001 '**' 0.01 '*' 0.05 '.' 0.1 ' ' 1\n",
      "\n",
      "(Dispersion parameter for binomial family taken to be 1)\n",
      "\n",
      "    Null deviance: 1547.5  on 1117  degrees of freedom\n",
      "Residual deviance: 1434.0  on 1076  degrees of freedom\n",
      "  (10 observations deleted due to missingness)\n",
      "AIC: 1518\n",
      "\n",
      "Number of Fisher Scoring iterations: 4\n",
      "\n"
     ]
    }
   ],
   "source": [
    "gg<-glm(EVER_SMOKED~(AGE+BIS_Cog_Instability+BIS_self_control+DOS_Fin_Investment+DOS_Fin_Gambling+DOS_HealthSafety)^3,data=data,family=\"binomial\")\n",
    "print(summary(gg))"
   ]
  },
  {
   "cell_type": "code",
   "execution_count": 53,
   "metadata": {},
   "outputs": [
    {
     "name": "stdout",
     "output_type": "stream",
     "text": [
      "\n",
      "Call:\n",
      "glm(formula = EVER_SMOKED ~ AGE + BIS_Cog_Instability + BIS_self_control + \n",
      "    DOS_Fin_Investment + DOS_Fin_Gambling + DOS_HealthSafety + \n",
      "    BIS_Cog_Instability * BIS_self_control * DOS_Fin_Gambling, \n",
      "    family = \"binomial\", data = data)\n",
      "\n",
      "Deviance Residuals: \n",
      "    Min       1Q   Median       3Q      Max  \n",
      "-2.5732  -1.0636  -0.7473   1.1322   1.9398  \n",
      "\n",
      "Coefficients:\n",
      "                                                       Estimate Std. Error\n",
      "(Intercept)                                           -8.567854   2.844747\n",
      "AGE                                                    0.015186   0.005512\n",
      "BIS_Cog_Instability                                    1.051475   0.356666\n",
      "BIS_self_control                                       0.357497   0.163014\n",
      "DOS_Fin_Investment                                    -0.041784   0.016050\n",
      "DOS_Fin_Gambling                                       1.516307   0.398713\n",
      "DOS_HealthSafety                                       0.055738   0.011133\n",
      "BIS_Cog_Instability:BIS_self_control                  -0.054833   0.020686\n",
      "BIS_Cog_Instability:DOS_Fin_Gambling                  -0.193914   0.049276\n",
      "BIS_self_control:DOS_Fin_Gambling                     -0.086985   0.024129\n",
      "BIS_Cog_Instability:BIS_self_control:DOS_Fin_Gambling  0.011530   0.003029\n",
      "                                                      z value Pr(>|z|)    \n",
      "(Intercept)                                            -3.012 0.002597 ** \n",
      "AGE                                                     2.755 0.005867 ** \n",
      "BIS_Cog_Instability                                     2.948 0.003198 ** \n",
      "BIS_self_control                                        2.193 0.028304 *  \n",
      "DOS_Fin_Investment                                     -2.603 0.009230 ** \n",
      "DOS_Fin_Gambling                                        3.803 0.000143 ***\n",
      "DOS_HealthSafety                                        5.006 5.54e-07 ***\n",
      "BIS_Cog_Instability:BIS_self_control                   -2.651 0.008032 ** \n",
      "BIS_Cog_Instability:DOS_Fin_Gambling                   -3.935 8.31e-05 ***\n",
      "BIS_self_control:DOS_Fin_Gambling                      -3.605 0.000312 ***\n",
      "BIS_Cog_Instability:BIS_self_control:DOS_Fin_Gambling   3.807 0.000141 ***\n",
      "---\n",
      "Signif. codes:  0 '***' 0.001 '**' 0.01 '*' 0.05 '.' 0.1 ' ' 1\n",
      "\n",
      "(Dispersion parameter for binomial family taken to be 1)\n",
      "\n",
      "    Null deviance: 1547.5  on 1117  degrees of freedom\n",
      "Residual deviance: 1455.9  on 1107  degrees of freedom\n",
      "  (10 observations deleted due to missingness)\n",
      "AIC: 1477.9\n",
      "\n",
      "Number of Fisher Scoring iterations: 4\n",
      "\n",
      "             [,1]         [,2]         [,3]         [,4]         [,5]\n",
      " [1,]  1.00000000 -0.079921649 -0.963919300 -0.980387670 -0.026665789\n",
      " [2,] -0.07992165  1.000000000  0.002311960 -0.007440084 -0.067778899\n",
      " [3,] -0.96391930  0.002311960  1.000000000  0.958911518  0.005414248\n",
      " [4,] -0.98038767 -0.007440084  0.958911518  1.000000000  0.004414419\n",
      " [5,] -0.02666579 -0.067778899  0.005414248  0.004414419  1.000000000\n",
      " [6,] -0.81991063  0.002294131  0.796589326  0.831536193 -0.035791821\n",
      " [7,] -0.05363298  0.294874774 -0.048725773 -0.009264748 -0.151957388\n",
      " [8,]  0.94519653  0.004463093 -0.984027583 -0.968933614 -0.009820631\n",
      " [9,]  0.80541141 -0.008836547 -0.822929531 -0.819339490  0.017929451\n",
      "[10,]  0.78577638 -0.001981300 -0.765676643 -0.820871125  0.022117666\n",
      "[11,] -0.76248274  0.009593968  0.783840195  0.800894591 -0.020510009\n",
      "              [,6]         [,7]         [,8]         [,9]        [,10]\n",
      " [1,] -0.819910631 -0.053632979  0.945196531  0.805411407  0.785776378\n",
      " [2,]  0.002294131  0.294874774  0.004463093 -0.008836547 -0.001981300\n",
      " [3,]  0.796589326 -0.048725773 -0.984027583 -0.822929531 -0.765676643\n",
      " [4,]  0.831536193 -0.009264748 -0.968933614 -0.819339490 -0.820871125\n",
      " [5,] -0.035791821 -0.151957388 -0.009820631  0.017929451  0.022117666\n",
      " [6,]  1.000000000 -0.012368288 -0.799615824 -0.976421980 -0.984750764\n",
      " [7,] -0.012368288  1.000000000  0.030778048  0.005184369  0.002781215\n",
      " [8,] -0.799615824  0.030778048  1.000000000  0.831586302  0.793901504\n",
      " [9,] -0.976421980  0.005184369  0.831586302  1.000000000  0.967739876\n",
      "[10,] -0.984750764  0.002781215  0.793901504  0.967739876  1.000000000\n",
      "[11,]  0.953558505 -0.003738074 -0.819059894 -0.983633734 -0.975437452\n",
      "             [,11]\n",
      " [1,] -0.762482745\n",
      " [2,]  0.009593968\n",
      " [3,]  0.783840195\n",
      " [4,]  0.800894591\n",
      " [5,] -0.020510009\n",
      " [6,]  0.953558505\n",
      " [7,] -0.003738074\n",
      " [8,] -0.819059894\n",
      " [9,] -0.983633734\n",
      "[10,] -0.975437452\n",
      "[11,]  1.000000000\n"
     ]
    }
   ],
   "source": [
    "gg<-glm(EVER_SMOKED~AGE+BIS_Cog_Instability+BIS_self_control+DOS_Fin_Investment+DOS_Fin_Gambling+DOS_HealthSafety+BIS_Cog_Instability*BIS_self_control*DOS_Fin_Gambling ,data=data,family=\"binomial\")\n",
    "print(summary(gg))\n",
    "selg<-step(gg,trace=F)\n",
    "ss<-summary(selg)\n",
    "c2<-solve(diag(diag(ss$cov.sc)))^{1/2}%*%ss$cov.sc%*%solve(diag(diag(ss$cov.sc)))^{1/2}\n",
    "print(c2)\n"
   ]
  },
  {
   "cell_type": "markdown",
   "metadata": {},
   "source": [
    "__ Notes__ \n",
    "* We test  the model for all two and three ways interactions. We find and inc a set of signifinant two way interactions and a three way interaction as well. __ However __ we are not going to include this in our final model because it's dosen't include any better prediction. There is also very strong collintary \n",
    "* We did this with both * and : "
   ]
  },
  {
   "cell_type": "markdown",
   "metadata": {},
   "source": [
    "### 5. Testing final model. \n",
    "* We could have run some more model selection tests, such as backward model sectional and cross validation. However with limited time we now move to testing the model on our test dataset. "
   ]
  },
  {
   "cell_type": "code",
   "execution_count": 60,
   "metadata": {},
   "outputs": [
    {
     "data": {
      "text/plain": [
       "   \n",
       "pp   No Yes\n",
       "  1   1 199"
      ]
     },
     "metadata": {},
     "output_type": "display_data"
    },
    {
     "name": "stdout",
     "output_type": "stream",
     "text": [
      "[1] \"Misclassification error=\" \"1\"                       \n"
     ]
    }
   ],
   "source": [
    "gg<-glm(EVER_SMOKED~AGE+BIS_Cog_Instability+BIS_self_control+DOS_Fin_Investment+DOS_Fin_Gambling+DOS_HealthSafety ,data=test_data,family=\"binomial\")\n",
    "\n",
    "selg<-step(gg,trace=F)\n",
    "\n",
    "pp<-predict(selg,type=\"response\")\n",
    "pp[pp<.5]<-0\n",
    "pp[pp>=.5]<-1\n",
    "table(pp,test_data$EVER_SMOKED)\n",
    "print(c(\"Misclassification error=\", round(sum(pp!=test_data$EVER_SMOKED)/length(test_data$EVER_SMOKED),3)))\n"
   ]
  },
  {
   "cell_type": "code",
   "execution_count": 58,
   "metadata": {},
   "outputs": [
    {
     "data": {
      "image/png": "[encoded data removed]",
      "text/plain": [
       "plot without title"
      ]
     },
     "metadata": {},
     "output_type": "display_data",
     "source": "R display func"
    }
   ],
   "source": [
    "plot(test_data$EVER_SMOKED)"
   ]
  },
  {
   "cell_type": "code",
   "execution_count": null,
   "metadata": {},
   "outputs": [],
   "source": [
    "gg<-glm(EVER_SMOKED~AGE+BIS_Cog_Instability+BIS_self_control+DOS_Fin_Investment+DOS_Fin_Gambling+DOS_HealthSafety ,data=test_data,family=\"binomial\")\n",
    "\n",
    "\n",
    "library(tree)\n",
    "tree1 <- tree(EVER_SMOKED ~ BIS_Cog_Instability + AGE + BIS_self_control + DOS_Fin_Investment + , data = data)\n",
    "\n",
    "#par(nfrow=c(1,1))\n",
    "plot(tree1)\n",
    "text(tree1)\n"
   ]
  }
 ],
 "metadata": {
  "kernelspec": {
   "display_name": "R",
   "language": "R",
   "name": "ir"
  },
  "language_info": {
   "codemirror_mode": "r",
   "file_extension": ".r",
   "mimetype": "text/x-r-source",
   "name": "R",
   "pygments_lexer": "r",
   "version": "3.4.2"
  }
 },
 "nbformat": 4,
 "nbformat_minor": 2
}
